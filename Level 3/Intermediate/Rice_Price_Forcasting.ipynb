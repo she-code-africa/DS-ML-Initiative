{
  "nbformat": 4,
  "nbformat_minor": 0,
  "metadata": {
    "kernelspec": {
      "display_name": "Python 3",
      "language": "python",
      "name": "python3"
    },
    "language_info": {
      "codemirror_mode": {
        "name": "ipython",
        "version": 3
      },
      "file_extension": ".py",
      "mimetype": "text/x-python",
      "name": "python",
      "nbconvert_exporter": "python",
      "pygments_lexer": "ipython3",
      "version": "3.8.3"
    },
    "colab": {
      "name": "Rice Price Forcasting.ipynb",
      "provenance": [],
      "collapsed_sections": [
        "az28sLnMC6-V",
        "nP5YstomC6-V",
        "zuOJeti6C6-W",
        "OgMoSWHuC6-Y",
        "XMghPWBqC6-Z",
        "fpEMfBvSC6-a",
        "yYhlqef0JrCv"
      ]
    }
  },
  "cells": [
    {
      "cell_type": "markdown",
      "metadata": {
        "id": "iBuViPJBC6-O"
      },
      "source": [
        "# Rice Price Forcast, Using Time Series\n",
        "\n",
        "Background \n",
        "- Rice is one of the one of the most consumed staples in Nigeria, which can be made into different forms. It made up to the 10% of household food spending in nigeria. In 2015 the nigeria government placed a ban on importation of rice to encourage a local local production, this in turn gave rise to high of demand of the locally produced rice.\n",
        "source -  [medium-thrive-agric](https://medium.com/thrive-agric/rice-production-in-nigeria-7ef4918ced6a#:~:text=Nigeria%20is%20the%20largest%20producer,being%20the%20top%20producing%20country)\n",
        "\n",
        "Tasks\n",
        "- The task is to forecast the wholesales prices of Local Rice in nigeria for the next 12months\n",
        "\n",
        "Time Series Forecasting\n",
        "- Time series forecasting is a technique for predicting events through a time sequence.\n",
        "    \n",
        "Data\n",
        "- The data was provided through with the assigned tasks, it contains the price list of different consumables in nigeria, since the task is to forecast the price of the wholesale price of local rice, we will be selecting only the rows containing the wholesale price in Nigeria for the analysis\n"
      ]
    },
    {
      "cell_type": "markdown",
      "metadata": {
        "id": "CAzGInDfC6-Q"
      },
      "source": [
        "# Import some of the necessary libraries for data exploration."
      ]
    },
    {
      "cell_type": "code",
      "metadata": {
        "id": "F4RUBf8FC6-Q"
      },
      "source": [
        "import pandas as pd \n",
        "import numpy as np\n",
        "import matplotlib.pyplot as plt\n",
        "import warnings\n",
        "import seaborn as sns\n",
        "import datetime as dt\n",
        "warnings.filterwarnings('ignore')\n",
        "plt.style.use('ggplot')\n",
        "%matplotlib inline"
      ],
      "execution_count": null,
      "outputs": []
    },
    {
      "cell_type": "code",
      "metadata": {
        "colab": {
          "base_uri": "https://localhost:8080/"
        },
        "id": "fWgnf2nDDOR_",
        "outputId": "4fc96dd8-1b60-4934-c466-b4346a32fd88"
      },
      "source": [
        "from google.colab import drive\r\n",
        "drive.mount('/content/drive')"
      ],
      "execution_count": null,
      "outputs": [
        {
          "output_type": "stream",
          "text": [
            "Drive already mounted at /content/drive; to attempt to forcibly remount, call drive.mount(\"/content/drive\", force_remount=True).\n"
          ],
          "name": "stdout"
        }
      ]
    },
    {
      "cell_type": "code",
      "metadata": {
        "colab": {
          "base_uri": "https://localhost:8080/",
          "height": 361
        },
        "id": "0hkp7VFVC6-Q",
        "outputId": "5162707c-5736-496c-944d-5a2dd6c03fd8"
      },
      "source": [
        "#import and read the data\n",
        "data = pd.read_csv('/content/drive/MyDrive/Codes/wfp_food_median_prices_nigeria (1).csv')\n",
        "data.head()"
      ],
      "execution_count": null,
      "outputs": [
        {
          "output_type": "execute_result",
          "data": {
            "text/html": [
              "<div>\n",
              "<style scoped>\n",
              "    .dataframe tbody tr th:only-of-type {\n",
              "        vertical-align: middle;\n",
              "    }\n",
              "\n",
              "    .dataframe tbody tr th {\n",
              "        vertical-align: top;\n",
              "    }\n",
              "\n",
              "    .dataframe thead th {\n",
              "        text-align: right;\n",
              "    }\n",
              "</style>\n",
              "<table border=\"1\" class=\"dataframe\">\n",
              "  <thead>\n",
              "    <tr style=\"text-align: right;\">\n",
              "      <th></th>\n",
              "      <th>date</th>\n",
              "      <th>cmname</th>\n",
              "      <th>unit</th>\n",
              "      <th>category</th>\n",
              "      <th>price</th>\n",
              "      <th>currency</th>\n",
              "      <th>country</th>\n",
              "      <th>admname</th>\n",
              "      <th>adm1id</th>\n",
              "      <th>mktname</th>\n",
              "      <th>mktid</th>\n",
              "      <th>cmid</th>\n",
              "      <th>ptid</th>\n",
              "      <th>umid</th>\n",
              "      <th>catid</th>\n",
              "      <th>sn</th>\n",
              "      <th>default</th>\n",
              "      <th>year</th>\n",
              "      <th>label</th>\n",
              "      <th>cmnameshort</th>\n",
              "      <th>scaling</th>\n",
              "      <th>interpolated</th>\n",
              "      <th>x</th>\n",
              "    </tr>\n",
              "  </thead>\n",
              "  <tbody>\n",
              "    <tr>\n",
              "      <th>0</th>\n",
              "      <td>#date</td>\n",
              "      <td>#item+name</td>\n",
              "      <td>#item+unit</td>\n",
              "      <td>#item+type</td>\n",
              "      <td>#value</td>\n",
              "      <td>#currency</td>\n",
              "      <td>#country+name</td>\n",
              "      <td>#adm1+name</td>\n",
              "      <td>#adm1+code</td>\n",
              "      <td>#name+market</td>\n",
              "      <td>NaN</td>\n",
              "      <td>#item+code</td>\n",
              "      <td>NaN</td>\n",
              "      <td>NaN</td>\n",
              "      <td>#item+type+code</td>\n",
              "      <td>#meta+id</td>\n",
              "      <td>NaN</td>\n",
              "      <td>0.0</td>\n",
              "      <td>#item+label</td>\n",
              "      <td>#item+name+short</td>\n",
              "      <td>NaN</td>\n",
              "      <td>NaN</td>\n",
              "      <td>NaN</td>\n",
              "    </tr>\n",
              "    <tr>\n",
              "      <th>1</th>\n",
              "      <td>2015-01-15</td>\n",
              "      <td>Bananas - Retail</td>\n",
              "      <td>1.3 KG</td>\n",
              "      <td>vegetables and fruits</td>\n",
              "      <td>250.0</td>\n",
              "      <td>NaN</td>\n",
              "      <td>NaN</td>\n",
              "      <td>NaN</td>\n",
              "      <td>NaN</td>\n",
              "      <td>NaN</td>\n",
              "      <td>NaN</td>\n",
              "      <td>254</td>\n",
              "      <td>NaN</td>\n",
              "      <td>NaN</td>\n",
              "      <td>4</td>\n",
              "      <td>NaN</td>\n",
              "      <td>NaN</td>\n",
              "      <td>NaN</td>\n",
              "      <td>Bananas - Retail (1.3 KG)</td>\n",
              "      <td>Bananas</td>\n",
              "      <td>1.0</td>\n",
              "      <td>1.0</td>\n",
              "      <td>NaN</td>\n",
              "    </tr>\n",
              "    <tr>\n",
              "      <th>2</th>\n",
              "      <td>2015-02-15</td>\n",
              "      <td>Bananas - Retail</td>\n",
              "      <td>1.3 KG</td>\n",
              "      <td>vegetables and fruits</td>\n",
              "      <td>250.0</td>\n",
              "      <td>NaN</td>\n",
              "      <td>NaN</td>\n",
              "      <td>NaN</td>\n",
              "      <td>NaN</td>\n",
              "      <td>NaN</td>\n",
              "      <td>NaN</td>\n",
              "      <td>254</td>\n",
              "      <td>NaN</td>\n",
              "      <td>NaN</td>\n",
              "      <td>4</td>\n",
              "      <td>NaN</td>\n",
              "      <td>NaN</td>\n",
              "      <td>NaN</td>\n",
              "      <td>Bananas - Retail (1.3 KG)</td>\n",
              "      <td>Bananas</td>\n",
              "      <td>1.0</td>\n",
              "      <td>1.0</td>\n",
              "      <td>NaN</td>\n",
              "    </tr>\n",
              "    <tr>\n",
              "      <th>3</th>\n",
              "      <td>2015-03-15</td>\n",
              "      <td>Bananas - Retail</td>\n",
              "      <td>1.3 KG</td>\n",
              "      <td>vegetables and fruits</td>\n",
              "      <td>250.0</td>\n",
              "      <td>NaN</td>\n",
              "      <td>NaN</td>\n",
              "      <td>NaN</td>\n",
              "      <td>NaN</td>\n",
              "      <td>NaN</td>\n",
              "      <td>NaN</td>\n",
              "      <td>254</td>\n",
              "      <td>NaN</td>\n",
              "      <td>NaN</td>\n",
              "      <td>4</td>\n",
              "      <td>NaN</td>\n",
              "      <td>NaN</td>\n",
              "      <td>NaN</td>\n",
              "      <td>Bananas - Retail (1.3 KG)</td>\n",
              "      <td>Bananas</td>\n",
              "      <td>1.0</td>\n",
              "      <td>1.0</td>\n",
              "      <td>NaN</td>\n",
              "    </tr>\n",
              "    <tr>\n",
              "      <th>4</th>\n",
              "      <td>2015-04-15</td>\n",
              "      <td>Bananas - Retail</td>\n",
              "      <td>1.3 KG</td>\n",
              "      <td>vegetables and fruits</td>\n",
              "      <td>250.0</td>\n",
              "      <td>NaN</td>\n",
              "      <td>NaN</td>\n",
              "      <td>NaN</td>\n",
              "      <td>NaN</td>\n",
              "      <td>NaN</td>\n",
              "      <td>NaN</td>\n",
              "      <td>254</td>\n",
              "      <td>NaN</td>\n",
              "      <td>NaN</td>\n",
              "      <td>4</td>\n",
              "      <td>NaN</td>\n",
              "      <td>NaN</td>\n",
              "      <td>NaN</td>\n",
              "      <td>Bananas - Retail (1.3 KG)</td>\n",
              "      <td>Bananas</td>\n",
              "      <td>1.0</td>\n",
              "      <td>1.0</td>\n",
              "      <td>NaN</td>\n",
              "    </tr>\n",
              "  </tbody>\n",
              "</table>\n",
              "</div>"
            ],
            "text/plain": [
              "         date            cmname        unit  ... scaling interpolated   x\n",
              "0       #date        #item+name  #item+unit  ...     NaN          NaN NaN\n",
              "1  2015-01-15  Bananas - Retail      1.3 KG  ...     1.0          1.0 NaN\n",
              "2  2015-02-15  Bananas - Retail      1.3 KG  ...     1.0          1.0 NaN\n",
              "3  2015-03-15  Bananas - Retail      1.3 KG  ...     1.0          1.0 NaN\n",
              "4  2015-04-15  Bananas - Retail      1.3 KG  ...     1.0          1.0 NaN\n",
              "\n",
              "[5 rows x 23 columns]"
            ]
          },
          "metadata": {
            "tags": []
          },
          "execution_count": 62
        }
      ]
    },
    {
      "cell_type": "markdown",
      "metadata": {
        "id": "CPhDha7dC6-R"
      },
      "source": [
        "# General Data Exploration"
      ]
    },
    {
      "cell_type": "code",
      "metadata": {
        "colab": {
          "base_uri": "https://localhost:8080/"
        },
        "id": "PgOBCIJ6C6-R",
        "outputId": "df78d84e-2d0a-49d2-9a27-b22c065ecd82"
      },
      "source": [
        "data.info()"
      ],
      "execution_count": null,
      "outputs": [
        {
          "output_type": "stream",
          "text": [
            "<class 'pandas.core.frame.DataFrame'>\n",
            "RangeIndex: 5473 entries, 0 to 5472\n",
            "Data columns (total 23 columns):\n",
            " #   Column        Non-Null Count  Dtype  \n",
            "---  ------        --------------  -----  \n",
            " 0   date          5473 non-null   object \n",
            " 1   cmname        5473 non-null   object \n",
            " 2   unit          5473 non-null   object \n",
            " 3   category      5473 non-null   object \n",
            " 4   price         5473 non-null   object \n",
            " 5   currency      3515 non-null   object \n",
            " 6   country       3515 non-null   object \n",
            " 7   admname       3515 non-null   object \n",
            " 8   adm1id        3515 non-null   object \n",
            " 9   mktname       3515 non-null   object \n",
            " 10  mktid         3514 non-null   float64\n",
            " 11  cmid          5473 non-null   object \n",
            " 12  ptid          3514 non-null   float64\n",
            " 13  umid          3514 non-null   float64\n",
            " 14  catid         5473 non-null   object \n",
            " 15  sn            3515 non-null   object \n",
            " 16  default       0 non-null      float64\n",
            " 17  year          3515 non-null   float64\n",
            " 18  label         5473 non-null   object \n",
            " 19  cmnameshort   5473 non-null   object \n",
            " 20  scaling       5472 non-null   float64\n",
            " 21  interpolated  5472 non-null   float64\n",
            " 22  x             3514 non-null   float64\n",
            "dtypes: float64(8), object(15)\n",
            "memory usage: 983.6+ KB\n"
          ],
          "name": "stdout"
        }
      ]
    },
    {
      "cell_type": "code",
      "metadata": {
        "colab": {
          "base_uri": "https://localhost:8080/",
          "height": 475
        },
        "id": "ibToZlPWC6-R",
        "outputId": "bf59a289-c5a1-41a7-d1a1-742dd190abb8"
      },
      "source": [
        "data.describe(include='all')"
      ],
      "execution_count": null,
      "outputs": [
        {
          "output_type": "execute_result",
          "data": {
            "text/html": [
              "<div>\n",
              "<style scoped>\n",
              "    .dataframe tbody tr th:only-of-type {\n",
              "        vertical-align: middle;\n",
              "    }\n",
              "\n",
              "    .dataframe tbody tr th {\n",
              "        vertical-align: top;\n",
              "    }\n",
              "\n",
              "    .dataframe thead th {\n",
              "        text-align: right;\n",
              "    }\n",
              "</style>\n",
              "<table border=\"1\" class=\"dataframe\">\n",
              "  <thead>\n",
              "    <tr style=\"text-align: right;\">\n",
              "      <th></th>\n",
              "      <th>date</th>\n",
              "      <th>cmname</th>\n",
              "      <th>unit</th>\n",
              "      <th>category</th>\n",
              "      <th>price</th>\n",
              "      <th>currency</th>\n",
              "      <th>country</th>\n",
              "      <th>admname</th>\n",
              "      <th>adm1id</th>\n",
              "      <th>mktname</th>\n",
              "      <th>mktid</th>\n",
              "      <th>cmid</th>\n",
              "      <th>ptid</th>\n",
              "      <th>umid</th>\n",
              "      <th>catid</th>\n",
              "      <th>sn</th>\n",
              "      <th>default</th>\n",
              "      <th>year</th>\n",
              "      <th>label</th>\n",
              "      <th>cmnameshort</th>\n",
              "      <th>scaling</th>\n",
              "      <th>interpolated</th>\n",
              "      <th>x</th>\n",
              "    </tr>\n",
              "  </thead>\n",
              "  <tbody>\n",
              "    <tr>\n",
              "      <th>count</th>\n",
              "      <td>5473</td>\n",
              "      <td>5473</td>\n",
              "      <td>5473</td>\n",
              "      <td>5473</td>\n",
              "      <td>5473</td>\n",
              "      <td>3515</td>\n",
              "      <td>3515</td>\n",
              "      <td>3515</td>\n",
              "      <td>3515</td>\n",
              "      <td>3515</td>\n",
              "      <td>3514.000000</td>\n",
              "      <td>5473</td>\n",
              "      <td>3514.000000</td>\n",
              "      <td>3514.000000</td>\n",
              "      <td>5473</td>\n",
              "      <td>3515</td>\n",
              "      <td>0.0</td>\n",
              "      <td>3515.000000</td>\n",
              "      <td>5473</td>\n",
              "      <td>5473</td>\n",
              "      <td>5472.000000</td>\n",
              "      <td>5472.000000</td>\n",
              "      <td>3.514000e+03</td>\n",
              "    </tr>\n",
              "    <tr>\n",
              "      <th>unique</th>\n",
              "      <td>73</td>\n",
              "      <td>55</td>\n",
              "      <td>28</td>\n",
              "      <td>8</td>\n",
              "      <td>1942</td>\n",
              "      <td>2</td>\n",
              "      <td>2</td>\n",
              "      <td>15</td>\n",
              "      <td>15</td>\n",
              "      <td>40</td>\n",
              "      <td>NaN</td>\n",
              "      <td>39</td>\n",
              "      <td>NaN</td>\n",
              "      <td>NaN</td>\n",
              "      <td>8</td>\n",
              "      <td>727</td>\n",
              "      <td>NaN</td>\n",
              "      <td>NaN</td>\n",
              "      <td>77</td>\n",
              "      <td>55</td>\n",
              "      <td>NaN</td>\n",
              "      <td>NaN</td>\n",
              "      <td>NaN</td>\n",
              "    </tr>\n",
              "    <tr>\n",
              "      <th>top</th>\n",
              "      <td>2017-01-15</td>\n",
              "      <td>Oil (palm) - Wholesale</td>\n",
              "      <td>KG</td>\n",
              "      <td>cereals and tubers</td>\n",
              "      <td>250.0</td>\n",
              "      <td>NGN</td>\n",
              "      <td>Nigeria</td>\n",
              "      <td>Borno</td>\n",
              "      <td>2216.0</td>\n",
              "      <td>Budum</td>\n",
              "      <td>NaN</td>\n",
              "      <td>62</td>\n",
              "      <td>NaN</td>\n",
              "      <td>NaN</td>\n",
              "      <td>1</td>\n",
              "      <td>1976_592_14_9</td>\n",
              "      <td>NaN</td>\n",
              "      <td>NaN</td>\n",
              "      <td>Millet - Retail (1.4 KG)</td>\n",
              "      <td>Oil palm Whs.</td>\n",
              "      <td>NaN</td>\n",
              "      <td>NaN</td>\n",
              "      <td>NaN</td>\n",
              "    </tr>\n",
              "    <tr>\n",
              "      <th>freq</th>\n",
              "      <td>76</td>\n",
              "      <td>216</td>\n",
              "      <td>1296</td>\n",
              "      <td>2880</td>\n",
              "      <td>199</td>\n",
              "      <td>3514</td>\n",
              "      <td>3514</td>\n",
              "      <td>1146</td>\n",
              "      <td>1146</td>\n",
              "      <td>324</td>\n",
              "      <td>NaN</td>\n",
              "      <td>432</td>\n",
              "      <td>NaN</td>\n",
              "      <td>NaN</td>\n",
              "      <td>2880</td>\n",
              "      <td>62</td>\n",
              "      <td>NaN</td>\n",
              "      <td>NaN</td>\n",
              "      <td>72</td>\n",
              "      <td>216</td>\n",
              "      <td>NaN</td>\n",
              "      <td>NaN</td>\n",
              "      <td>NaN</td>\n",
              "    </tr>\n",
              "    <tr>\n",
              "      <th>mean</th>\n",
              "      <td>NaN</td>\n",
              "      <td>NaN</td>\n",
              "      <td>NaN</td>\n",
              "      <td>NaN</td>\n",
              "      <td>NaN</td>\n",
              "      <td>NaN</td>\n",
              "      <td>NaN</td>\n",
              "      <td>NaN</td>\n",
              "      <td>NaN</td>\n",
              "      <td>NaN</td>\n",
              "      <td>2120.039271</td>\n",
              "      <td>NaN</td>\n",
              "      <td>14.649687</td>\n",
              "      <td>53.449061</td>\n",
              "      <td>NaN</td>\n",
              "      <td>NaN</td>\n",
              "      <td>NaN</td>\n",
              "      <td>2017.294737</td>\n",
              "      <td>NaN</td>\n",
              "      <td>NaN</td>\n",
              "      <td>0.682632</td>\n",
              "      <td>0.357822</td>\n",
              "      <td>1.526491e+09</td>\n",
              "    </tr>\n",
              "    <tr>\n",
              "      <th>std</th>\n",
              "      <td>NaN</td>\n",
              "      <td>NaN</td>\n",
              "      <td>NaN</td>\n",
              "      <td>NaN</td>\n",
              "      <td>NaN</td>\n",
              "      <td>NaN</td>\n",
              "      <td>NaN</td>\n",
              "      <td>NaN</td>\n",
              "      <td>NaN</td>\n",
              "      <td>NaN</td>\n",
              "      <td>274.355522</td>\n",
              "      <td>NaN</td>\n",
              "      <td>0.477136</td>\n",
              "      <td>57.898188</td>\n",
              "      <td>NaN</td>\n",
              "      <td>NaN</td>\n",
              "      <td>NaN</td>\n",
              "      <td>34.073361</td>\n",
              "      <td>NaN</td>\n",
              "      <td>NaN</td>\n",
              "      <td>0.453926</td>\n",
              "      <td>0.479403</td>\n",
              "      <td>5.134165e+07</td>\n",
              "    </tr>\n",
              "    <tr>\n",
              "      <th>min</th>\n",
              "      <td>NaN</td>\n",
              "      <td>NaN</td>\n",
              "      <td>NaN</td>\n",
              "      <td>NaN</td>\n",
              "      <td>NaN</td>\n",
              "      <td>NaN</td>\n",
              "      <td>NaN</td>\n",
              "      <td>NaN</td>\n",
              "      <td>NaN</td>\n",
              "      <td>NaN</td>\n",
              "      <td>1037.000000</td>\n",
              "      <td>NaN</td>\n",
              "      <td>14.000000</td>\n",
              "      <td>5.000000</td>\n",
              "      <td>NaN</td>\n",
              "      <td>NaN</td>\n",
              "      <td>NaN</td>\n",
              "      <td>0.000000</td>\n",
              "      <td>NaN</td>\n",
              "      <td>NaN</td>\n",
              "      <td>0.010000</td>\n",
              "      <td>0.000000</td>\n",
              "      <td>1.421280e+09</td>\n",
              "    </tr>\n",
              "    <tr>\n",
              "      <th>25%</th>\n",
              "      <td>NaN</td>\n",
              "      <td>NaN</td>\n",
              "      <td>NaN</td>\n",
              "      <td>NaN</td>\n",
              "      <td>NaN</td>\n",
              "      <td>NaN</td>\n",
              "      <td>NaN</td>\n",
              "      <td>NaN</td>\n",
              "      <td>NaN</td>\n",
              "      <td>NaN</td>\n",
              "      <td>1974.000000</td>\n",
              "      <td>NaN</td>\n",
              "      <td>14.000000</td>\n",
              "      <td>9.000000</td>\n",
              "      <td>NaN</td>\n",
              "      <td>NaN</td>\n",
              "      <td>NaN</td>\n",
              "      <td>2017.000000</td>\n",
              "      <td>NaN</td>\n",
              "      <td>NaN</td>\n",
              "      <td>0.100000</td>\n",
              "      <td>0.000000</td>\n",
              "      <td>1.487117e+09</td>\n",
              "    </tr>\n",
              "    <tr>\n",
              "      <th>50%</th>\n",
              "      <td>NaN</td>\n",
              "      <td>NaN</td>\n",
              "      <td>NaN</td>\n",
              "      <td>NaN</td>\n",
              "      <td>NaN</td>\n",
              "      <td>NaN</td>\n",
              "      <td>NaN</td>\n",
              "      <td>NaN</td>\n",
              "      <td>NaN</td>\n",
              "      <td>NaN</td>\n",
              "      <td>1981.000000</td>\n",
              "      <td>NaN</td>\n",
              "      <td>15.000000</td>\n",
              "      <td>22.000000</td>\n",
              "      <td>NaN</td>\n",
              "      <td>NaN</td>\n",
              "      <td>NaN</td>\n",
              "      <td>2018.000000</td>\n",
              "      <td>NaN</td>\n",
              "      <td>NaN</td>\n",
              "      <td>1.000000</td>\n",
              "      <td>0.000000</td>\n",
              "      <td>1.529021e+09</td>\n",
              "    </tr>\n",
              "    <tr>\n",
              "      <th>75%</th>\n",
              "      <td>NaN</td>\n",
              "      <td>NaN</td>\n",
              "      <td>NaN</td>\n",
              "      <td>NaN</td>\n",
              "      <td>NaN</td>\n",
              "      <td>NaN</td>\n",
              "      <td>NaN</td>\n",
              "      <td>NaN</td>\n",
              "      <td>NaN</td>\n",
              "      <td>NaN</td>\n",
              "      <td>2386.000000</td>\n",
              "      <td>NaN</td>\n",
              "      <td>15.000000</td>\n",
              "      <td>112.000000</td>\n",
              "      <td>NaN</td>\n",
              "      <td>NaN</td>\n",
              "      <td>NaN</td>\n",
              "      <td>2019.000000</td>\n",
              "      <td>NaN</td>\n",
              "      <td>NaN</td>\n",
              "      <td>1.000000</td>\n",
              "      <td>1.000000</td>\n",
              "      <td>1.571098e+09</td>\n",
              "    </tr>\n",
              "    <tr>\n",
              "      <th>max</th>\n",
              "      <td>NaN</td>\n",
              "      <td>NaN</td>\n",
              "      <td>NaN</td>\n",
              "      <td>NaN</td>\n",
              "      <td>NaN</td>\n",
              "      <td>NaN</td>\n",
              "      <td>NaN</td>\n",
              "      <td>NaN</td>\n",
              "      <td>NaN</td>\n",
              "      <td>NaN</td>\n",
              "      <td>3073.000000</td>\n",
              "      <td>NaN</td>\n",
              "      <td>15.000000</td>\n",
              "      <td>161.000000</td>\n",
              "      <td>NaN</td>\n",
              "      <td>NaN</td>\n",
              "      <td>NaN</td>\n",
              "      <td>2020.000000</td>\n",
              "      <td>NaN</td>\n",
              "      <td>NaN</td>\n",
              "      <td>1.000000</td>\n",
              "      <td>1.000000</td>\n",
              "      <td>1.607990e+09</td>\n",
              "    </tr>\n",
              "  </tbody>\n",
              "</table>\n",
              "</div>"
            ],
            "text/plain": [
              "              date                  cmname  ... interpolated             x\n",
              "count         5473                    5473  ...  5472.000000  3.514000e+03\n",
              "unique          73                      55  ...          NaN           NaN\n",
              "top     2017-01-15  Oil (palm) - Wholesale  ...          NaN           NaN\n",
              "freq            76                     216  ...          NaN           NaN\n",
              "mean           NaN                     NaN  ...     0.357822  1.526491e+09\n",
              "std            NaN                     NaN  ...     0.479403  5.134165e+07\n",
              "min            NaN                     NaN  ...     0.000000  1.421280e+09\n",
              "25%            NaN                     NaN  ...     0.000000  1.487117e+09\n",
              "50%            NaN                     NaN  ...     0.000000  1.529021e+09\n",
              "75%            NaN                     NaN  ...     1.000000  1.571098e+09\n",
              "max            NaN                     NaN  ...     1.000000  1.607990e+09\n",
              "\n",
              "[11 rows x 23 columns]"
            ]
          },
          "metadata": {
            "tags": []
          },
          "execution_count": 64
        }
      ]
    },
    {
      "cell_type": "code",
      "metadata": {
        "colab": {
          "base_uri": "https://localhost:8080/"
        },
        "id": "caCiYOKHC6-R",
        "outputId": "86d3cbb1-1229-4c3a-b62f-6d99e59a1985"
      },
      "source": [
        "data.isnull().sum()"
      ],
      "execution_count": null,
      "outputs": [
        {
          "output_type": "execute_result",
          "data": {
            "text/plain": [
              "date               0\n",
              "cmname             0\n",
              "unit               0\n",
              "category           0\n",
              "price              0\n",
              "currency        1958\n",
              "country         1958\n",
              "admname         1958\n",
              "adm1id          1958\n",
              "mktname         1958\n",
              "mktid           1959\n",
              "cmid               0\n",
              "ptid            1959\n",
              "umid            1959\n",
              "catid              0\n",
              "sn              1958\n",
              "default         5473\n",
              "year            1958\n",
              "label              0\n",
              "cmnameshort        0\n",
              "scaling            1\n",
              "interpolated       1\n",
              "x               1959\n",
              "dtype: int64"
            ]
          },
          "metadata": {
            "tags": []
          },
          "execution_count": 65
        }
      ]
    },
    {
      "cell_type": "code",
      "metadata": {
        "scrolled": true,
        "colab": {
          "base_uri": "https://localhost:8080/"
        },
        "id": "DTZIDXh0C6-S",
        "outputId": "cfc0ab28-68da-49b5-8b77-534ad755561e"
      },
      "source": [
        "data.cmname.unique()"
      ],
      "execution_count": null,
      "outputs": [
        {
          "output_type": "execute_result",
          "data": {
            "text/plain": [
              "array(['#item+name', 'Bananas - Retail', 'Beans (red) - Retail',\n",
              "       'Beans (white) - Retail', 'Bread - Retail',\n",
              "       'Cassava meal (gari, yellow) - Retail',\n",
              "       'Cassava meal (gari, yellow) - Wholesale',\n",
              "       'Cowpeas (brown) - Retail', 'Cowpeas (brown) - Wholesale',\n",
              "       'Cowpeas (white) - Retail', 'Cowpeas (white) - Wholesale',\n",
              "       'Cowpeas - Retail', 'Eggs - Retail', 'Fish - Retail',\n",
              "       'Gari (white) - Retail', 'Gari (white) - Wholesale',\n",
              "       'Groundnuts (shelled) - Retail',\n",
              "       'Groundnuts (shelled) - Wholesale', 'Groundnuts - Retail',\n",
              "       'Maize (white) - Retail', 'Maize (white) - Wholesale',\n",
              "       'Maize (yellow) - Retail', 'Maize (yellow) - Wholesale',\n",
              "       'Maize - Wholesale', 'Maize flour - Retail',\n",
              "       'Meat (beef) - Retail', 'Meat (goat) - Retail', 'Milk - Retail',\n",
              "       'Millet - Retail', 'Millet - Wholesale', 'Oil (palm) - Retail',\n",
              "       'Oil (palm) - Wholesale', 'Oil (vegetable) - Retail',\n",
              "       'Onions - Retail', 'Oranges - Retail', 'Rice (imported) - Retail',\n",
              "       'Rice (imported) - Wholesale', 'Rice (local) - Retail',\n",
              "       'Rice (local) - Wholesale', 'Rice (milled, local) - Wholesale',\n",
              "       'Salt - Retail', 'Sorghum (brown) - Retail',\n",
              "       'Sorghum (brown) - Wholesale', 'Sorghum (white) - Retail',\n",
              "       'Sorghum (white) - Wholesale', 'Sorghum - Retail',\n",
              "       'Sorghum - Wholesale', 'Spinach - Retail', 'Sugar - Retail',\n",
              "       'Tomatoes - Retail', 'Watermelons - Retail',\n",
              "       'Yam (Abuja) - Retail', 'Yam (Abuja) - Wholesale', 'Yam - Retail',\n",
              "       'Yam - Wholesale'], dtype=object)"
            ]
          },
          "metadata": {
            "tags": []
          },
          "execution_count": 66
        }
      ]
    },
    {
      "cell_type": "markdown",
      "metadata": {
        "id": "O1i2YScYC6-S"
      },
      "source": [
        "# Select the rows containing wholesale price of local rice "
      ]
    },
    {
      "cell_type": "code",
      "metadata": {
        "scrolled": true,
        "colab": {
          "base_uri": "https://localhost:8080/",
          "height": 569
        },
        "id": "rXUyv3FrC6-S",
        "outputId": "d2d74c12-1700-4024-fc5b-166f05e29d34"
      },
      "source": [
        "df = data[(data['cmname'] == 'Rice (local) - Wholesale')]\n",
        "df.sample(5)"
      ],
      "execution_count": null,
      "outputs": [
        {
          "output_type": "execute_result",
          "data": {
            "text/html": [
              "<div>\n",
              "<style scoped>\n",
              "    .dataframe tbody tr th:only-of-type {\n",
              "        vertical-align: middle;\n",
              "    }\n",
              "\n",
              "    .dataframe tbody tr th {\n",
              "        vertical-align: top;\n",
              "    }\n",
              "\n",
              "    .dataframe thead th {\n",
              "        text-align: right;\n",
              "    }\n",
              "</style>\n",
              "<table border=\"1\" class=\"dataframe\">\n",
              "  <thead>\n",
              "    <tr style=\"text-align: right;\">\n",
              "      <th></th>\n",
              "      <th>date</th>\n",
              "      <th>cmname</th>\n",
              "      <th>unit</th>\n",
              "      <th>category</th>\n",
              "      <th>price</th>\n",
              "      <th>currency</th>\n",
              "      <th>country</th>\n",
              "      <th>admname</th>\n",
              "      <th>adm1id</th>\n",
              "      <th>mktname</th>\n",
              "      <th>mktid</th>\n",
              "      <th>cmid</th>\n",
              "      <th>ptid</th>\n",
              "      <th>umid</th>\n",
              "      <th>catid</th>\n",
              "      <th>sn</th>\n",
              "      <th>default</th>\n",
              "      <th>year</th>\n",
              "      <th>label</th>\n",
              "      <th>cmnameshort</th>\n",
              "      <th>scaling</th>\n",
              "      <th>interpolated</th>\n",
              "      <th>x</th>\n",
              "    </tr>\n",
              "  </thead>\n",
              "  <tbody>\n",
              "    <tr>\n",
              "      <th>3863</th>\n",
              "      <td>2018-11-15</td>\n",
              "      <td>Rice (local) - Wholesale</td>\n",
              "      <td>1/100 100 KG</td>\n",
              "      <td>cereals and tubers</td>\n",
              "      <td>240.0</td>\n",
              "      <td>NGN</td>\n",
              "      <td>Nigeria</td>\n",
              "      <td>Yobe</td>\n",
              "      <td>2240.0</td>\n",
              "      <td>Damaturu</td>\n",
              "      <td>1969.0</td>\n",
              "      <td>71</td>\n",
              "      <td>14.0</td>\n",
              "      <td>9.0</td>\n",
              "      <td>1</td>\n",
              "      <td>1969_71_14_9</td>\n",
              "      <td>NaN</td>\n",
              "      <td>2018.0</td>\n",
              "      <td>Rice (local) - Wholesale (1/100 100 KG)</td>\n",
              "      <td>Rice loc. Whs.</td>\n",
              "      <td>0.01</td>\n",
              "      <td>0.0</td>\n",
              "      <td>1.542240e+09</td>\n",
              "    </tr>\n",
              "    <tr>\n",
              "      <th>3888</th>\n",
              "      <td>2020-12-15</td>\n",
              "      <td>Rice (local) - Wholesale</td>\n",
              "      <td>1/100 100 KG</td>\n",
              "      <td>cereals and tubers</td>\n",
              "      <td>345.0</td>\n",
              "      <td>NGN</td>\n",
              "      <td>Nigeria</td>\n",
              "      <td>Gombe</td>\n",
              "      <td>65704.0</td>\n",
              "      <td>Gombe</td>\n",
              "      <td>1972.0</td>\n",
              "      <td>71</td>\n",
              "      <td>14.0</td>\n",
              "      <td>9.0</td>\n",
              "      <td>1</td>\n",
              "      <td>1972_71_14_9</td>\n",
              "      <td>NaN</td>\n",
              "      <td>2020.0</td>\n",
              "      <td>Rice (local) - Wholesale (1/100 100 KG)</td>\n",
              "      <td>Rice loc. Whs.</td>\n",
              "      <td>0.01</td>\n",
              "      <td>0.0</td>\n",
              "      <td>1.607990e+09</td>\n",
              "    </tr>\n",
              "    <tr>\n",
              "      <th>3862</th>\n",
              "      <td>2018-10-15</td>\n",
              "      <td>Rice (local) - Wholesale</td>\n",
              "      <td>1/100 100 KG</td>\n",
              "      <td>cereals and tubers</td>\n",
              "      <td>242.0</td>\n",
              "      <td>NGN</td>\n",
              "      <td>Nigeria</td>\n",
              "      <td>Yobe</td>\n",
              "      <td>2240.0</td>\n",
              "      <td>Damaturu</td>\n",
              "      <td>1969.0</td>\n",
              "      <td>71</td>\n",
              "      <td>14.0</td>\n",
              "      <td>9.0</td>\n",
              "      <td>1</td>\n",
              "      <td>1969_71_14_9</td>\n",
              "      <td>NaN</td>\n",
              "      <td>2018.0</td>\n",
              "      <td>Rice (local) - Wholesale (1/100 100 KG)</td>\n",
              "      <td>Rice loc. Whs.</td>\n",
              "      <td>0.01</td>\n",
              "      <td>0.0</td>\n",
              "      <td>1.539562e+09</td>\n",
              "    </tr>\n",
              "    <tr>\n",
              "      <th>3823</th>\n",
              "      <td>2015-07-15</td>\n",
              "      <td>Rice (local) - Wholesale</td>\n",
              "      <td>1/100 100 KG</td>\n",
              "      <td>cereals and tubers</td>\n",
              "      <td>142.24</td>\n",
              "      <td>NGN</td>\n",
              "      <td>Nigeria</td>\n",
              "      <td>Kano</td>\n",
              "      <td>2225.0</td>\n",
              "      <td>Dawanau</td>\n",
              "      <td>1976.0</td>\n",
              "      <td>71</td>\n",
              "      <td>14.0</td>\n",
              "      <td>9.0</td>\n",
              "      <td>1</td>\n",
              "      <td>1976_71_14_9</td>\n",
              "      <td>NaN</td>\n",
              "      <td>2015.0</td>\n",
              "      <td>Rice (local) - Wholesale (1/100 100 KG)</td>\n",
              "      <td>Rice loc. Whs.</td>\n",
              "      <td>0.01</td>\n",
              "      <td>0.0</td>\n",
              "      <td>1.436918e+09</td>\n",
              "    </tr>\n",
              "    <tr>\n",
              "      <th>3883</th>\n",
              "      <td>2020-07-15</td>\n",
              "      <td>Rice (local) - Wholesale</td>\n",
              "      <td>1/100 100 KG</td>\n",
              "      <td>cereals and tubers</td>\n",
              "      <td>390.0</td>\n",
              "      <td>NGN</td>\n",
              "      <td>Nigeria</td>\n",
              "      <td>Katsina</td>\n",
              "      <td>2226.0</td>\n",
              "      <td>Dandume</td>\n",
              "      <td>1970.0</td>\n",
              "      <td>71</td>\n",
              "      <td>14.0</td>\n",
              "      <td>9.0</td>\n",
              "      <td>1</td>\n",
              "      <td>1970_71_14_9</td>\n",
              "      <td>NaN</td>\n",
              "      <td>2020.0</td>\n",
              "      <td>Rice (local) - Wholesale (1/100 100 KG)</td>\n",
              "      <td>Rice loc. Whs.</td>\n",
              "      <td>0.01</td>\n",
              "      <td>0.0</td>\n",
              "      <td>1.594771e+09</td>\n",
              "    </tr>\n",
              "  </tbody>\n",
              "</table>\n",
              "</div>"
            ],
            "text/plain": [
              "            date                    cmname  ... interpolated             x\n",
              "3863  2018-11-15  Rice (local) - Wholesale  ...          0.0  1.542240e+09\n",
              "3888  2020-12-15  Rice (local) - Wholesale  ...          0.0  1.607990e+09\n",
              "3862  2018-10-15  Rice (local) - Wholesale  ...          0.0  1.539562e+09\n",
              "3823  2015-07-15  Rice (local) - Wholesale  ...          0.0  1.436918e+09\n",
              "3883  2020-07-15  Rice (local) - Wholesale  ...          0.0  1.594771e+09\n",
              "\n",
              "[5 rows x 23 columns]"
            ]
          },
          "metadata": {
            "tags": []
          },
          "execution_count": 67
        }
      ]
    },
    {
      "cell_type": "markdown",
      "metadata": {
        "id": "ugiZtzQuC6-S"
      },
      "source": [
        "# Data exploration and cleaning"
      ]
    },
    {
      "cell_type": "code",
      "metadata": {
        "id": "_E-fyWHCC6-S"
      },
      "source": [
        "df['price']=df['price'].apply(pd.to_numeric, errors='coerce')"
      ],
      "execution_count": null,
      "outputs": []
    },
    {
      "cell_type": "code",
      "metadata": {
        "id": "uFW9ctxJC6-T"
      },
      "source": [
        "df['date'] = df['date'].apply(pd.to_datetime)"
      ],
      "execution_count": null,
      "outputs": []
    },
    {
      "cell_type": "code",
      "metadata": {
        "id": "POL17tXAC6-T"
      },
      "source": [
        "df = df.sort_values('date')\n"
      ],
      "execution_count": null,
      "outputs": []
    },
    {
      "cell_type": "code",
      "metadata": {
        "id": "HeKubNmsC6-T"
      },
      "source": [
        "# Create new columns with the date column\n",
        "df['day'] = df['date'].dt.day\n",
        "df['month'] = df['date'].dt.month\n",
        "df['year'] = df['date'].dt.year"
      ],
      "execution_count": null,
      "outputs": []
    },
    {
      "cell_type": "code",
      "metadata": {
        "id": "3dmZK9_3C6-T"
      },
      "source": [
        "#set date column as index\n",
        "df.set_index('date', inplace=True)"
      ],
      "execution_count": null,
      "outputs": []
    },
    {
      "cell_type": "code",
      "metadata": {
        "colab": {
          "base_uri": "https://localhost:8080/"
        },
        "id": "DCry10TsC6-T",
        "outputId": "0eba48cb-d009-4aba-db32-1f27c0415ec0"
      },
      "source": [
        "df.info()"
      ],
      "execution_count": null,
      "outputs": [
        {
          "output_type": "stream",
          "text": [
            "<class 'pandas.core.frame.DataFrame'>\n",
            "DatetimeIndex: 72 entries, 2015-01-15 to 2020-12-15\n",
            "Data columns (total 24 columns):\n",
            " #   Column        Non-Null Count  Dtype  \n",
            "---  ------        --------------  -----  \n",
            " 0   cmname        72 non-null     object \n",
            " 1   unit          72 non-null     object \n",
            " 2   category      72 non-null     object \n",
            " 3   price         72 non-null     float64\n",
            " 4   currency      70 non-null     object \n",
            " 5   country       70 non-null     object \n",
            " 6   admname       70 non-null     object \n",
            " 7   adm1id        70 non-null     object \n",
            " 8   mktname       70 non-null     object \n",
            " 9   mktid         70 non-null     float64\n",
            " 10  cmid          72 non-null     object \n",
            " 11  ptid          70 non-null     float64\n",
            " 12  umid          70 non-null     float64\n",
            " 13  catid         72 non-null     object \n",
            " 14  sn            70 non-null     object \n",
            " 15  default       0 non-null      float64\n",
            " 16  year          72 non-null     int64  \n",
            " 17  label         72 non-null     object \n",
            " 18  cmnameshort   72 non-null     object \n",
            " 19  scaling       72 non-null     float64\n",
            " 20  interpolated  72 non-null     float64\n",
            " 21  x             70 non-null     float64\n",
            " 22  day           72 non-null     int64  \n",
            " 23  month         72 non-null     int64  \n",
            "dtypes: float64(8), int64(3), object(13)\n",
            "memory usage: 14.1+ KB\n"
          ],
          "name": "stdout"
        }
      ]
    },
    {
      "cell_type": "code",
      "metadata": {
        "colab": {
          "base_uri": "https://localhost:8080/",
          "height": 355
        },
        "id": "butRZZa4C6-T",
        "outputId": "af6688b9-9400-486d-f33e-b17a0c8c538f"
      },
      "source": [
        "#average price according to states\n",
        "RIE=df[['admname', 'price']]\n",
        "rie =RIE.groupby(['admname'], as_index=False).mean()\n",
        "rie=rie.sort_values(['price'], ascending=False)\n",
        "rie"
      ],
      "execution_count": null,
      "outputs": [
        {
          "output_type": "execute_result",
          "data": {
            "text/html": [
              "<div>\n",
              "<style scoped>\n",
              "    .dataframe tbody tr th:only-of-type {\n",
              "        vertical-align: middle;\n",
              "    }\n",
              "\n",
              "    .dataframe tbody tr th {\n",
              "        vertical-align: top;\n",
              "    }\n",
              "\n",
              "    .dataframe thead th {\n",
              "        text-align: right;\n",
              "    }\n",
              "</style>\n",
              "<table border=\"1\" class=\"dataframe\">\n",
              "  <thead>\n",
              "    <tr style=\"text-align: right;\">\n",
              "      <th></th>\n",
              "      <th>admname</th>\n",
              "      <th>price</th>\n",
              "    </tr>\n",
              "  </thead>\n",
              "  <tbody>\n",
              "    <tr>\n",
              "      <th>9</th>\n",
              "      <td>Zamfara</td>\n",
              "      <td>286.300000</td>\n",
              "    </tr>\n",
              "    <tr>\n",
              "      <th>0</th>\n",
              "      <td>Borno</td>\n",
              "      <td>276.207273</td>\n",
              "    </tr>\n",
              "    <tr>\n",
              "      <th>7</th>\n",
              "      <td>Oyo</td>\n",
              "      <td>271.216667</td>\n",
              "    </tr>\n",
              "    <tr>\n",
              "      <th>1</th>\n",
              "      <td>Gombe</td>\n",
              "      <td>266.953704</td>\n",
              "    </tr>\n",
              "    <tr>\n",
              "      <th>3</th>\n",
              "      <td>Kaduna</td>\n",
              "      <td>251.945000</td>\n",
              "    </tr>\n",
              "    <tr>\n",
              "      <th>8</th>\n",
              "      <td>Yobe</td>\n",
              "      <td>241.100000</td>\n",
              "    </tr>\n",
              "    <tr>\n",
              "      <th>2</th>\n",
              "      <td>Jigawa</td>\n",
              "      <td>234.924360</td>\n",
              "    </tr>\n",
              "    <tr>\n",
              "      <th>4</th>\n",
              "      <td>Kano</td>\n",
              "      <td>231.906667</td>\n",
              "    </tr>\n",
              "    <tr>\n",
              "      <th>5</th>\n",
              "      <td>Katsina</td>\n",
              "      <td>224.052000</td>\n",
              "    </tr>\n",
              "    <tr>\n",
              "      <th>6</th>\n",
              "      <td>Kebbi</td>\n",
              "      <td>207.728333</td>\n",
              "    </tr>\n",
              "  </tbody>\n",
              "</table>\n",
              "</div>"
            ],
            "text/plain": [
              "   admname       price\n",
              "9  Zamfara  286.300000\n",
              "0    Borno  276.207273\n",
              "7      Oyo  271.216667\n",
              "1    Gombe  266.953704\n",
              "3   Kaduna  251.945000\n",
              "8     Yobe  241.100000\n",
              "2   Jigawa  234.924360\n",
              "4     Kano  231.906667\n",
              "5  Katsina  224.052000\n",
              "6    Kebbi  207.728333"
            ]
          },
          "metadata": {
            "tags": []
          },
          "execution_count": 74
        }
      ]
    },
    {
      "cell_type": "code",
      "metadata": {
        "colab": {
          "base_uri": "https://localhost:8080/",
          "height": 354
        },
        "id": "r3awM-hhC6-U",
        "outputId": "6c35f076-69a2-4d46-8512-0505fa133fd0"
      },
      "source": [
        "fig= plt.subplots(figsize=(12,5))\n",
        "g = sns.barplot(x='admname', y='price', data=rie)\n",
        "g.title.set_text('The Average Rice Price corresponding to State')"
      ],
      "execution_count": null,
      "outputs": [
        {
          "output_type": "display_data",
          "data": {
            "image/png": "[encoded data removed]",
            "text/plain": [
              "<Figure size 864x360 with 1 Axes>"
            ]
          },
          "metadata": {
            "tags": [],
            "needs_background": "light"
          }
        }
      ]
    },
    {
      "cell_type": "code",
      "metadata": {
        "colab": {
          "base_uri": "https://localhost:8080/",
          "height": 447
        },
        "id": "JtYXYuwAC6-U",
        "outputId": "fe563385-9dec-44ad-e371-53ec7a226b69"
      },
      "source": [
        "#average price in each month\n",
        "RICE=df[['month', 'price']]\n",
        "rice =RICE.groupby(['month'], as_index=True).mean()\n",
        "rice=rice.sort_values(['price'], ascending=False)\n",
        "rice"
      ],
      "execution_count": null,
      "outputs": [
        {
          "output_type": "execute_result",
          "data": {
            "text/html": [
              "<div>\n",
              "<style scoped>\n",
              "    .dataframe tbody tr th:only-of-type {\n",
              "        vertical-align: middle;\n",
              "    }\n",
              "\n",
              "    .dataframe tbody tr th {\n",
              "        vertical-align: top;\n",
              "    }\n",
              "\n",
              "    .dataframe thead th {\n",
              "        text-align: right;\n",
              "    }\n",
              "</style>\n",
              "<table border=\"1\" class=\"dataframe\">\n",
              "  <thead>\n",
              "    <tr style=\"text-align: right;\">\n",
              "      <th></th>\n",
              "      <th>price</th>\n",
              "    </tr>\n",
              "    <tr>\n",
              "      <th>month</th>\n",
              "      <th></th>\n",
              "    </tr>\n",
              "  </thead>\n",
              "  <tbody>\n",
              "    <tr>\n",
              "      <th>8</th>\n",
              "      <td>273.353333</td>\n",
              "    </tr>\n",
              "    <tr>\n",
              "      <th>9</th>\n",
              "      <td>267.211667</td>\n",
              "    </tr>\n",
              "    <tr>\n",
              "      <th>7</th>\n",
              "      <td>264.962222</td>\n",
              "    </tr>\n",
              "    <tr>\n",
              "      <th>6</th>\n",
              "      <td>263.150704</td>\n",
              "    </tr>\n",
              "    <tr>\n",
              "      <th>5</th>\n",
              "      <td>259.241667</td>\n",
              "    </tr>\n",
              "    <tr>\n",
              "      <th>12</th>\n",
              "      <td>248.521667</td>\n",
              "    </tr>\n",
              "    <tr>\n",
              "      <th>10</th>\n",
              "      <td>247.500000</td>\n",
              "    </tr>\n",
              "    <tr>\n",
              "      <th>4</th>\n",
              "      <td>247.308333</td>\n",
              "    </tr>\n",
              "    <tr>\n",
              "      <th>11</th>\n",
              "      <td>242.133333</td>\n",
              "    </tr>\n",
              "    <tr>\n",
              "      <th>3</th>\n",
              "      <td>232.676667</td>\n",
              "    </tr>\n",
              "    <tr>\n",
              "      <th>2</th>\n",
              "      <td>224.991667</td>\n",
              "    </tr>\n",
              "    <tr>\n",
              "      <th>1</th>\n",
              "      <td>220.220833</td>\n",
              "    </tr>\n",
              "  </tbody>\n",
              "</table>\n",
              "</div>"
            ],
            "text/plain": [
              "            price\n",
              "month            \n",
              "8      273.353333\n",
              "9      267.211667\n",
              "7      264.962222\n",
              "6      263.150704\n",
              "5      259.241667\n",
              "12     248.521667\n",
              "10     247.500000\n",
              "4      247.308333\n",
              "11     242.133333\n",
              "3      232.676667\n",
              "2      224.991667\n",
              "1      220.220833"
            ]
          },
          "metadata": {
            "tags": []
          },
          "execution_count": 76
        }
      ]
    },
    {
      "cell_type": "code",
      "metadata": {
        "colab": {
          "base_uri": "https://localhost:8080/",
          "height": 467
        },
        "id": "KAlcUFA9C6-U",
        "outputId": "9d6dd449-fb7a-4ad8-9fb1-85d505a39176"
      },
      "source": [
        "#plotting a line chart to check the trend of the price over the given dates\n",
        "fig, ax = plt.subplots(figsize=(15,6))\n",
        "\n",
        "trend = df.groupby('date')['price'].mean()\n",
        "trend = trend.reset_index()\n",
        "\n",
        "sns.lineplot(x='date', y='price', data=trend, ci=None, markers=True, ax=ax)\n",
        "ax.set_xticks(ticks=trend['date'].value_counts(ascending=True).index)\n",
        "ax.set_xticklabels(trend['date'], rotation=90, ha=\"right\")\n",
        "\n",
        "plt.show()"
      ],
      "execution_count": null,
      "outputs": [
        {
          "output_type": "display_data",
          "data": {
            "image/png": "[encoded data removed]",
            "text/plain": [
              "<Figure size 1080x432 with 1 Axes>"
            ]
          },
          "metadata": {
            "tags": [],
            "needs_background": "light"
          }
        }
      ]
    },
    {
      "cell_type": "code",
      "metadata": {
        "colab": {
          "base_uri": "https://localhost:8080/",
          "height": 375
        },
        "id": "LwM9t7BRC6-U",
        "outputId": "24fb27b5-7f9d-4d01-971e-f66675d88598"
      },
      "source": [
        "#plotting a line chart to check the trend of the price over the months\n",
        "fig, ax = plt.subplots(figsize=(15,6))\n",
        "\n",
        "month = df.groupby('month')['price'].mean()\n",
        "month = month.reset_index()\n",
        "\n",
        "sns.lineplot(x='month', y='price', data=month, ci=None, markers=True, ax=ax)\n",
        "ax.set_xticks(ticks=df['month'].value_counts(ascending=True).index)\n",
        "\n",
        "plt.show()"
      ],
      "execution_count": null,
      "outputs": [
        {
          "output_type": "display_data",
          "data": {
            "image/png": "[encoded data removed]",
            "text/plain": [
              "<Figure size 1080x432 with 1 Axes>"
            ]
          },
          "metadata": {
            "tags": [],
            "needs_background": "light"
          }
        }
      ]
    },
    {
      "cell_type": "code",
      "metadata": {
        "colab": {
          "base_uri": "https://localhost:8080/",
          "height": 375
        },
        "id": "8OtmluaIC6-U",
        "outputId": "c6f9f0a2-672a-424f-ca4a-fea8cc8c3796"
      },
      "source": [
        "#plotting a line chart to check the trend of the price over the years\n",
        "fig, ax = plt.subplots(figsize=(15,6))\n",
        "\n",
        "year = df.groupby('year')['price'].mean()\n",
        "year = year.reset_index()\n",
        "\n",
        "sns.lineplot(x='year', y='price', data=year, ci=None, markers=True, ax=ax)\n",
        "ax.set_xticks(ticks=df['year'].value_counts(ascending=True).index)\n",
        "\n",
        "plt.show()"
      ],
      "execution_count": null,
      "outputs": [
        {
          "output_type": "display_data",
          "data": {
            "image/png": "[encoded data removed]",
            "text/plain": [
              "<Figure size 1080x432 with 1 Axes>"
            ]
          },
          "metadata": {
            "tags": [],
            "needs_background": "light"
          }
        }
      ]
    },
    {
      "cell_type": "code",
      "metadata": {
        "scrolled": true,
        "colab": {
          "base_uri": "https://localhost:8080/"
        },
        "id": "orfd2sCEC6-V",
        "outputId": "7389d422-6cfc-462e-c212-8ea4e7b7c203"
      },
      "source": [
        "df['price'].describe()"
      ],
      "execution_count": null,
      "outputs": [
        {
          "output_type": "execute_result",
          "data": {
            "text/plain": [
              "count     72.000000\n",
              "mean     249.272674\n",
              "std       66.640579\n",
              "min      132.000000\n",
              "25%      233.650000\n",
              "50%      255.440000\n",
              "75%      279.300000\n",
              "max      409.080000\n",
              "Name: price, dtype: float64"
            ]
          },
          "metadata": {
            "tags": []
          },
          "execution_count": 80
        }
      ]
    },
    {
      "cell_type": "code",
      "metadata": {
        "colab": {
          "base_uri": "https://localhost:8080/"
        },
        "id": "xlaBd4eIC6-V",
        "outputId": "042bceaa-31fa-4430-955a-f75587ed517a"
      },
      "source": [
        "df.shape"
      ],
      "execution_count": null,
      "outputs": [
        {
          "output_type": "execute_result",
          "data": {
            "text/plain": [
              "(72, 24)"
            ]
          },
          "metadata": {
            "tags": []
          },
          "execution_count": 81
        }
      ]
    },
    {
      "cell_type": "code",
      "metadata": {
        "colab": {
          "base_uri": "https://localhost:8080/"
        },
        "id": "IwIYgWYuC6-V",
        "outputId": "4fc4bffc-317c-4d54-f200-8243b315fd98"
      },
      "source": [
        "#selecting only the price column\n",
        "price = df['price'].values.reshape(-1, 1)\n",
        "price[:5]"
      ],
      "execution_count": null,
      "outputs": [
        {
          "output_type": "execute_result",
          "data": {
            "text/plain": [
              "array([[135.75],\n",
              "       [140.  ],\n",
              "       [140.  ],\n",
              "       [145.75],\n",
              "       [146.3 ]])"
            ]
          },
          "metadata": {
            "tags": []
          },
          "execution_count": 82
        }
      ]
    },
    {
      "cell_type": "markdown",
      "metadata": {
        "id": "az28sLnMC6-V"
      },
      "source": [
        "# Data preparation for modelling\n",
        "To prepare the data for modelling, we need to scale the data to give it a regular pattern between -1 and 1, To do this we will be using the sklearn library for preproccessing data, using the MinMax scaler to scale the data between -1 and 1"
      ]
    },
    {
      "cell_type": "code",
      "metadata": {
        "id": "whfS0DriC6-V"
      },
      "source": [
        "#import the library\n",
        "from sklearn.preprocessing import MinMaxScaler"
      ],
      "execution_count": null,
      "outputs": []
    },
    {
      "cell_type": "code",
      "metadata": {
        "colab": {
          "base_uri": "https://localhost:8080/"
        },
        "id": "0T1u70MSC6-V",
        "outputId": "1b53caf0-ba73-4de6-b6e8-03ce76624254"
      },
      "source": [
        "#assign the scaler to a variable then fit and transform the data-price column\n",
        "scaler = MinMaxScaler(feature_range=(-1, 1))\n",
        "\n",
        "scaler = scaler.fit(price)\n",
        "scaled_data = scaler.transform(price)\n",
        "scaled_data[:5]"
      ],
      "execution_count": null,
      "outputs": [
        {
          "output_type": "execute_result",
          "data": {
            "text/plain": [
              "array([[-0.97293201],\n",
              "       [-0.94225494],\n",
              "       [-0.94225494],\n",
              "       [-0.90075069],\n",
              "       [-0.89678071]])"
            ]
          },
          "metadata": {
            "tags": []
          },
          "execution_count": 84
        }
      ]
    },
    {
      "cell_type": "markdown",
      "metadata": {
        "id": "nP5YstomC6-V"
      },
      "source": [
        "# To supervised learning \n",
        "To be able to predict with a neural network, the data needs to be converted from time series to supervised learning. This can be done using different means. Here, a lag feature was generated using the shift function from the existing dataset."
      ]
    },
    {
      "cell_type": "code",
      "metadata": {
        "id": "JG8SxXMgC6-W"
      },
      "source": [
        "#Add a lagged column to the price using the shift function\n",
        "df_data= pd.DataFrame(scaled_data)\n",
        "lag=1\n",
        "columns = [df_data.shift(i) for i in range(1, lag+1)]\n",
        "columns.append(df_data)\n",
        "df_data = pd.concat(columns, axis=1)\n",
        "df_data.fillna(0, inplace=True)"
      ],
      "execution_count": null,
      "outputs": []
    },
    {
      "cell_type": "code",
      "metadata": {
        "scrolled": true,
        "colab": {
          "base_uri": "https://localhost:8080/",
          "height": 202
        },
        "id": "mhSrRIhyC6-W",
        "outputId": "25a54f5a-49af-467c-8285-4650f690f23f"
      },
      "source": [
        "lagged_data = df_data\n",
        "lagged_data.columns = ['lag', 'price']\n",
        "lagged_data.head()"
      ],
      "execution_count": null,
      "outputs": [
        {
          "output_type": "execute_result",
          "data": {
            "text/html": [
              "<div>\n",
              "<style scoped>\n",
              "    .dataframe tbody tr th:only-of-type {\n",
              "        vertical-align: middle;\n",
              "    }\n",
              "\n",
              "    .dataframe tbody tr th {\n",
              "        vertical-align: top;\n",
              "    }\n",
              "\n",
              "    .dataframe thead th {\n",
              "        text-align: right;\n",
              "    }\n",
              "</style>\n",
              "<table border=\"1\" class=\"dataframe\">\n",
              "  <thead>\n",
              "    <tr style=\"text-align: right;\">\n",
              "      <th></th>\n",
              "      <th>lag</th>\n",
              "      <th>price</th>\n",
              "    </tr>\n",
              "  </thead>\n",
              "  <tbody>\n",
              "    <tr>\n",
              "      <th>0</th>\n",
              "      <td>0.000000</td>\n",
              "      <td>-0.972932</td>\n",
              "    </tr>\n",
              "    <tr>\n",
              "      <th>1</th>\n",
              "      <td>-0.972932</td>\n",
              "      <td>-0.942255</td>\n",
              "    </tr>\n",
              "    <tr>\n",
              "      <th>2</th>\n",
              "      <td>-0.942255</td>\n",
              "      <td>-0.942255</td>\n",
              "    </tr>\n",
              "    <tr>\n",
              "      <th>3</th>\n",
              "      <td>-0.942255</td>\n",
              "      <td>-0.900751</td>\n",
              "    </tr>\n",
              "    <tr>\n",
              "      <th>4</th>\n",
              "      <td>-0.900751</td>\n",
              "      <td>-0.896781</td>\n",
              "    </tr>\n",
              "  </tbody>\n",
              "</table>\n",
              "</div>"
            ],
            "text/plain": [
              "        lag     price\n",
              "0  0.000000 -0.972932\n",
              "1 -0.972932 -0.942255\n",
              "2 -0.942255 -0.942255\n",
              "3 -0.942255 -0.900751\n",
              "4 -0.900751 -0.896781"
            ]
          },
          "metadata": {
            "tags": []
          },
          "execution_count": 86
        }
      ]
    },
    {
      "cell_type": "markdown",
      "metadata": {
        "id": "zuOJeti6C6-W"
      },
      "source": [
        "\n",
        "\n",
        "# Forecast and modelling using LSTM\n",
        "- From keras library on the tensorflow backend. LSTM stands for Long short-term Memory, It is an artificial recurrent neural network(RNN) architechture used in deep learning, It is well suited in classifying, processing, making predictions based on a time series data. Since the task involves a time series forecasting, LSTM is the best for the analysis"
      ]
    },
    {
      "cell_type": "code",
      "metadata": {
        "id": "x_0Uvy5yC6-W"
      },
      "source": [
        "#importing necessary libraries\n",
        "import tensorflow as tf\n",
        "from tensorflow.keras.models import Sequential\n",
        "from tensorflow.keras.layers import Dense\n",
        "from tensorflow.keras.layers import LSTM\n",
        "from tensorflow.keras.layers import Dropout"
      ],
      "execution_count": null,
      "outputs": []
    },
    {
      "cell_type": "code",
      "metadata": {
        "scrolled": true,
        "id": "XuWtwPsLC6-W"
      },
      "source": [
        "#dividing data into features and labels,\n",
        "#The model expects the input shape to be three-dimensional with [samples, timesteps, features], \n",
        "#hence it must reshape the single input sample before making the prediction.\n",
        "feature_set= np.array(lagged_data)\n",
        "x, y = feature_set[:, 0:-1], feature_set[:, -1:]\n",
        "x = x.reshape(x.shape[0], 1, x.shape[1])"
      ],
      "execution_count": null,
      "outputs": []
    },
    {
      "cell_type": "code",
      "metadata": {
        "colab": {
          "base_uri": "https://localhost:8080/"
        },
        "id": "4Ien0y7DC6-W",
        "outputId": "3376f6c6-a273-4b80-f99d-f58f34e69a0c"
      },
      "source": [
        "x.shape"
      ],
      "execution_count": null,
      "outputs": [
        {
          "output_type": "execute_result",
          "data": {
            "text/plain": [
              "(72, 1, 1)"
            ]
          },
          "metadata": {
            "tags": []
          },
          "execution_count": 89
        }
      ]
    },
    {
      "cell_type": "code",
      "metadata": {
        "colab": {
          "base_uri": "https://localhost:8080/"
        },
        "id": "74yQ2jUQC6-X",
        "outputId": "b8b1c3c6-3884-415d-f4d4-41eb6f5eec93"
      },
      "source": [
        "x[:5]"
      ],
      "execution_count": null,
      "outputs": [
        {
          "output_type": "execute_result",
          "data": {
            "text/plain": [
              "array([[[ 0.        ]],\n",
              "\n",
              "       [[-0.97293201]],\n",
              "\n",
              "       [[-0.94225494]],\n",
              "\n",
              "       [[-0.94225494]],\n",
              "\n",
              "       [[-0.90075069]]])"
            ]
          },
          "metadata": {
            "tags": []
          },
          "execution_count": 90
        }
      ]
    },
    {
      "cell_type": "code",
      "metadata": {
        "colab": {
          "base_uri": "https://localhost:8080/"
        },
        "id": "YozsHL4EC6-X",
        "outputId": "c571598e-e982-4f3a-8185-a7dde3775c92"
      },
      "source": [
        "y[:5]"
      ],
      "execution_count": null,
      "outputs": [
        {
          "output_type": "execute_result",
          "data": {
            "text/plain": [
              "array([[-0.97293201],\n",
              "       [-0.94225494],\n",
              "       [-0.94225494],\n",
              "       [-0.90075069],\n",
              "       [-0.89678071]])"
            ]
          },
          "metadata": {
            "tags": []
          },
          "execution_count": 91
        }
      ]
    },
    {
      "cell_type": "code",
      "metadata": {
        "scrolled": true,
        "id": "YOJ5QH4pC6-X"
      },
      "source": [
        "#build our model\n",
        "model = Sequential()\n",
        "model.add(LSTM(units=50, batch_input_shape=(1, x.shape[1], x.shape[2]), stateful=True, return_sequences=True))\n",
        "model.add(Dropout(0.2))  \n",
        "model.add(LSTM(units=50, return_sequences=True))\n",
        "model.add(Dropout(0.2))\n",
        "model.add(LSTM(units=50, return_sequences=False))\n",
        "model.add(Dropout(0.2))\n",
        "model.add(Dense(units=1))\n",
        "model.compile(loss='mean_squared_error', optimizer='rmsprop')"
      ],
      "execution_count": null,
      "outputs": []
    },
    {
      "cell_type": "code",
      "metadata": {
        "colab": {
          "base_uri": "https://localhost:8080/"
        },
        "id": "V3rrLh15C6-X",
        "outputId": "61db9315-616a-4e93-b59c-42b3ea0d085d"
      },
      "source": [
        "model.summary()"
      ],
      "execution_count": null,
      "outputs": [
        {
          "output_type": "stream",
          "text": [
            "Model: \"sequential_1\"\n",
            "_________________________________________________________________\n",
            "Layer (type)                 Output Shape              Param #   \n",
            "=================================================================\n",
            "lstm_3 (LSTM)                (1, 1, 50)                10400     \n",
            "_________________________________________________________________\n",
            "dropout_3 (Dropout)          (1, 1, 50)                0         \n",
            "_________________________________________________________________\n",
            "lstm_4 (LSTM)                (1, 1, 50)                20200     \n",
            "_________________________________________________________________\n",
            "dropout_4 (Dropout)          (1, 1, 50)                0         \n",
            "_________________________________________________________________\n",
            "lstm_5 (LSTM)                (1, 50)                   20200     \n",
            "_________________________________________________________________\n",
            "dropout_5 (Dropout)          (1, 50)                   0         \n",
            "_________________________________________________________________\n",
            "dense_1 (Dense)              (1, 1)                    51        \n",
            "=================================================================\n",
            "Total params: 50,851\n",
            "Trainable params: 50,851\n",
            "Non-trainable params: 0\n",
            "_________________________________________________________________\n"
          ],
          "name": "stdout"
        }
      ]
    },
    {
      "cell_type": "code",
      "metadata": {
        "colab": {
          "base_uri": "https://localhost:8080/"
        },
        "id": "LxJ01uiZC6-X",
        "outputId": "0b954f5f-4c0b-4bef-89b3-d17c43513411"
      },
      "source": [
        "#fit the feature and label into the model, using batch size of 1 \n",
        "history = model.fit(x, y, epochs = 100, batch_size = 1, verbose=1, shuffle=False)"
      ],
      "execution_count": null,
      "outputs": [
        {
          "output_type": "stream",
          "text": [
            "Epoch 1/100\n",
            "72/72 [==============================] - 4s 3ms/step - loss: 0.4011\n",
            "Epoch 2/100\n",
            "72/72 [==============================] - 0s 2ms/step - loss: 0.3592\n",
            "Epoch 3/100\n",
            "72/72 [==============================] - 0s 2ms/step - loss: 0.3286\n",
            "Epoch 4/100\n",
            "72/72 [==============================] - 0s 2ms/step - loss: 0.2932\n",
            "Epoch 5/100\n",
            "72/72 [==============================] - 0s 2ms/step - loss: 0.2813\n",
            "Epoch 6/100\n",
            "72/72 [==============================] - 0s 3ms/step - loss: 0.2588\n",
            "Epoch 7/100\n",
            "72/72 [==============================] - 0s 3ms/step - loss: 0.2207\n",
            "Epoch 8/100\n",
            "72/72 [==============================] - 0s 3ms/step - loss: 0.2226\n",
            "Epoch 9/100\n",
            "72/72 [==============================] - 0s 2ms/step - loss: 0.1957\n",
            "Epoch 10/100\n",
            "72/72 [==============================] - 0s 3ms/step - loss: 0.1588\n",
            "Epoch 11/100\n",
            "72/72 [==============================] - 0s 3ms/step - loss: 0.1186\n",
            "Epoch 12/100\n",
            "72/72 [==============================] - 0s 3ms/step - loss: 0.1076\n",
            "Epoch 13/100\n",
            "72/72 [==============================] - 0s 2ms/step - loss: 0.0892\n",
            "Epoch 14/100\n",
            "72/72 [==============================] - 0s 2ms/step - loss: 0.0724\n",
            "Epoch 15/100\n",
            "72/72 [==============================] - 0s 2ms/step - loss: 0.1112\n",
            "Epoch 16/100\n",
            "72/72 [==============================] - 0s 2ms/step - loss: 0.0652\n",
            "Epoch 17/100\n",
            "72/72 [==============================] - 0s 2ms/step - loss: 0.0930\n",
            "Epoch 18/100\n",
            "72/72 [==============================] - 0s 2ms/step - loss: 0.0781\n",
            "Epoch 19/100\n",
            "72/72 [==============================] - 0s 2ms/step - loss: 0.0674\n",
            "Epoch 20/100\n",
            "72/72 [==============================] - 0s 2ms/step - loss: 0.0734\n",
            "Epoch 21/100\n",
            "72/72 [==============================] - 0s 2ms/step - loss: 0.0749\n",
            "Epoch 22/100\n",
            "72/72 [==============================] - 0s 3ms/step - loss: 0.0726\n",
            "Epoch 23/100\n",
            "72/72 [==============================] - 0s 3ms/step - loss: 0.0707\n",
            "Epoch 24/100\n",
            "72/72 [==============================] - 0s 2ms/step - loss: 0.0633\n",
            "Epoch 25/100\n",
            "72/72 [==============================] - 0s 2ms/step - loss: 0.0551\n",
            "Epoch 26/100\n",
            "72/72 [==============================] - 0s 2ms/step - loss: 0.0685\n",
            "Epoch 27/100\n",
            "72/72 [==============================] - 0s 2ms/step - loss: 0.0677\n",
            "Epoch 28/100\n",
            "72/72 [==============================] - 0s 2ms/step - loss: 0.0548\n",
            "Epoch 29/100\n",
            "72/72 [==============================] - 0s 3ms/step - loss: 0.0517\n",
            "Epoch 30/100\n",
            "72/72 [==============================] - 0s 2ms/step - loss: 0.0566\n",
            "Epoch 31/100\n",
            "72/72 [==============================] - 0s 2ms/step - loss: 0.0763\n",
            "Epoch 32/100\n",
            "72/72 [==============================] - 0s 2ms/step - loss: 0.0561\n",
            "Epoch 33/100\n",
            "72/72 [==============================] - 0s 2ms/step - loss: 0.0792\n",
            "Epoch 34/100\n",
            "72/72 [==============================] - 0s 2ms/step - loss: 0.0551\n",
            "Epoch 35/100\n",
            "72/72 [==============================] - 0s 2ms/step - loss: 0.0723\n",
            "Epoch 36/100\n",
            "72/72 [==============================] - 0s 2ms/step - loss: 0.0566\n",
            "Epoch 37/100\n",
            "72/72 [==============================] - 0s 2ms/step - loss: 0.0502\n",
            "Epoch 38/100\n",
            "72/72 [==============================] - 0s 2ms/step - loss: 0.0451\n",
            "Epoch 39/100\n",
            "72/72 [==============================] - 0s 3ms/step - loss: 0.0433\n",
            "Epoch 40/100\n",
            "72/72 [==============================] - 0s 2ms/step - loss: 0.0720\n",
            "Epoch 41/100\n",
            "72/72 [==============================] - 0s 2ms/step - loss: 0.0581\n",
            "Epoch 42/100\n",
            "72/72 [==============================] - 0s 2ms/step - loss: 0.0524\n",
            "Epoch 43/100\n",
            "72/72 [==============================] - 0s 2ms/step - loss: 0.0474\n",
            "Epoch 44/100\n",
            "72/72 [==============================] - 0s 3ms/step - loss: 0.0813\n",
            "Epoch 45/100\n",
            "72/72 [==============================] - 0s 3ms/step - loss: 0.0693\n",
            "Epoch 46/100\n",
            "72/72 [==============================] - 0s 3ms/step - loss: 0.0513\n",
            "Epoch 47/100\n",
            "72/72 [==============================] - 0s 2ms/step - loss: 0.0517\n",
            "Epoch 48/100\n",
            "72/72 [==============================] - 0s 2ms/step - loss: 0.0462\n",
            "Epoch 49/100\n",
            "72/72 [==============================] - 0s 2ms/step - loss: 0.0541\n",
            "Epoch 50/100\n",
            "72/72 [==============================] - 0s 2ms/step - loss: 0.0508\n",
            "Epoch 51/100\n",
            "72/72 [==============================] - 0s 3ms/step - loss: 0.0465\n",
            "Epoch 52/100\n",
            "72/72 [==============================] - 0s 2ms/step - loss: 0.0425\n",
            "Epoch 53/100\n",
            "72/72 [==============================] - 0s 2ms/step - loss: 0.0353\n",
            "Epoch 54/100\n",
            "72/72 [==============================] - 0s 2ms/step - loss: 0.0343\n",
            "Epoch 55/100\n",
            "72/72 [==============================] - 0s 2ms/step - loss: 0.0455\n",
            "Epoch 56/100\n",
            "72/72 [==============================] - 0s 3ms/step - loss: 0.0548\n",
            "Epoch 57/100\n",
            "72/72 [==============================] - 0s 3ms/step - loss: 0.0625\n",
            "Epoch 58/100\n",
            "72/72 [==============================] - 0s 3ms/step - loss: 0.0749\n",
            "Epoch 59/100\n",
            "72/72 [==============================] - 0s 3ms/step - loss: 0.0505\n",
            "Epoch 60/100\n",
            "72/72 [==============================] - 0s 2ms/step - loss: 0.0599\n",
            "Epoch 61/100\n",
            "72/72 [==============================] - 0s 2ms/step - loss: 0.0565\n",
            "Epoch 62/100\n",
            "72/72 [==============================] - 0s 3ms/step - loss: 0.0358\n",
            "Epoch 63/100\n",
            "72/72 [==============================] - 0s 2ms/step - loss: 0.0483\n",
            "Epoch 64/100\n",
            "72/72 [==============================] - 0s 3ms/step - loss: 0.0577\n",
            "Epoch 65/100\n",
            "72/72 [==============================] - 0s 3ms/step - loss: 0.0470\n",
            "Epoch 66/100\n",
            "72/72 [==============================] - 0s 2ms/step - loss: 0.0435\n",
            "Epoch 67/100\n",
            "72/72 [==============================] - 0s 3ms/step - loss: 0.0422\n",
            "Epoch 68/100\n",
            "72/72 [==============================] - 0s 3ms/step - loss: 0.0467\n",
            "Epoch 69/100\n",
            "72/72 [==============================] - 0s 3ms/step - loss: 0.0355\n",
            "Epoch 70/100\n",
            "72/72 [==============================] - 0s 3ms/step - loss: 0.0285\n",
            "Epoch 71/100\n",
            "72/72 [==============================] - 0s 3ms/step - loss: 0.0339\n",
            "Epoch 72/100\n",
            "72/72 [==============================] - 0s 3ms/step - loss: 0.0289\n",
            "Epoch 73/100\n",
            "72/72 [==============================] - 0s 2ms/step - loss: 0.0275\n",
            "Epoch 74/100\n",
            "72/72 [==============================] - 0s 2ms/step - loss: 0.0306\n",
            "Epoch 75/100\n",
            "72/72 [==============================] - 0s 2ms/step - loss: 0.0318\n",
            "Epoch 76/100\n",
            "72/72 [==============================] - 0s 3ms/step - loss: 0.0389\n",
            "Epoch 77/100\n",
            "72/72 [==============================] - 0s 2ms/step - loss: 0.0332\n",
            "Epoch 78/100\n",
            "72/72 [==============================] - 0s 3ms/step - loss: 0.0388\n",
            "Epoch 79/100\n",
            "72/72 [==============================] - 0s 3ms/step - loss: 0.0428\n",
            "Epoch 80/100\n",
            "72/72 [==============================] - 0s 3ms/step - loss: 0.0347\n",
            "Epoch 81/100\n",
            "72/72 [==============================] - 0s 2ms/step - loss: 0.0379\n",
            "Epoch 82/100\n",
            "72/72 [==============================] - 0s 3ms/step - loss: 0.0437\n",
            "Epoch 83/100\n",
            "72/72 [==============================] - 0s 2ms/step - loss: 0.0387\n",
            "Epoch 84/100\n",
            "72/72 [==============================] - 0s 2ms/step - loss: 0.0541\n",
            "Epoch 85/100\n",
            "72/72 [==============================] - 0s 2ms/step - loss: 0.0613\n",
            "Epoch 86/100\n",
            "72/72 [==============================] - 0s 2ms/step - loss: 0.0398\n",
            "Epoch 87/100\n",
            "72/72 [==============================] - 0s 2ms/step - loss: 0.0565\n",
            "Epoch 88/100\n",
            "72/72 [==============================] - 0s 2ms/step - loss: 0.0309\n",
            "Epoch 89/100\n",
            "72/72 [==============================] - 0s 3ms/step - loss: 0.0386\n",
            "Epoch 90/100\n",
            "72/72 [==============================] - 0s 2ms/step - loss: 0.0440\n",
            "Epoch 91/100\n",
            "72/72 [==============================] - 0s 2ms/step - loss: 0.0434\n",
            "Epoch 92/100\n",
            "72/72 [==============================] - 0s 3ms/step - loss: 0.0502\n",
            "Epoch 93/100\n",
            "72/72 [==============================] - 0s 2ms/step - loss: 0.0324\n",
            "Epoch 94/100\n",
            "72/72 [==============================] - 0s 2ms/step - loss: 0.0467\n",
            "Epoch 95/100\n",
            "72/72 [==============================] - 0s 2ms/step - loss: 0.0325\n",
            "Epoch 96/100\n",
            "72/72 [==============================] - 0s 2ms/step - loss: 0.0531\n",
            "Epoch 97/100\n",
            "72/72 [==============================] - 0s 3ms/step - loss: 0.0394\n",
            "Epoch 98/100\n",
            "72/72 [==============================] - 0s 3ms/step - loss: 0.0522\n",
            "Epoch 99/100\n",
            "72/72 [==============================] - 0s 3ms/step - loss: 0.0357\n",
            "Epoch 100/100\n",
            "72/72 [==============================] - 0s 3ms/step - loss: 0.0498\n"
          ],
          "name": "stdout"
        }
      ]
    },
    {
      "cell_type": "code",
      "metadata": {
        "colab": {
          "base_uri": "https://localhost:8080/",
          "height": 371
        },
        "id": "l9XWNndNC6-X",
        "outputId": "1c2042ac-fc6d-44e2-c000-6bb04c210303"
      },
      "source": [
        "#plot the model performance\n",
        "plt.figure(figsize=(8,5))\n",
        "plt.plot(history.history['loss'])\n",
        "plt.xlabel(\"Epochs\")\n",
        "plt.ylabel(\"Loss\")\n",
        "plt.title(\"Model Performance\")\n",
        "plt.show"
      ],
      "execution_count": null,
      "outputs": [
        {
          "output_type": "execute_result",
          "data": {
            "text/plain": [
              "<function matplotlib.pyplot.show>"
            ]
          },
          "metadata": {
            "tags": []
          },
          "execution_count": 36
        },
        {
          "output_type": "display_data",
          "data": {
            "image/png": "[encoded data removed]",
            "text/plain": [
              "<Figure size 576x360 with 1 Axes>"
            ]
          },
          "metadata": {
            "tags": [],
            "needs_background": "light"
          }
        }
      ]
    },
    {
      "cell_type": "code",
      "metadata": {
        "scrolled": true,
        "colab": {
          "base_uri": "https://localhost:8080/"
        },
        "id": "prTsKIUsC6-X",
        "outputId": "fbad2111-1556-427b-a138-ec91cefc55ba"
      },
      "source": [
        "#make prediction on the dataset\n",
        "prediction = model.predict(x, batch_size=1)\n",
        "prediction[:5]"
      ],
      "execution_count": null,
      "outputs": [
        {
          "output_type": "execute_result",
          "data": {
            "text/plain": [
              "array([[-0.40902478],\n",
              "       [-0.9493515 ],\n",
              "       [-0.9799767 ],\n",
              "       [-0.9960539 ],\n",
              "       [-0.97945786]], dtype=float32)"
            ]
          },
          "metadata": {
            "tags": []
          },
          "execution_count": 37
        }
      ]
    },
    {
      "cell_type": "code",
      "metadata": {
        "colab": {
          "base_uri": "https://localhost:8080/"
        },
        "id": "FNdGzZDSC6-Y",
        "outputId": "5cea83e3-e456-4e70-d05f-f7845b6278d6"
      },
      "source": [
        "#inverse transform the prediction to get the actual prediction price from the scaled one\n",
        "inverse_pred = scaler.inverse_transform(prediction)\n",
        "inverse_pred[:5]"
      ],
      "execution_count": null,
      "outputs": [
        {
          "output_type": "execute_result",
          "data": {
            "text/plain": [
              "array([[213.8737 ],\n",
              "       [139.01685],\n",
              "       [134.77403],\n",
              "       [132.54669],\n",
              "       [134.8459 ]], dtype=float32)"
            ]
          },
          "metadata": {
            "tags": []
          },
          "execution_count": 38
        }
      ]
    },
    {
      "cell_type": "code",
      "metadata": {
        "colab": {
          "base_uri": "https://localhost:8080/",
          "height": 202
        },
        "id": "jp9i_SNGC6-Y",
        "outputId": "6c99af62-c677-4cc2-a67b-03a0bfcbe061"
      },
      "source": [
        "#make the actual price and predicted price into a dataframe for easy comparison\n",
        "df_pred = pd.DataFrame()\n",
        "\n",
        "df_pred['date'] = df.index\n",
        "df_pred['price'] = list(df['price'])\n",
        "df_pred['prediction'] = inverse_pred\n",
        "df_pred.head()"
      ],
      "execution_count": null,
      "outputs": [
        {
          "output_type": "execute_result",
          "data": {
            "text/html": [
              "<div>\n",
              "<style scoped>\n",
              "    .dataframe tbody tr th:only-of-type {\n",
              "        vertical-align: middle;\n",
              "    }\n",
              "\n",
              "    .dataframe tbody tr th {\n",
              "        vertical-align: top;\n",
              "    }\n",
              "\n",
              "    .dataframe thead th {\n",
              "        text-align: right;\n",
              "    }\n",
              "</style>\n",
              "<table border=\"1\" class=\"dataframe\">\n",
              "  <thead>\n",
              "    <tr style=\"text-align: right;\">\n",
              "      <th></th>\n",
              "      <th>date</th>\n",
              "      <th>price</th>\n",
              "      <th>prediction</th>\n",
              "    </tr>\n",
              "  </thead>\n",
              "  <tbody>\n",
              "    <tr>\n",
              "      <th>0</th>\n",
              "      <td>2015-01-15</td>\n",
              "      <td>135.75</td>\n",
              "      <td>213.873703</td>\n",
              "    </tr>\n",
              "    <tr>\n",
              "      <th>1</th>\n",
              "      <td>2015-02-15</td>\n",
              "      <td>140.00</td>\n",
              "      <td>139.016846</td>\n",
              "    </tr>\n",
              "    <tr>\n",
              "      <th>2</th>\n",
              "      <td>2015-03-15</td>\n",
              "      <td>140.00</td>\n",
              "      <td>134.774033</td>\n",
              "    </tr>\n",
              "    <tr>\n",
              "      <th>3</th>\n",
              "      <td>2015-04-15</td>\n",
              "      <td>145.75</td>\n",
              "      <td>132.546692</td>\n",
              "    </tr>\n",
              "    <tr>\n",
              "      <th>4</th>\n",
              "      <td>2015-05-15</td>\n",
              "      <td>146.30</td>\n",
              "      <td>134.845901</td>\n",
              "    </tr>\n",
              "  </tbody>\n",
              "</table>\n",
              "</div>"
            ],
            "text/plain": [
              "        date   price  prediction\n",
              "0 2015-01-15  135.75  213.873703\n",
              "1 2015-02-15  140.00  139.016846\n",
              "2 2015-03-15  140.00  134.774033\n",
              "3 2015-04-15  145.75  132.546692\n",
              "4 2015-05-15  146.30  134.845901"
            ]
          },
          "metadata": {
            "tags": []
          },
          "execution_count": 39
        }
      ]
    },
    {
      "cell_type": "markdown",
      "metadata": {
        "id": "OgMoSWHuC6-Y"
      },
      "source": [
        "# scoring the model"
      ]
    },
    {
      "cell_type": "code",
      "metadata": {
        "id": "ElWTfjteC6-Y"
      },
      "source": [
        "from sklearn.metrics import mean_squared_error, r2_score"
      ],
      "execution_count": null,
      "outputs": []
    },
    {
      "cell_type": "code",
      "metadata": {
        "id": "gTWHChn7F3rM"
      },
      "source": [
        "y_true, y_pred = np.array(df_pred['price']), np.array(df_pred['prediction'])"
      ],
      "execution_count": null,
      "outputs": []
    },
    {
      "cell_type": "code",
      "metadata": {
        "colab": {
          "base_uri": "https://localhost:8080/"
        },
        "id": "p_inAHuKEqFP",
        "outputId": "4145b8bf-a4c5-45bc-91f9-ab970f8cba11"
      },
      "source": [
        "print('MSE', mean_squared_error(y_true, y_pred))"
      ],
      "execution_count": null,
      "outputs": [
        {
          "output_type": "stream",
          "text": [
            "MSE 509.6561592816484\n"
          ],
          "name": "stdout"
        }
      ]
    },
    {
      "cell_type": "code",
      "metadata": {
        "colab": {
          "base_uri": "https://localhost:8080/"
        },
        "id": "Ncwobe1-C6-Z",
        "outputId": "d61074ec-3819-48b3-a4ed-2c88df1979b0"
      },
      "source": [
        "print('RMSE ', np.sqrt(np.mean(np.abs((y_true - y_pred) / y_true)) * 100))"
      ],
      "execution_count": null,
      "outputs": [
        {
          "output_type": "stream",
          "text": [
            "RMSE  2.5934889762377416\n"
          ],
          "name": "stdout"
        }
      ]
    },
    {
      "cell_type": "code",
      "metadata": {
        "colab": {
          "base_uri": "https://localhost:8080/"
        },
        "id": "lxYPkHiWC6-Z",
        "outputId": "2cb5d014-3060-44fb-8d59-c0004899c14c"
      },
      "source": [
        "print('R2 Score ', r2_score(y_true, y_pred))"
      ],
      "execution_count": null,
      "outputs": [
        {
          "output_type": "stream",
          "text": [
            "R2 Score  0.8836211927092437\n"
          ],
          "name": "stdout"
        }
      ]
    },
    {
      "cell_type": "code",
      "metadata": {
        "id": "Y8mh_GE1C6-Z"
      },
      "source": [
        "def mean_absolute_percentage_error(y_true, y_pred): \n",
        "    y_true, y_pred = np.array(y_true), np.array(y_pred)\n",
        "    return np.mean(np.abs((y_true - y_pred) / y_true)) * 100"
      ],
      "execution_count": null,
      "outputs": []
    },
    {
      "cell_type": "code",
      "metadata": {
        "colab": {
          "base_uri": "https://localhost:8080/"
        },
        "id": "ssbhnvckC6-Z",
        "outputId": "858db07a-a8db-4531-9af4-8405a6a0ce7e"
      },
      "source": [
        "mape = mean_absolute_percentage_error(df_pred['price'], df_pred['prediction'])\n",
        "mape"
      ],
      "execution_count": null,
      "outputs": [
        {
          "output_type": "execute_result",
          "data": {
            "text/plain": [
              "6.726185069866688"
            ]
          },
          "metadata": {
            "tags": []
          },
          "execution_count": 46
        }
      ]
    },
    {
      "cell_type": "markdown",
      "metadata": {
        "id": "XMghPWBqC6-Z"
      },
      "source": [
        "# Compare the actual price and the prediction"
      ]
    },
    {
      "cell_type": "code",
      "metadata": {
        "id": "X73uNDZcC6-Z"
      },
      "source": [
        "#SET DATE COLUMN AS INDEX\n",
        "df_pred.set_index('date', inplace=True)\n",
        "df_pred.index = pd.to_datetime(df_pred.index)"
      ],
      "execution_count": null,
      "outputs": []
    },
    {
      "cell_type": "code",
      "metadata": {
        "scrolled": true,
        "colab": {
          "base_uri": "https://localhost:8080/",
          "height": 500
        },
        "id": "cvRy3k7oC6-a",
        "outputId": "944e92a1-2d74-4f01-de6b-c07e890374b2"
      },
      "source": [
        "#plot the actual and the predicted price\n",
        "plt.figure(figsize=(12,8))\n",
        "plt.plot(df_pred['price'], color=\"blue\", label=\"actual\")\n",
        "plt.plot(df_pred['prediction'], color=\"red\", label=\"predicted\")\n",
        "plt.title(\"Rice Price Prediction\")\n",
        "plt.legend()\n",
        "plt.show()"
      ],
      "execution_count": null,
      "outputs": [
        {
          "output_type": "display_data",
          "data": {
            "image/png": "[encoded data removed]",
            "text/plain": [
              "<Figure size 864x576 with 1 Axes>"
            ]
          },
          "metadata": {
            "tags": [],
            "needs_background": "light"
          }
        }
      ]
    },
    {
      "cell_type": "code",
      "metadata": {
        "scrolled": true,
        "colab": {
          "base_uri": "https://localhost:8080/",
          "height": 599
        },
        "id": "xRwGMELsC6-a",
        "outputId": "d3614b74-05ac-4c39-ccd2-5b6c71b65248"
      },
      "source": [
        "df.tail()"
      ],
      "execution_count": null,
      "outputs": [
        {
          "output_type": "execute_result",
          "data": {
            "text/html": [
              "<div>\n",
              "<style scoped>\n",
              "    .dataframe tbody tr th:only-of-type {\n",
              "        vertical-align: middle;\n",
              "    }\n",
              "\n",
              "    .dataframe tbody tr th {\n",
              "        vertical-align: top;\n",
              "    }\n",
              "\n",
              "    .dataframe thead th {\n",
              "        text-align: right;\n",
              "    }\n",
              "</style>\n",
              "<table border=\"1\" class=\"dataframe\">\n",
              "  <thead>\n",
              "    <tr style=\"text-align: right;\">\n",
              "      <th></th>\n",
              "      <th>cmname</th>\n",
              "      <th>unit</th>\n",
              "      <th>category</th>\n",
              "      <th>price</th>\n",
              "      <th>currency</th>\n",
              "      <th>country</th>\n",
              "      <th>admname</th>\n",
              "      <th>adm1id</th>\n",
              "      <th>mktname</th>\n",
              "      <th>mktid</th>\n",
              "      <th>cmid</th>\n",
              "      <th>ptid</th>\n",
              "      <th>umid</th>\n",
              "      <th>catid</th>\n",
              "      <th>sn</th>\n",
              "      <th>default</th>\n",
              "      <th>year</th>\n",
              "      <th>label</th>\n",
              "      <th>cmnameshort</th>\n",
              "      <th>scaling</th>\n",
              "      <th>interpolated</th>\n",
              "      <th>x</th>\n",
              "      <th>day</th>\n",
              "      <th>month</th>\n",
              "    </tr>\n",
              "    <tr>\n",
              "      <th>date</th>\n",
              "      <th></th>\n",
              "      <th></th>\n",
              "      <th></th>\n",
              "      <th></th>\n",
              "      <th></th>\n",
              "      <th></th>\n",
              "      <th></th>\n",
              "      <th></th>\n",
              "      <th></th>\n",
              "      <th></th>\n",
              "      <th></th>\n",
              "      <th></th>\n",
              "      <th></th>\n",
              "      <th></th>\n",
              "      <th></th>\n",
              "      <th></th>\n",
              "      <th></th>\n",
              "      <th></th>\n",
              "      <th></th>\n",
              "      <th></th>\n",
              "      <th></th>\n",
              "      <th></th>\n",
              "      <th></th>\n",
              "      <th></th>\n",
              "    </tr>\n",
              "  </thead>\n",
              "  <tbody>\n",
              "    <tr>\n",
              "      <th>2020-08-15</th>\n",
              "      <td>Rice (local) - Wholesale</td>\n",
              "      <td>1/100 100 KG</td>\n",
              "      <td>cereals and tubers</td>\n",
              "      <td>409.08</td>\n",
              "      <td>NGN</td>\n",
              "      <td>Nigeria</td>\n",
              "      <td>Borno</td>\n",
              "      <td>2216.0</td>\n",
              "      <td>Biu</td>\n",
              "      <td>1968.0</td>\n",
              "      <td>71</td>\n",
              "      <td>14.0</td>\n",
              "      <td>9.0</td>\n",
              "      <td>1</td>\n",
              "      <td>1968_71_14_9</td>\n",
              "      <td>NaN</td>\n",
              "      <td>2020</td>\n",
              "      <td>Rice (local) - Wholesale (1/100 100 KG)</td>\n",
              "      <td>Rice loc. Whs.</td>\n",
              "      <td>0.01</td>\n",
              "      <td>0.0</td>\n",
              "      <td>1.597450e+09</td>\n",
              "      <td>15</td>\n",
              "      <td>8</td>\n",
              "    </tr>\n",
              "    <tr>\n",
              "      <th>2020-09-15</th>\n",
              "      <td>Rice (local) - Wholesale</td>\n",
              "      <td>1/100 100 KG</td>\n",
              "      <td>cereals and tubers</td>\n",
              "      <td>404.35</td>\n",
              "      <td>NGN</td>\n",
              "      <td>Nigeria</td>\n",
              "      <td>Borno</td>\n",
              "      <td>2216.0</td>\n",
              "      <td>Biu</td>\n",
              "      <td>1968.0</td>\n",
              "      <td>71</td>\n",
              "      <td>14.0</td>\n",
              "      <td>9.0</td>\n",
              "      <td>1</td>\n",
              "      <td>1968_71_14_9</td>\n",
              "      <td>NaN</td>\n",
              "      <td>2020</td>\n",
              "      <td>Rice (local) - Wholesale (1/100 100 KG)</td>\n",
              "      <td>Rice loc. Whs.</td>\n",
              "      <td>0.01</td>\n",
              "      <td>0.0</td>\n",
              "      <td>1.600128e+09</td>\n",
              "      <td>15</td>\n",
              "      <td>9</td>\n",
              "    </tr>\n",
              "    <tr>\n",
              "      <th>2020-10-15</th>\n",
              "      <td>Rice (local) - Wholesale</td>\n",
              "      <td>1/100 100 KG</td>\n",
              "      <td>cereals and tubers</td>\n",
              "      <td>345.00</td>\n",
              "      <td>NGN</td>\n",
              "      <td>Nigeria</td>\n",
              "      <td>Jigawa</td>\n",
              "      <td>2223.0</td>\n",
              "      <td>Gujungu</td>\n",
              "      <td>1973.0</td>\n",
              "      <td>71</td>\n",
              "      <td>14.0</td>\n",
              "      <td>9.0</td>\n",
              "      <td>1</td>\n",
              "      <td>1973_71_14_9</td>\n",
              "      <td>NaN</td>\n",
              "      <td>2020</td>\n",
              "      <td>Rice (local) - Wholesale (1/100 100 KG)</td>\n",
              "      <td>Rice loc. Whs.</td>\n",
              "      <td>0.01</td>\n",
              "      <td>0.0</td>\n",
              "      <td>1.602720e+09</td>\n",
              "      <td>15</td>\n",
              "      <td>10</td>\n",
              "    </tr>\n",
              "    <tr>\n",
              "      <th>2020-11-15</th>\n",
              "      <td>Rice (local) - Wholesale</td>\n",
              "      <td>1/100 100 KG</td>\n",
              "      <td>cereals and tubers</td>\n",
              "      <td>336.00</td>\n",
              "      <td>NGN</td>\n",
              "      <td>Nigeria</td>\n",
              "      <td>Jigawa</td>\n",
              "      <td>2223.0</td>\n",
              "      <td>Gujungu</td>\n",
              "      <td>1973.0</td>\n",
              "      <td>71</td>\n",
              "      <td>14.0</td>\n",
              "      <td>9.0</td>\n",
              "      <td>1</td>\n",
              "      <td>1973_71_14_9</td>\n",
              "      <td>NaN</td>\n",
              "      <td>2020</td>\n",
              "      <td>Rice (local) - Wholesale (1/100 100 KG)</td>\n",
              "      <td>Rice loc. Whs.</td>\n",
              "      <td>0.01</td>\n",
              "      <td>0.0</td>\n",
              "      <td>1.605398e+09</td>\n",
              "      <td>15</td>\n",
              "      <td>11</td>\n",
              "    </tr>\n",
              "    <tr>\n",
              "      <th>2020-12-15</th>\n",
              "      <td>Rice (local) - Wholesale</td>\n",
              "      <td>1/100 100 KG</td>\n",
              "      <td>cereals and tubers</td>\n",
              "      <td>345.00</td>\n",
              "      <td>NGN</td>\n",
              "      <td>Nigeria</td>\n",
              "      <td>Gombe</td>\n",
              "      <td>65704.0</td>\n",
              "      <td>Gombe</td>\n",
              "      <td>1972.0</td>\n",
              "      <td>71</td>\n",
              "      <td>14.0</td>\n",
              "      <td>9.0</td>\n",
              "      <td>1</td>\n",
              "      <td>1972_71_14_9</td>\n",
              "      <td>NaN</td>\n",
              "      <td>2020</td>\n",
              "      <td>Rice (local) - Wholesale (1/100 100 KG)</td>\n",
              "      <td>Rice loc. Whs.</td>\n",
              "      <td>0.01</td>\n",
              "      <td>0.0</td>\n",
              "      <td>1.607990e+09</td>\n",
              "      <td>15</td>\n",
              "      <td>12</td>\n",
              "    </tr>\n",
              "  </tbody>\n",
              "</table>\n",
              "</div>"
            ],
            "text/plain": [
              "                              cmname          unit  ... day  month\n",
              "date                                                ...           \n",
              "2020-08-15  Rice (local) - Wholesale  1/100 100 KG  ...  15      8\n",
              "2020-09-15  Rice (local) - Wholesale  1/100 100 KG  ...  15      9\n",
              "2020-10-15  Rice (local) - Wholesale  1/100 100 KG  ...  15     10\n",
              "2020-11-15  Rice (local) - Wholesale  1/100 100 KG  ...  15     11\n",
              "2020-12-15  Rice (local) - Wholesale  1/100 100 KG  ...  15     12\n",
              "\n",
              "[5 rows x 24 columns]"
            ]
          },
          "metadata": {
            "tags": []
          },
          "execution_count": 49
        }
      ]
    },
    {
      "cell_type": "markdown",
      "metadata": {
        "id": "fpEMfBvSC6-a"
      },
      "source": [
        "# Focasting 12 months"
      ]
    },
    {
      "cell_type": "code",
      "metadata": {
        "colab": {
          "base_uri": "https://localhost:8080/"
        },
        "id": "0W2gzsEEC6-a",
        "outputId": "da87bd9e-4961-440a-d0dc-4165f112dce0"
      },
      "source": [
        "#past price data scaled\n",
        "price_ = scaler.transform([df['price']]).reshape(-1)\n",
        "price_[:5]"
      ],
      "execution_count": null,
      "outputs": [
        {
          "output_type": "execute_result",
          "data": {
            "text/plain": [
              "array([-0.97293201, -0.94225494, -0.94225494, -0.90075069, -0.89678071])"
            ]
          },
          "metadata": {
            "tags": []
          },
          "execution_count": 50
        }
      ]
    },
    {
      "cell_type": "code",
      "metadata": {
        "scrolled": true,
        "colab": {
          "base_uri": "https://localhost:8080/"
        },
        "id": "e8aRbwBSC6-a",
        "outputId": "9e5f700d-8d20-40a1-f731-9dca8b82e2be"
      },
      "source": [
        "price_.shape"
      ],
      "execution_count": null,
      "outputs": [
        {
          "output_type": "execute_result",
          "data": {
            "text/plain": [
              "(72,)"
            ]
          },
          "metadata": {
            "tags": []
          },
          "execution_count": 51
        }
      ]
    },
    {
      "cell_type": "code",
      "metadata": {
        "id": "RhJncU8MC6-a"
      },
      "source": [
        "#1 year, 12 months forcast\n",
        "\n",
        "num_prediction = 11\n",
        "look_back = 1\n",
        "past = price_\n",
        "forecast = past[-look_back:] \n",
        "for _ in range(num_prediction):\n",
        "        x = forecast[-look_back:]\n",
        "        x = x.reshape((1, look_back, 1))\n",
        "        out = model.predict(x)[0][0]\n",
        "        forecast = np.append(forecast, out)\n",
        "        \n",
        "forecast = forecast[look_back-1:]"
      ],
      "execution_count": null,
      "outputs": []
    },
    {
      "cell_type": "code",
      "metadata": {
        "colab": {
          "base_uri": "https://localhost:8080/"
        },
        "id": "vex1VG2IC6-a",
        "outputId": "758e5d8f-029c-4ede-be78-c8bb45038973"
      },
      "source": [
        "#12months forcast date\n",
        "last_date = df_pred.index.values[-1]\n",
        "forecast_dates = pd.date_range(last_date, periods=num_prediction+1, freq='MS').tolist()\n",
        "forecast_dates[:5]"
      ],
      "execution_count": null,
      "outputs": [
        {
          "output_type": "execute_result",
          "data": {
            "text/plain": [
              "[Timestamp('2021-01-01 00:00:00', freq='MS'),\n",
              " Timestamp('2021-02-01 00:00:00', freq='MS'),\n",
              " Timestamp('2021-03-01 00:00:00', freq='MS'),\n",
              " Timestamp('2021-04-01 00:00:00', freq='MS'),\n",
              " Timestamp('2021-05-01 00:00:00', freq='MS')]"
            ]
          },
          "metadata": {
            "tags": []
          },
          "execution_count": 53
        }
      ]
    },
    {
      "cell_type": "code",
      "metadata": {
        "colab": {
          "base_uri": "https://localhost:8080/"
        },
        "id": "l2LybtDXC6-b",
        "outputId": "510cbcfd-c2ea-4e85-8aaa-efc4b171bdfc"
      },
      "source": [
        "#forecast\r\n",
        "forecast"
      ],
      "execution_count": null,
      "outputs": [
        {
          "output_type": "execute_result",
          "data": {
            "text/plain": [
              "array([ 0.5374621 ,  0.38558626,  0.0673452 , -0.3539542 , -0.67463869,\n",
              "       -0.82384181, -0.88910699, -0.92017084, -0.93426061, -0.93742275,\n",
              "       -0.93003976, -0.91001737])"
            ]
          },
          "metadata": {
            "tags": []
          },
          "execution_count": 54
        }
      ]
    },
    {
      "cell_type": "code",
      "metadata": {
        "colab": {
          "base_uri": "https://localhost:8080/"
        },
        "id": "fTsnEXm4C6-b",
        "outputId": "1327cf3f-ed95-4fd4-e356-745d6441c518"
      },
      "source": [
        "len(forecast_dates)"
      ],
      "execution_count": null,
      "outputs": [
        {
          "output_type": "execute_result",
          "data": {
            "text/plain": [
              "12"
            ]
          },
          "metadata": {
            "tags": []
          },
          "execution_count": 55
        }
      ]
    },
    {
      "cell_type": "code",
      "metadata": {
        "colab": {
          "base_uri": "https://localhost:8080/"
        },
        "id": "a_eZKOxiC6-b",
        "outputId": "03bb0506-4158-4eab-e8de-14b38bf7d627"
      },
      "source": [
        "#inverse transform the forecast to get the actual forecast price from the scaled one\n",
        "forecast = scaler.inverse_transform(forecast.reshape(-1, 1))\n",
        "forecast[:5]"
      ],
      "execution_count": null,
      "outputs": [
        {
          "output_type": "execute_result",
          "data": {
            "text/plain": [
              "array([[345.        ],\n",
              "       [323.9591207 ],\n",
              "       [279.87000428],\n",
              "       [221.50318569],\n",
              "       [177.07555609]])"
            ]
          },
          "metadata": {
            "tags": []
          },
          "execution_count": 56
        }
      ]
    },
    {
      "cell_type": "code",
      "metadata": {
        "colab": {
          "base_uri": "https://localhost:8080/"
        },
        "id": "n6wkyStsC6-b",
        "outputId": "9516da52-cc6b-4c90-b163-482de10a54be"
      },
      "source": [
        "len(forecast)"
      ],
      "execution_count": null,
      "outputs": [
        {
          "output_type": "execute_result",
          "data": {
            "text/plain": [
              "12"
            ]
          },
          "metadata": {
            "tags": []
          },
          "execution_count": 57
        }
      ]
    },
    {
      "cell_type": "code",
      "metadata": {
        "colab": {
          "base_uri": "https://localhost:8080/",
          "height": 233
        },
        "id": "_ucR4peUC6-b",
        "outputId": "0bc19dae-4cec-44cf-a782-4f091f87e02f"
      },
      "source": [
        "#forcast into dataframe\n",
        "future = pd.DataFrame()\n",
        "future['date'] = list(forecast_dates)\n",
        "future['predicted_price'] = forecast\n",
        "future.set_index('date', inplace=True)\n",
        "future.index = pd.to_datetime(future.index)\n",
        "future.head()"
      ],
      "execution_count": null,
      "outputs": [
        {
          "output_type": "execute_result",
          "data": {
            "text/html": [
              "<div>\n",
              "<style scoped>\n",
              "    .dataframe tbody tr th:only-of-type {\n",
              "        vertical-align: middle;\n",
              "    }\n",
              "\n",
              "    .dataframe tbody tr th {\n",
              "        vertical-align: top;\n",
              "    }\n",
              "\n",
              "    .dataframe thead th {\n",
              "        text-align: right;\n",
              "    }\n",
              "</style>\n",
              "<table border=\"1\" class=\"dataframe\">\n",
              "  <thead>\n",
              "    <tr style=\"text-align: right;\">\n",
              "      <th></th>\n",
              "      <th>predicted_price</th>\n",
              "    </tr>\n",
              "    <tr>\n",
              "      <th>date</th>\n",
              "      <th></th>\n",
              "    </tr>\n",
              "  </thead>\n",
              "  <tbody>\n",
              "    <tr>\n",
              "      <th>2021-01-01</th>\n",
              "      <td>345.000000</td>\n",
              "    </tr>\n",
              "    <tr>\n",
              "      <th>2021-02-01</th>\n",
              "      <td>323.959121</td>\n",
              "    </tr>\n",
              "    <tr>\n",
              "      <th>2021-03-01</th>\n",
              "      <td>279.870004</td>\n",
              "    </tr>\n",
              "    <tr>\n",
              "      <th>2021-04-01</th>\n",
              "      <td>221.503186</td>\n",
              "    </tr>\n",
              "    <tr>\n",
              "      <th>2021-05-01</th>\n",
              "      <td>177.075556</td>\n",
              "    </tr>\n",
              "  </tbody>\n",
              "</table>\n",
              "</div>"
            ],
            "text/plain": [
              "            predicted_price\n",
              "date                       \n",
              "2021-01-01       345.000000\n",
              "2021-02-01       323.959121\n",
              "2021-03-01       279.870004\n",
              "2021-04-01       221.503186\n",
              "2021-05-01       177.075556"
            ]
          },
          "metadata": {
            "tags": []
          },
          "execution_count": 58
        }
      ]
    },
    {
      "cell_type": "code",
      "metadata": {
        "colab": {
          "base_uri": "https://localhost:8080/",
          "height": 517
        },
        "id": "bRbuE65dC6-c",
        "outputId": "1498a566-c3c8-43ff-ecde-588eca104e16"
      },
      "source": [
        "plt.figure(figsize=(12,8))\n",
        "\n",
        "plt.plot(df_pred['price'], color='blue', label=\"past\")\n",
        "plt.plot(future['predicted_price'], color='red', label=\"future\")\n",
        "plt.title('Future Rice Price Predictions')\n",
        "plt.legend()\n",
        "plt.show"
      ],
      "execution_count": null,
      "outputs": [
        {
          "output_type": "execute_result",
          "data": {
            "text/plain": [
              "<function matplotlib.pyplot.show>"
            ]
          },
          "metadata": {
            "tags": []
          },
          "execution_count": 59
        },
        {
          "output_type": "display_data",
          "data": {
            "image/png": "[encoded data removed]",
            "text/plain": [
              "<Figure size 864x576 with 1 Axes>"
            ]
          },
          "metadata": {
            "tags": [],
            "needs_background": "light"
          }
        }
      ]
    },
    {
      "cell_type": "markdown",
      "metadata": {
        "id": "yYhlqef0JrCv"
      },
      "source": [
        "# Conclusion\r\n",
        "The model performance on the existing data gave an r2 score of 88.36%\r\n",
        "\r\n",
        "The model forecast that the price of wholesale local rice will drastically reduce in 2022."
      ]
    },
    {
      "cell_type": "code",
      "metadata": {
        "id": "adKho5nJC6-c"
      },
      "source": [
        ""
      ],
      "execution_count": null,
      "outputs": []
    }
  ]
}