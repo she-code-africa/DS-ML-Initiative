{
 "cells": [
  {
   "cell_type": "markdown",
   "metadata": {},
   "source": [
    "#  Task: Exploratory data analysis on the proportion of women to men represention in San Francisco "
   ]
  },
  {
   "cell_type": "code",
   "execution_count": 1,
   "metadata": {},
   "outputs": [],
   "source": [
    "import numpy as np\n",
    "import pandas as pd\n",
    "import seaborn as sns\n",
    "import matplotlib.pyplot as plt"
   ]
  },
  {
   "cell_type": "code",
   "execution_count": 2,
   "metadata": {},
   "outputs": [
    {
     "data": {
      "text/html": [
       "<div>\n",
       "<style scoped>\n",
       "    .dataframe tbody tr th:only-of-type {\n",
       "        vertical-align: middle;\n",
       "    }\n",
       "\n",
       "    .dataframe tbody tr th {\n",
       "        vertical-align: top;\n",
       "    }\n",
       "\n",
       "    .dataframe thead th {\n",
       "        text-align: right;\n",
       "    }\n",
       "</style>\n",
       "<table border=\"1\" class=\"dataframe\">\n",
       "  <thead>\n",
       "    <tr style=\"text-align: right;\">\n",
       "      <th></th>\n",
       "      <th>Department/Source</th>\n",
       "      <th>Name</th>\n",
       "      <th>Person</th>\n",
       "      <th>Gender</th>\n",
       "      <th>Reference</th>\n",
       "      <th>Comments</th>\n",
       "      <th>Current Police Districts</th>\n",
       "      <th>Current Supervisor Districts</th>\n",
       "      <th>Analysis Neighborhoods</th>\n",
       "      <th>Neighborhoods</th>\n",
       "      <th>SF Find Neighborhoods</th>\n",
       "    </tr>\n",
       "  </thead>\n",
       "  <tbody>\n",
       "    <tr>\n",
       "      <th>0</th>\n",
       "      <td>Administrator</td>\n",
       "      <td>MOSCONE CENTER (South)</td>\n",
       "      <td>George R. Moscone</td>\n",
       "      <td>M</td>\n",
       "      <td>City Administrator</td>\n",
       "      <td>NaN</td>\n",
       "      <td>4</td>\n",
       "      <td>10</td>\n",
       "      <td>36</td>\n",
       "      <td>21</td>\n",
       "      <td>21</td>\n",
       "    </tr>\n",
       "    <tr>\n",
       "      <th>1</th>\n",
       "      <td>Administrator</td>\n",
       "      <td>Maxine Hall Health Center</td>\n",
       "      <td>NaN</td>\n",
       "      <td>F</td>\n",
       "      <td>Public Health</td>\n",
       "      <td>NaN</td>\n",
       "      <td>4</td>\n",
       "      <td>10</td>\n",
       "      <td>36</td>\n",
       "      <td>21</td>\n",
       "      <td>21</td>\n",
       "    </tr>\n",
       "    <tr>\n",
       "      <th>2</th>\n",
       "      <td>REC AND PARKS</td>\n",
       "      <td>Moscone Recreation Center</td>\n",
       "      <td>George R. Moscone</td>\n",
       "      <td>M</td>\n",
       "      <td>NaN</td>\n",
       "      <td>park</td>\n",
       "      <td>4</td>\n",
       "      <td>10</td>\n",
       "      <td>36</td>\n",
       "      <td>21</td>\n",
       "      <td>21</td>\n",
       "    </tr>\n",
       "    <tr>\n",
       "      <th>3</th>\n",
       "      <td>REC AND PARKS</td>\n",
       "      <td>Helen Crocker Russell Library of Horticulture,...</td>\n",
       "      <td>Helen Crocker</td>\n",
       "      <td>F</td>\n",
       "      <td>NaN</td>\n",
       "      <td>facilities and other amenities</td>\n",
       "      <td>4</td>\n",
       "      <td>10</td>\n",
       "      <td>36</td>\n",
       "      <td>21</td>\n",
       "      <td>21</td>\n",
       "    </tr>\n",
       "    <tr>\n",
       "      <th>4</th>\n",
       "      <td>REC AND PARKS</td>\n",
       "      <td>Sharon Building,  Golden Gate Park</td>\n",
       "      <td>Sharon Building</td>\n",
       "      <td>M</td>\n",
       "      <td>NaN</td>\n",
       "      <td>facilities and other amenities</td>\n",
       "      <td>4</td>\n",
       "      <td>10</td>\n",
       "      <td>36</td>\n",
       "      <td>21</td>\n",
       "      <td>21</td>\n",
       "    </tr>\n",
       "  </tbody>\n",
       "</table>\n",
       "</div>"
      ],
      "text/plain": [
       "  Department/Source                                               Name  \\\n",
       "0     Administrator                             MOSCONE CENTER (South)   \n",
       "1     Administrator                          Maxine Hall Health Center   \n",
       "2     REC AND PARKS                          Moscone Recreation Center   \n",
       "3     REC AND PARKS  Helen Crocker Russell Library of Horticulture,...   \n",
       "4     REC AND PARKS                 Sharon Building,  Golden Gate Park   \n",
       "\n",
       "              Person Gender           Reference  \\\n",
       "0  George R. Moscone      M  City Administrator   \n",
       "1                NaN      F       Public Health   \n",
       "2  George R. Moscone      M                 NaN   \n",
       "3      Helen Crocker      F                 NaN   \n",
       "4    Sharon Building      M                 NaN   \n",
       "\n",
       "                         Comments  Current Police Districts  \\\n",
       "0                             NaN                         4   \n",
       "1                             NaN                         4   \n",
       "2                            park                         4   \n",
       "3  facilities and other amenities                         4   \n",
       "4  facilities and other amenities                         4   \n",
       "\n",
       "   Current Supervisor Districts  Analysis Neighborhoods  Neighborhoods  \\\n",
       "0                            10                      36             21   \n",
       "1                            10                      36             21   \n",
       "2                            10                      36             21   \n",
       "3                            10                      36             21   \n",
       "4                            10                      36             21   \n",
       "\n",
       "   SF Find Neighborhoods  \n",
       "0                     21  \n",
       "1                     21  \n",
       "2                     21  \n",
       "3                     21  \n",
       "4                     21  "
      ]
     },
     "execution_count": 2,
     "metadata": {},
     "output_type": "execute_result"
    }
   ],
   "source": [
    "df=pd.read_csv('WomenRepresentaionInCityProperty-SanFrancisco.csv')\n",
    "df.head()"
   ]
  },
  {
   "cell_type": "code",
   "execution_count": 3,
   "metadata": {},
   "outputs": [
    {
     "name": "stdout",
     "output_type": "stream",
     "text": [
      "<class 'pandas.core.frame.DataFrame'>\n",
      "RangeIndex: 82 entries, 0 to 81\n",
      "Data columns (total 11 columns):\n",
      " #   Column                        Non-Null Count  Dtype \n",
      "---  ------                        --------------  ----- \n",
      " 0   Department/Source             82 non-null     object\n",
      " 1   Name                          82 non-null     object\n",
      " 2   Person                        81 non-null     object\n",
      " 3   Gender                        82 non-null     object\n",
      " 4   Reference                     54 non-null     object\n",
      " 5   Comments                      32 non-null     object\n",
      " 6   Current Police Districts      82 non-null     int64 \n",
      " 7   Current Supervisor Districts  82 non-null     int64 \n",
      " 8   Analysis Neighborhoods        82 non-null     int64 \n",
      " 9   Neighborhoods                 82 non-null     int64 \n",
      " 10  SF Find Neighborhoods         82 non-null     int64 \n",
      "dtypes: int64(5), object(6)\n",
      "memory usage: 7.2+ KB\n"
     ]
    }
   ],
   "source": [
    "df.info()"
   ]
  },
  {
   "cell_type": "code",
   "execution_count": 4,
   "metadata": {},
   "outputs": [
    {
     "data": {
      "text/html": [
       "<div>\n",
       "<style scoped>\n",
       "    .dataframe tbody tr th:only-of-type {\n",
       "        vertical-align: middle;\n",
       "    }\n",
       "\n",
       "    .dataframe tbody tr th {\n",
       "        vertical-align: top;\n",
       "    }\n",
       "\n",
       "    .dataframe thead th {\n",
       "        text-align: right;\n",
       "    }\n",
       "</style>\n",
       "<table border=\"1\" class=\"dataframe\">\n",
       "  <thead>\n",
       "    <tr style=\"text-align: right;\">\n",
       "      <th></th>\n",
       "      <th>Department/Source</th>\n",
       "      <th>Name</th>\n",
       "      <th>Person</th>\n",
       "      <th>Gender</th>\n",
       "      <th>Reference</th>\n",
       "      <th>Comments</th>\n",
       "      <th>Current Police Districts</th>\n",
       "      <th>Current Supervisor Districts</th>\n",
       "      <th>Analysis Neighborhoods</th>\n",
       "      <th>Neighborhoods</th>\n",
       "      <th>SF Find Neighborhoods</th>\n",
       "    </tr>\n",
       "  </thead>\n",
       "  <tbody>\n",
       "    <tr>\n",
       "      <th>count</th>\n",
       "      <td>82</td>\n",
       "      <td>82</td>\n",
       "      <td>81</td>\n",
       "      <td>82</td>\n",
       "      <td>54</td>\n",
       "      <td>32</td>\n",
       "      <td>82.0</td>\n",
       "      <td>82.0</td>\n",
       "      <td>82.0</td>\n",
       "      <td>82.0</td>\n",
       "      <td>82.0</td>\n",
       "    </tr>\n",
       "    <tr>\n",
       "      <th>unique</th>\n",
       "      <td>8</td>\n",
       "      <td>82</td>\n",
       "      <td>69</td>\n",
       "      <td>5</td>\n",
       "      <td>21</td>\n",
       "      <td>13</td>\n",
       "      <td>NaN</td>\n",
       "      <td>NaN</td>\n",
       "      <td>NaN</td>\n",
       "      <td>NaN</td>\n",
       "      <td>NaN</td>\n",
       "    </tr>\n",
       "    <tr>\n",
       "      <th>top</th>\n",
       "      <td>Administrator</td>\n",
       "      <td>Flynn Tire Shop</td>\n",
       "      <td>George R. Moscone</td>\n",
       "      <td>M</td>\n",
       "      <td>Municipal Transportation Agency</td>\n",
       "      <td>facilities and other amenities</td>\n",
       "      <td>NaN</td>\n",
       "      <td>NaN</td>\n",
       "      <td>NaN</td>\n",
       "      <td>NaN</td>\n",
       "      <td>NaN</td>\n",
       "    </tr>\n",
       "    <tr>\n",
       "      <th>freq</th>\n",
       "      <td>46</td>\n",
       "      <td>1</td>\n",
       "      <td>6</td>\n",
       "      <td>53</td>\n",
       "      <td>9</td>\n",
       "      <td>11</td>\n",
       "      <td>NaN</td>\n",
       "      <td>NaN</td>\n",
       "      <td>NaN</td>\n",
       "      <td>NaN</td>\n",
       "      <td>NaN</td>\n",
       "    </tr>\n",
       "    <tr>\n",
       "      <th>mean</th>\n",
       "      <td>NaN</td>\n",
       "      <td>NaN</td>\n",
       "      <td>NaN</td>\n",
       "      <td>NaN</td>\n",
       "      <td>NaN</td>\n",
       "      <td>NaN</td>\n",
       "      <td>4.0</td>\n",
       "      <td>10.0</td>\n",
       "      <td>36.0</td>\n",
       "      <td>21.0</td>\n",
       "      <td>21.0</td>\n",
       "    </tr>\n",
       "    <tr>\n",
       "      <th>std</th>\n",
       "      <td>NaN</td>\n",
       "      <td>NaN</td>\n",
       "      <td>NaN</td>\n",
       "      <td>NaN</td>\n",
       "      <td>NaN</td>\n",
       "      <td>NaN</td>\n",
       "      <td>0.0</td>\n",
       "      <td>0.0</td>\n",
       "      <td>0.0</td>\n",
       "      <td>0.0</td>\n",
       "      <td>0.0</td>\n",
       "    </tr>\n",
       "    <tr>\n",
       "      <th>min</th>\n",
       "      <td>NaN</td>\n",
       "      <td>NaN</td>\n",
       "      <td>NaN</td>\n",
       "      <td>NaN</td>\n",
       "      <td>NaN</td>\n",
       "      <td>NaN</td>\n",
       "      <td>4.0</td>\n",
       "      <td>10.0</td>\n",
       "      <td>36.0</td>\n",
       "      <td>21.0</td>\n",
       "      <td>21.0</td>\n",
       "    </tr>\n",
       "    <tr>\n",
       "      <th>25%</th>\n",
       "      <td>NaN</td>\n",
       "      <td>NaN</td>\n",
       "      <td>NaN</td>\n",
       "      <td>NaN</td>\n",
       "      <td>NaN</td>\n",
       "      <td>NaN</td>\n",
       "      <td>4.0</td>\n",
       "      <td>10.0</td>\n",
       "      <td>36.0</td>\n",
       "      <td>21.0</td>\n",
       "      <td>21.0</td>\n",
       "    </tr>\n",
       "    <tr>\n",
       "      <th>50%</th>\n",
       "      <td>NaN</td>\n",
       "      <td>NaN</td>\n",
       "      <td>NaN</td>\n",
       "      <td>NaN</td>\n",
       "      <td>NaN</td>\n",
       "      <td>NaN</td>\n",
       "      <td>4.0</td>\n",
       "      <td>10.0</td>\n",
       "      <td>36.0</td>\n",
       "      <td>21.0</td>\n",
       "      <td>21.0</td>\n",
       "    </tr>\n",
       "    <tr>\n",
       "      <th>75%</th>\n",
       "      <td>NaN</td>\n",
       "      <td>NaN</td>\n",
       "      <td>NaN</td>\n",
       "      <td>NaN</td>\n",
       "      <td>NaN</td>\n",
       "      <td>NaN</td>\n",
       "      <td>4.0</td>\n",
       "      <td>10.0</td>\n",
       "      <td>36.0</td>\n",
       "      <td>21.0</td>\n",
       "      <td>21.0</td>\n",
       "    </tr>\n",
       "    <tr>\n",
       "      <th>max</th>\n",
       "      <td>NaN</td>\n",
       "      <td>NaN</td>\n",
       "      <td>NaN</td>\n",
       "      <td>NaN</td>\n",
       "      <td>NaN</td>\n",
       "      <td>NaN</td>\n",
       "      <td>4.0</td>\n",
       "      <td>10.0</td>\n",
       "      <td>36.0</td>\n",
       "      <td>21.0</td>\n",
       "      <td>21.0</td>\n",
       "    </tr>\n",
       "  </tbody>\n",
       "</table>\n",
       "</div>"
      ],
      "text/plain": [
       "       Department/Source             Name             Person Gender  \\\n",
       "count                 82               82                 81     82   \n",
       "unique                 8               82                 69      5   \n",
       "top        Administrator  Flynn Tire Shop  George R. Moscone      M   \n",
       "freq                  46                1                  6     53   \n",
       "mean                 NaN              NaN                NaN    NaN   \n",
       "std                  NaN              NaN                NaN    NaN   \n",
       "min                  NaN              NaN                NaN    NaN   \n",
       "25%                  NaN              NaN                NaN    NaN   \n",
       "50%                  NaN              NaN                NaN    NaN   \n",
       "75%                  NaN              NaN                NaN    NaN   \n",
       "max                  NaN              NaN                NaN    NaN   \n",
       "\n",
       "                              Reference                        Comments  \\\n",
       "count                                54                              32   \n",
       "unique                               21                              13   \n",
       "top     Municipal Transportation Agency  facilities and other amenities   \n",
       "freq                                  9                              11   \n",
       "mean                                NaN                             NaN   \n",
       "std                                 NaN                             NaN   \n",
       "min                                 NaN                             NaN   \n",
       "25%                                 NaN                             NaN   \n",
       "50%                                 NaN                             NaN   \n",
       "75%                                 NaN                             NaN   \n",
       "max                                 NaN                             NaN   \n",
       "\n",
       "        Current Police Districts  Current Supervisor Districts  \\\n",
       "count                       82.0                          82.0   \n",
       "unique                       NaN                           NaN   \n",
       "top                          NaN                           NaN   \n",
       "freq                         NaN                           NaN   \n",
       "mean                         4.0                          10.0   \n",
       "std                          0.0                           0.0   \n",
       "min                          4.0                          10.0   \n",
       "25%                          4.0                          10.0   \n",
       "50%                          4.0                          10.0   \n",
       "75%                          4.0                          10.0   \n",
       "max                          4.0                          10.0   \n",
       "\n",
       "        Analysis Neighborhoods  Neighborhoods  SF Find Neighborhoods  \n",
       "count                     82.0           82.0                   82.0  \n",
       "unique                     NaN            NaN                    NaN  \n",
       "top                        NaN            NaN                    NaN  \n",
       "freq                       NaN            NaN                    NaN  \n",
       "mean                      36.0           21.0                   21.0  \n",
       "std                        0.0            0.0                    0.0  \n",
       "min                       36.0           21.0                   21.0  \n",
       "25%                       36.0           21.0                   21.0  \n",
       "50%                       36.0           21.0                   21.0  \n",
       "75%                       36.0           21.0                   21.0  \n",
       "max                       36.0           21.0                   21.0  "
      ]
     },
     "execution_count": 4,
     "metadata": {},
     "output_type": "execute_result"
    }
   ],
   "source": [
    "df.describe(include='all')"
   ]
  },
  {
   "cell_type": "code",
   "execution_count": 5,
   "metadata": {},
   "outputs": [
    {
     "data": {
      "text/plain": [
       "Department/Source                0\n",
       "Name                             0\n",
       "Person                           1\n",
       "Gender                           0\n",
       "Reference                       28\n",
       "Comments                        50\n",
       "Current Police Districts         0\n",
       "Current Supervisor Districts     0\n",
       "Analysis Neighborhoods           0\n",
       "Neighborhoods                    0\n",
       "SF Find Neighborhoods            0\n",
       "dtype: int64"
      ]
     },
     "execution_count": 5,
     "metadata": {},
     "output_type": "execute_result"
    }
   ],
   "source": [
    "#Check for null values\n",
    "df.isnull().sum()"
   ]
  },
  {
   "cell_type": "code",
   "execution_count": 6,
   "metadata": {},
   "outputs": [],
   "source": [
    "#Drop the Reference and Comments columns because it contain a lot of missing values\n",
    "df1 = df.drop(['Reference','Comments'], axis=1, inplace=True)"
   ]
  },
  {
   "cell_type": "code",
   "execution_count": 7,
   "metadata": {},
   "outputs": [
    {
     "data": {
      "text/html": [
       "<div>\n",
       "<style scoped>\n",
       "    .dataframe tbody tr th:only-of-type {\n",
       "        vertical-align: middle;\n",
       "    }\n",
       "\n",
       "    .dataframe tbody tr th {\n",
       "        vertical-align: top;\n",
       "    }\n",
       "\n",
       "    .dataframe thead th {\n",
       "        text-align: right;\n",
       "    }\n",
       "</style>\n",
       "<table border=\"1\" class=\"dataframe\">\n",
       "  <thead>\n",
       "    <tr style=\"text-align: right;\">\n",
       "      <th></th>\n",
       "      <th>Department/Source</th>\n",
       "      <th>Name</th>\n",
       "      <th>Person</th>\n",
       "      <th>Gender</th>\n",
       "      <th>Current Police Districts</th>\n",
       "      <th>Current Supervisor Districts</th>\n",
       "      <th>Analysis Neighborhoods</th>\n",
       "      <th>Neighborhoods</th>\n",
       "      <th>SF Find Neighborhoods</th>\n",
       "    </tr>\n",
       "  </thead>\n",
       "  <tbody>\n",
       "    <tr>\n",
       "      <th>0</th>\n",
       "      <td>Administrator</td>\n",
       "      <td>MOSCONE CENTER (South)</td>\n",
       "      <td>George R. Moscone</td>\n",
       "      <td>M</td>\n",
       "      <td>4</td>\n",
       "      <td>10</td>\n",
       "      <td>36</td>\n",
       "      <td>21</td>\n",
       "      <td>21</td>\n",
       "    </tr>\n",
       "    <tr>\n",
       "      <th>1</th>\n",
       "      <td>Administrator</td>\n",
       "      <td>Maxine Hall Health Center</td>\n",
       "      <td>NaN</td>\n",
       "      <td>F</td>\n",
       "      <td>4</td>\n",
       "      <td>10</td>\n",
       "      <td>36</td>\n",
       "      <td>21</td>\n",
       "      <td>21</td>\n",
       "    </tr>\n",
       "    <tr>\n",
       "      <th>2</th>\n",
       "      <td>REC AND PARKS</td>\n",
       "      <td>Moscone Recreation Center</td>\n",
       "      <td>George R. Moscone</td>\n",
       "      <td>M</td>\n",
       "      <td>4</td>\n",
       "      <td>10</td>\n",
       "      <td>36</td>\n",
       "      <td>21</td>\n",
       "      <td>21</td>\n",
       "    </tr>\n",
       "    <tr>\n",
       "      <th>3</th>\n",
       "      <td>REC AND PARKS</td>\n",
       "      <td>Helen Crocker Russell Library of Horticulture,...</td>\n",
       "      <td>Helen Crocker</td>\n",
       "      <td>F</td>\n",
       "      <td>4</td>\n",
       "      <td>10</td>\n",
       "      <td>36</td>\n",
       "      <td>21</td>\n",
       "      <td>21</td>\n",
       "    </tr>\n",
       "    <tr>\n",
       "      <th>4</th>\n",
       "      <td>REC AND PARKS</td>\n",
       "      <td>Sharon Building,  Golden Gate Park</td>\n",
       "      <td>Sharon Building</td>\n",
       "      <td>M</td>\n",
       "      <td>4</td>\n",
       "      <td>10</td>\n",
       "      <td>36</td>\n",
       "      <td>21</td>\n",
       "      <td>21</td>\n",
       "    </tr>\n",
       "  </tbody>\n",
       "</table>\n",
       "</div>"
      ],
      "text/plain": [
       "  Department/Source                                               Name  \\\n",
       "0     Administrator                             MOSCONE CENTER (South)   \n",
       "1     Administrator                          Maxine Hall Health Center   \n",
       "2     REC AND PARKS                          Moscone Recreation Center   \n",
       "3     REC AND PARKS  Helen Crocker Russell Library of Horticulture,...   \n",
       "4     REC AND PARKS                 Sharon Building,  Golden Gate Park   \n",
       "\n",
       "              Person Gender  Current Police Districts  \\\n",
       "0  George R. Moscone      M                         4   \n",
       "1                NaN      F                         4   \n",
       "2  George R. Moscone      M                         4   \n",
       "3      Helen Crocker      F                         4   \n",
       "4    Sharon Building      M                         4   \n",
       "\n",
       "   Current Supervisor Districts  Analysis Neighborhoods  Neighborhoods  \\\n",
       "0                            10                      36             21   \n",
       "1                            10                      36             21   \n",
       "2                            10                      36             21   \n",
       "3                            10                      36             21   \n",
       "4                            10                      36             21   \n",
       "\n",
       "   SF Find Neighborhoods  \n",
       "0                     21  \n",
       "1                     21  \n",
       "2                     21  \n",
       "3                     21  \n",
       "4                     21  "
      ]
     },
     "execution_count": 7,
     "metadata": {},
     "output_type": "execute_result"
    }
   ],
   "source": [
    "df.head()"
   ]
  },
  {
   "cell_type": "code",
   "execution_count": 8,
   "metadata": {},
   "outputs": [],
   "source": [
    "#Fill null values\n",
    "df.fillna('Unknown', axis=1, inplace=True)"
   ]
  },
  {
   "cell_type": "code",
   "execution_count": 9,
   "metadata": {},
   "outputs": [],
   "source": [
    "data=df[['Department/Source','Name', 'Person', 'Gender']]"
   ]
  },
  {
   "cell_type": "code",
   "execution_count": 10,
   "metadata": {},
   "outputs": [
    {
     "data": {
      "text/html": [
       "<div>\n",
       "<style scoped>\n",
       "    .dataframe tbody tr th:only-of-type {\n",
       "        vertical-align: middle;\n",
       "    }\n",
       "\n",
       "    .dataframe tbody tr th {\n",
       "        vertical-align: top;\n",
       "    }\n",
       "\n",
       "    .dataframe thead th {\n",
       "        text-align: right;\n",
       "    }\n",
       "</style>\n",
       "<table border=\"1\" class=\"dataframe\">\n",
       "  <thead>\n",
       "    <tr style=\"text-align: right;\">\n",
       "      <th></th>\n",
       "      <th>Department/Source</th>\n",
       "      <th>Name</th>\n",
       "      <th>Person</th>\n",
       "      <th>Gender</th>\n",
       "    </tr>\n",
       "  </thead>\n",
       "  <tbody>\n",
       "    <tr>\n",
       "      <th>0</th>\n",
       "      <td>Administrator</td>\n",
       "      <td>MOSCONE CENTER (South)</td>\n",
       "      <td>George R. Moscone</td>\n",
       "      <td>M</td>\n",
       "    </tr>\n",
       "    <tr>\n",
       "      <th>1</th>\n",
       "      <td>Administrator</td>\n",
       "      <td>Maxine Hall Health Center</td>\n",
       "      <td>Unknown</td>\n",
       "      <td>F</td>\n",
       "    </tr>\n",
       "    <tr>\n",
       "      <th>2</th>\n",
       "      <td>REC AND PARKS</td>\n",
       "      <td>Moscone Recreation Center</td>\n",
       "      <td>George R. Moscone</td>\n",
       "      <td>M</td>\n",
       "    </tr>\n",
       "    <tr>\n",
       "      <th>3</th>\n",
       "      <td>REC AND PARKS</td>\n",
       "      <td>Helen Crocker Russell Library of Horticulture,...</td>\n",
       "      <td>Helen Crocker</td>\n",
       "      <td>F</td>\n",
       "    </tr>\n",
       "    <tr>\n",
       "      <th>4</th>\n",
       "      <td>REC AND PARKS</td>\n",
       "      <td>Sharon Building,  Golden Gate Park</td>\n",
       "      <td>Sharon Building</td>\n",
       "      <td>M</td>\n",
       "    </tr>\n",
       "  </tbody>\n",
       "</table>\n",
       "</div>"
      ],
      "text/plain": [
       "  Department/Source                                               Name  \\\n",
       "0     Administrator                             MOSCONE CENTER (South)   \n",
       "1     Administrator                          Maxine Hall Health Center   \n",
       "2     REC AND PARKS                          Moscone Recreation Center   \n",
       "3     REC AND PARKS  Helen Crocker Russell Library of Horticulture,...   \n",
       "4     REC AND PARKS                 Sharon Building,  Golden Gate Park   \n",
       "\n",
       "              Person Gender  \n",
       "0  George R. Moscone      M  \n",
       "1            Unknown      F  \n",
       "2  George R. Moscone      M  \n",
       "3      Helen Crocker      F  \n",
       "4    Sharon Building      M  "
      ]
     },
     "execution_count": 10,
     "metadata": {},
     "output_type": "execute_result"
    }
   ],
   "source": [
    "data.head()"
   ]
  },
  {
   "cell_type": "code",
   "execution_count": 11,
   "metadata": {},
   "outputs": [
    {
     "data": {
      "text/plain": [
       "count     82\n",
       "unique     5\n",
       "top        M\n",
       "freq      53\n",
       "Name: Gender, dtype: object"
      ]
     },
     "execution_count": 11,
     "metadata": {},
     "output_type": "execute_result"
    }
   ],
   "source": [
    "data.Gender.describe()"
   ]
  },
  {
   "cell_type": "code",
   "execution_count": 12,
   "metadata": {},
   "outputs": [
    {
     "data": {
      "text/plain": [
       "array(['M', 'F', 'F & M', 'M & F', 'M & M'], dtype=object)"
      ]
     },
     "execution_count": 12,
     "metadata": {},
     "output_type": "execute_result"
    }
   ],
   "source": [
    "data.Gender.unique()"
   ]
  },
  {
   "cell_type": "code",
   "execution_count": 13,
   "metadata": {},
   "outputs": [
    {
     "data": {
      "text/plain": [
       "M        53\n",
       "F        19\n",
       "F & M     8\n",
       "M & M     1\n",
       "M & F     1\n",
       "Name: Gender, dtype: int64"
      ]
     },
     "execution_count": 13,
     "metadata": {},
     "output_type": "execute_result"
    }
   ],
   "source": [
    "#find all possible values in the gender column\n",
    "data.Gender.value_counts()"
   ]
  },
  {
   "cell_type": "code",
   "execution_count": 14,
   "metadata": {
    "scrolled": true
   },
   "outputs": [
    {
     "data": {
      "text/plain": [
       "<matplotlib.axes._subplots.AxesSubplot at 0x1d4be910550>"
      ]
     },
     "execution_count": 14,
     "metadata": {},
     "output_type": "execute_result"
    },
    {
     "data": {
      "image/png": "[encoded data removed]",
      "text/plain": [
       "<Figure size 432x288 with 1 Axes>"
      ]
     },
     "metadata": {
      "needs_background": "light"
     },
     "output_type": "display_data"
    }
   ],
   "source": [
    "sns.countplot(data.Gender)"
   ]
  },
  {
   "cell_type": "code",
   "execution_count": 15,
   "metadata": {},
   "outputs": [
    {
     "data": {
      "text/plain": [
       "<matplotlib.axes._subplots.AxesSubplot at 0x1d4c37a56a0>"
      ]
     },
     "execution_count": 15,
     "metadata": {},
     "output_type": "execute_result"
    },
    {
     "data": {
      "image/png": "[encoded data removed]",
      "text/plain": [
       "<Figure size 432x288 with 1 Axes>"
      ]
     },
     "metadata": {
      "needs_background": "light"
     },
     "output_type": "display_data"
    }
   ],
   "source": [
    "sns.countplot(y ='Department/Source' ,hue='Gender', data=data)"
   ]
  },
  {
   "cell_type": "markdown",
   "metadata": {},
   "source": [
    "# Some properties appeared to be shared given the irregularies between name, persons and gender, let see."
   ]
  },
  {
   "cell_type": "code",
   "execution_count": 16,
   "metadata": {},
   "outputs": [
    {
     "data": {
      "text/html": [
       "<div>\n",
       "<style scoped>\n",
       "    .dataframe tbody tr th:only-of-type {\n",
       "        vertical-align: middle;\n",
       "    }\n",
       "\n",
       "    .dataframe tbody tr th {\n",
       "        vertical-align: top;\n",
       "    }\n",
       "\n",
       "    .dataframe thead th {\n",
       "        text-align: right;\n",
       "    }\n",
       "</style>\n",
       "<table border=\"1\" class=\"dataframe\">\n",
       "  <thead>\n",
       "    <tr style=\"text-align: right;\">\n",
       "      <th></th>\n",
       "      <th>Department/Source</th>\n",
       "      <th>Name</th>\n",
       "      <th>Person</th>\n",
       "      <th>Gender</th>\n",
       "    </tr>\n",
       "  </thead>\n",
       "  <tbody>\n",
       "    <tr>\n",
       "      <th>0</th>\n",
       "      <td>Administrator</td>\n",
       "      <td>Priscilla Chan and Mark Zuckerberg San Francis...</td>\n",
       "      <td>Priscilla Chan and Mark Zuckerberg</td>\n",
       "      <td>F &amp; M</td>\n",
       "    </tr>\n",
       "    <tr>\n",
       "      <th>1</th>\n",
       "      <td>REC AND PARKS</td>\n",
       "      <td>Minnie &amp; Lovie Ward Recreation Center</td>\n",
       "      <td>Minnie &amp; Lovie Ward</td>\n",
       "      <td>F &amp; M</td>\n",
       "    </tr>\n",
       "    <tr>\n",
       "      <th>2</th>\n",
       "      <td>Administrator</td>\n",
       "      <td>Charlotte and George Shultz Horseshoe Drive</td>\n",
       "      <td>Charlotte and George Shultz</td>\n",
       "      <td>F &amp; M</td>\n",
       "    </tr>\n",
       "    <tr>\n",
       "      <th>3</th>\n",
       "      <td>Administrator</td>\n",
       "      <td>Walter and Elise Haas Grand Lounge</td>\n",
       "      <td>Walter and Elise Hass</td>\n",
       "      <td>M &amp; F</td>\n",
       "    </tr>\n",
       "    <tr>\n",
       "      <th>4</th>\n",
       "      <td>LIBRARY</td>\n",
       "      <td>Syncip Family Conference Room</td>\n",
       "      <td>Syncip Family</td>\n",
       "      <td>F &amp; M</td>\n",
       "    </tr>\n",
       "  </tbody>\n",
       "</table>\n",
       "</div>"
      ],
      "text/plain": [
       "  Department/Source                                               Name  \\\n",
       "0     Administrator  Priscilla Chan and Mark Zuckerberg San Francis...   \n",
       "1     REC AND PARKS              Minnie & Lovie Ward Recreation Center   \n",
       "2     Administrator        Charlotte and George Shultz Horseshoe Drive   \n",
       "3     Administrator                 Walter and Elise Haas Grand Lounge   \n",
       "4           LIBRARY                      Syncip Family Conference Room   \n",
       "\n",
       "                               Person Gender  \n",
       "0  Priscilla Chan and Mark Zuckerberg  F & M  \n",
       "1                 Minnie & Lovie Ward  F & M  \n",
       "2         Charlotte and George Shultz  F & M  \n",
       "3               Walter and Elise Hass  M & F  \n",
       "4                       Syncip Family  F & M  "
      ]
     },
     "execution_count": 16,
     "metadata": {},
     "output_type": "execute_result"
    }
   ],
   "source": [
    "shared_cols = ['F & M','M & F','M & M']   \n",
    "shared = data[data['Gender'].isin(shared_cols)] \n",
    "shared =shared.reset_index(drop=True)\n",
    "shared.head()"
   ]
  },
  {
   "cell_type": "code",
   "execution_count": 17,
   "metadata": {},
   "outputs": [
    {
     "data": {
      "text/plain": [
       "<matplotlib.axes._subplots.AxesSubplot at 0x1d4c388b0a0>"
      ]
     },
     "execution_count": 17,
     "metadata": {},
     "output_type": "execute_result"
    },
    {
     "data": {
      "image/png": "[encoded data removed]",
      "text/plain": [
       "<Figure size 432x288 with 1 Axes>"
      ]
     },
     "metadata": {
      "needs_background": "light"
     },
     "output_type": "display_data"
    }
   ],
   "source": [
    "sns.countplot(shared.Gender)"
   ]
  },
  {
   "cell_type": "code",
   "execution_count": 18,
   "metadata": {},
   "outputs": [
    {
     "data": {
      "text/html": [
       "<div>\n",
       "<style scoped>\n",
       "    .dataframe tbody tr th:only-of-type {\n",
       "        vertical-align: middle;\n",
       "    }\n",
       "\n",
       "    .dataframe tbody tr th {\n",
       "        vertical-align: top;\n",
       "    }\n",
       "\n",
       "    .dataframe thead th {\n",
       "        text-align: right;\n",
       "    }\n",
       "</style>\n",
       "<table border=\"1\" class=\"dataframe\">\n",
       "  <thead>\n",
       "    <tr style=\"text-align: right;\">\n",
       "      <th></th>\n",
       "      <th>Department/Source</th>\n",
       "      <th>Name</th>\n",
       "      <th>Person</th>\n",
       "      <th>Gender</th>\n",
       "    </tr>\n",
       "  </thead>\n",
       "  <tbody>\n",
       "    <tr>\n",
       "      <th>0</th>\n",
       "      <td>Administrator</td>\n",
       "      <td>MOSCONE CENTER (South)</td>\n",
       "      <td>George R. Moscone</td>\n",
       "      <td>M</td>\n",
       "    </tr>\n",
       "    <tr>\n",
       "      <th>1</th>\n",
       "      <td>Administrator</td>\n",
       "      <td>Maxine Hall Health Center</td>\n",
       "      <td>Unknown</td>\n",
       "      <td>F</td>\n",
       "    </tr>\n",
       "    <tr>\n",
       "      <th>2</th>\n",
       "      <td>REC AND PARKS</td>\n",
       "      <td>Moscone Recreation Center</td>\n",
       "      <td>George R. Moscone</td>\n",
       "      <td>M</td>\n",
       "    </tr>\n",
       "    <tr>\n",
       "      <th>3</th>\n",
       "      <td>REC AND PARKS</td>\n",
       "      <td>Helen Crocker Russell Library of Horticulture,...</td>\n",
       "      <td>Helen Crocker</td>\n",
       "      <td>F</td>\n",
       "    </tr>\n",
       "    <tr>\n",
       "      <th>4</th>\n",
       "      <td>REC AND PARKS</td>\n",
       "      <td>Sharon Building,  Golden Gate Park</td>\n",
       "      <td>Sharon Building</td>\n",
       "      <td>M</td>\n",
       "    </tr>\n",
       "  </tbody>\n",
       "</table>\n",
       "</div>"
      ],
      "text/plain": [
       "  Department/Source                                               Name  \\\n",
       "0     Administrator                             MOSCONE CENTER (South)   \n",
       "1     Administrator                          Maxine Hall Health Center   \n",
       "2     REC AND PARKS                          Moscone Recreation Center   \n",
       "3     REC AND PARKS  Helen Crocker Russell Library of Horticulture,...   \n",
       "4     REC AND PARKS                 Sharon Building,  Golden Gate Park   \n",
       "\n",
       "              Person Gender  \n",
       "0  George R. Moscone      M  \n",
       "1            Unknown      F  \n",
       "2  George R. Moscone      M  \n",
       "3      Helen Crocker      F  \n",
       "4    Sharon Building      M  "
      ]
     },
     "execution_count": 18,
     "metadata": {},
     "output_type": "execute_result"
    }
   ],
   "source": [
    "#Remove shared rows, that is, the M & F, F & M, M & M.\n",
    "data2 = data[ (data['Gender'] != 'M & F') & (data['Gender'] != 'M & M') & (data['Gender'] != 'F & M')]\n",
    "data2.head()"
   ]
  },
  {
   "cell_type": "code",
   "execution_count": 19,
   "metadata": {},
   "outputs": [
    {
     "data": {
      "text/html": [
       "<div>\n",
       "<style scoped>\n",
       "    .dataframe tbody tr th:only-of-type {\n",
       "        vertical-align: middle;\n",
       "    }\n",
       "\n",
       "    .dataframe tbody tr th {\n",
       "        vertical-align: top;\n",
       "    }\n",
       "\n",
       "    .dataframe thead th {\n",
       "        text-align: right;\n",
       "    }\n",
       "</style>\n",
       "<table border=\"1\" class=\"dataframe\">\n",
       "  <thead>\n",
       "    <tr style=\"text-align: right;\">\n",
       "      <th></th>\n",
       "      <th>Department/Source</th>\n",
       "      <th>Name</th>\n",
       "      <th>Person</th>\n",
       "      <th>Gender</th>\n",
       "    </tr>\n",
       "  </thead>\n",
       "  <tbody>\n",
       "    <tr>\n",
       "      <th>count</th>\n",
       "      <td>72</td>\n",
       "      <td>72</td>\n",
       "      <td>72</td>\n",
       "      <td>72</td>\n",
       "    </tr>\n",
       "    <tr>\n",
       "      <th>unique</th>\n",
       "      <td>8</td>\n",
       "      <td>72</td>\n",
       "      <td>60</td>\n",
       "      <td>2</td>\n",
       "    </tr>\n",
       "    <tr>\n",
       "      <th>top</th>\n",
       "      <td>Administrator</td>\n",
       "      <td>Flynn Tire Shop</td>\n",
       "      <td>George R. Moscone</td>\n",
       "      <td>M</td>\n",
       "    </tr>\n",
       "    <tr>\n",
       "      <th>freq</th>\n",
       "      <td>41</td>\n",
       "      <td>1</td>\n",
       "      <td>6</td>\n",
       "      <td>53</td>\n",
       "    </tr>\n",
       "  </tbody>\n",
       "</table>\n",
       "</div>"
      ],
      "text/plain": [
       "       Department/Source             Name             Person Gender\n",
       "count                 72               72                 72     72\n",
       "unique                 8               72                 60      2\n",
       "top        Administrator  Flynn Tire Shop  George R. Moscone      M\n",
       "freq                  41                1                  6     53"
      ]
     },
     "execution_count": 19,
     "metadata": {},
     "output_type": "execute_result"
    }
   ],
   "source": [
    "data2.describe()"
   ]
  },
  {
   "cell_type": "code",
   "execution_count": 20,
   "metadata": {},
   "outputs": [
    {
     "data": {
      "text/plain": [
       "M    53\n",
       "F    19\n",
       "Name: Gender, dtype: int64"
      ]
     },
     "execution_count": 20,
     "metadata": {},
     "output_type": "execute_result"
    }
   ],
   "source": [
    "data2.Gender.value_counts()"
   ]
  },
  {
   "cell_type": "code",
   "execution_count": 21,
   "metadata": {},
   "outputs": [
    {
     "data": {
      "text/plain": [
       "<matplotlib.axes._subplots.AxesSubplot at 0x1d4c3902820>"
      ]
     },
     "execution_count": 21,
     "metadata": {},
     "output_type": "execute_result"
    },
    {
     "data": {
      "image/png": "[encoded data removed]",
      "text/plain": [
       "<Figure size 432x288 with 1 Axes>"
      ]
     },
     "metadata": {
      "needs_background": "light"
     },
     "output_type": "display_data"
    }
   ],
   "source": [
    "sns.countplot(data2.Gender)"
   ]
  },
  {
   "cell_type": "code",
   "execution_count": 22,
   "metadata": {},
   "outputs": [
    {
     "data": {
      "text/html": [
       "<div>\n",
       "<style scoped>\n",
       "    .dataframe tbody tr th:only-of-type {\n",
       "        vertical-align: middle;\n",
       "    }\n",
       "\n",
       "    .dataframe tbody tr th {\n",
       "        vertical-align: top;\n",
       "    }\n",
       "\n",
       "    .dataframe thead th {\n",
       "        text-align: right;\n",
       "    }\n",
       "</style>\n",
       "<table border=\"1\" class=\"dataframe\">\n",
       "  <thead>\n",
       "    <tr style=\"text-align: right;\">\n",
       "      <th></th>\n",
       "      <th>Department/Source</th>\n",
       "      <th>Name</th>\n",
       "      <th>Person</th>\n",
       "      <th>Gender</th>\n",
       "    </tr>\n",
       "  </thead>\n",
       "  <tbody>\n",
       "    <tr>\n",
       "      <th>2</th>\n",
       "      <td>REC AND PARKS</td>\n",
       "      <td>Moscone Recreation Center</td>\n",
       "      <td>George R. Moscone</td>\n",
       "      <td>M</td>\n",
       "    </tr>\n",
       "    <tr>\n",
       "      <th>22</th>\n",
       "      <td>Administrator</td>\n",
       "      <td>Flynn Tire Shop</td>\n",
       "      <td>H. Welton Flynn</td>\n",
       "      <td>M</td>\n",
       "    </tr>\n",
       "    <tr>\n",
       "      <th>31</th>\n",
       "      <td>REC AND PARKS</td>\n",
       "      <td>Harvey Milk Center for Recreational Arts, Dubo...</td>\n",
       "      <td>Harvey Milk</td>\n",
       "      <td>M</td>\n",
       "    </tr>\n",
       "    <tr>\n",
       "      <th>38</th>\n",
       "      <td>Administrator</td>\n",
       "      <td>Harvey Milk Terminal  - Terminal 1</td>\n",
       "      <td>Harvey Milk</td>\n",
       "      <td>M</td>\n",
       "    </tr>\n",
       "    <tr>\n",
       "      <th>42</th>\n",
       "      <td>Administrator</td>\n",
       "      <td>Moscone West</td>\n",
       "      <td>George R. Moscone</td>\n",
       "      <td>M</td>\n",
       "    </tr>\n",
       "    <tr>\n",
       "      <th>46</th>\n",
       "      <td>Administrator</td>\n",
       "      <td>Moscone Esplanade Ballroom</td>\n",
       "      <td>George R. Moscone</td>\n",
       "      <td>M</td>\n",
       "    </tr>\n",
       "    <tr>\n",
       "      <th>50</th>\n",
       "      <td>Administrator</td>\n",
       "      <td>J.M. Woods Div-Wash/Warehouse</td>\n",
       "      <td>J. M. Woods</td>\n",
       "      <td>M</td>\n",
       "    </tr>\n",
       "    <tr>\n",
       "      <th>52</th>\n",
       "      <td>Administrator</td>\n",
       "      <td>De Young Museum</td>\n",
       "      <td>M. H. de Young</td>\n",
       "      <td>M</td>\n",
       "    </tr>\n",
       "    <tr>\n",
       "      <th>70</th>\n",
       "      <td>Administrator</td>\n",
       "      <td>J.M. Woods Div-Operators</td>\n",
       "      <td>J. M. Woods</td>\n",
       "      <td>M</td>\n",
       "    </tr>\n",
       "    <tr>\n",
       "      <th>76</th>\n",
       "      <td>Administrator</td>\n",
       "      <td>MOSCONE NORTH</td>\n",
       "      <td>George R. Moscone</td>\n",
       "      <td>M</td>\n",
       "    </tr>\n",
       "    <tr>\n",
       "      <th>77</th>\n",
       "      <td>Administrator</td>\n",
       "      <td>MOSCONE CENTER Parking Garage</td>\n",
       "      <td>George R. Moscone</td>\n",
       "      <td>M</td>\n",
       "    </tr>\n",
       "    <tr>\n",
       "      <th>80</th>\n",
       "      <td>Administrator</td>\n",
       "      <td>Curtis E. Green LRV Facility Annex Bldg</td>\n",
       "      <td>Curtis E. Green</td>\n",
       "      <td>M</td>\n",
       "    </tr>\n",
       "  </tbody>\n",
       "</table>\n",
       "</div>"
      ],
      "text/plain": [
       "   Department/Source                                               Name  \\\n",
       "2      REC AND PARKS                          Moscone Recreation Center   \n",
       "22     Administrator                                    Flynn Tire Shop   \n",
       "31     REC AND PARKS  Harvey Milk Center for Recreational Arts, Dubo...   \n",
       "38     Administrator                 Harvey Milk Terminal  - Terminal 1   \n",
       "42     Administrator                                       Moscone West   \n",
       "46     Administrator                         Moscone Esplanade Ballroom   \n",
       "50     Administrator                      J.M. Woods Div-Wash/Warehouse   \n",
       "52     Administrator                                    De Young Museum   \n",
       "70     Administrator                           J.M. Woods Div-Operators   \n",
       "76     Administrator                                      MOSCONE NORTH   \n",
       "77     Administrator                      MOSCONE CENTER Parking Garage   \n",
       "80     Administrator            Curtis E. Green LRV Facility Annex Bldg   \n",
       "\n",
       "               Person Gender  \n",
       "2   George R. Moscone      M  \n",
       "22    H. Welton Flynn      M  \n",
       "31        Harvey Milk      M  \n",
       "38        Harvey Milk      M  \n",
       "42  George R. Moscone      M  \n",
       "46  George R. Moscone      M  \n",
       "50        J. M. Woods      M  \n",
       "52     M. H. de Young      M  \n",
       "70        J. M. Woods      M  \n",
       "76  George R. Moscone      M  \n",
       "77  George R. Moscone      M  \n",
       "80    Curtis E. Green      M  "
      ]
     },
     "execution_count": 22,
     "metadata": {},
     "output_type": "execute_result"
    }
   ],
   "source": [
    "#Check for duplicate row \n",
    "repeated_p = data2[data2.duplicated('Person')]\n",
    "repeated_p"
   ]
  },
  {
   "cell_type": "code",
   "execution_count": 23,
   "metadata": {},
   "outputs": [
    {
     "data": {
      "text/html": [
       "<div>\n",
       "<style scoped>\n",
       "    .dataframe tbody tr th:only-of-type {\n",
       "        vertical-align: middle;\n",
       "    }\n",
       "\n",
       "    .dataframe tbody tr th {\n",
       "        vertical-align: top;\n",
       "    }\n",
       "\n",
       "    .dataframe thead th {\n",
       "        text-align: right;\n",
       "    }\n",
       "</style>\n",
       "<table border=\"1\" class=\"dataframe\">\n",
       "  <thead>\n",
       "    <tr style=\"text-align: right;\">\n",
       "      <th></th>\n",
       "      <th>Department/Source</th>\n",
       "      <th>Name</th>\n",
       "      <th>Person</th>\n",
       "      <th>Gender</th>\n",
       "    </tr>\n",
       "  </thead>\n",
       "  <tbody>\n",
       "    <tr>\n",
       "      <th>count</th>\n",
       "      <td>60</td>\n",
       "      <td>60</td>\n",
       "      <td>60</td>\n",
       "      <td>60</td>\n",
       "    </tr>\n",
       "    <tr>\n",
       "      <th>unique</th>\n",
       "      <td>8</td>\n",
       "      <td>60</td>\n",
       "      <td>60</td>\n",
       "      <td>2</td>\n",
       "    </tr>\n",
       "    <tr>\n",
       "      <th>top</th>\n",
       "      <td>Administrator</td>\n",
       "      <td>(Josephine Dow) Randall Museum</td>\n",
       "      <td>James R. Herman</td>\n",
       "      <td>M</td>\n",
       "    </tr>\n",
       "    <tr>\n",
       "      <th>freq</th>\n",
       "      <td>31</td>\n",
       "      <td>1</td>\n",
       "      <td>1</td>\n",
       "      <td>41</td>\n",
       "    </tr>\n",
       "  </tbody>\n",
       "</table>\n",
       "</div>"
      ],
      "text/plain": [
       "       Department/Source                            Name           Person  \\\n",
       "count                 60                              60               60   \n",
       "unique                 8                              60               60   \n",
       "top        Administrator  (Josephine Dow) Randall Museum  James R. Herman   \n",
       "freq                  31                               1                1   \n",
       "\n",
       "       Gender  \n",
       "count      60  \n",
       "unique      2  \n",
       "top         M  \n",
       "freq       41  "
      ]
     },
     "execution_count": 23,
     "metadata": {},
     "output_type": "execute_result"
    }
   ],
   "source": [
    "#Drop the duplicate rows\n",
    "data3=data2.drop([2, 22, 31, 38, 42, 46, 50, 52, 70, 76, 77, 80])\n",
    "data3=data3.reset_index(drop=True)\n",
    "data3.describe()"
   ]
  },
  {
   "cell_type": "code",
   "execution_count": 24,
   "metadata": {},
   "outputs": [
    {
     "data": {
      "text/plain": [
       "<matplotlib.axes._subplots.AxesSubplot at 0x1d4c38ece80>"
      ]
     },
     "execution_count": 24,
     "metadata": {},
     "output_type": "execute_result"
    },
    {
     "data": {
      "image/png": "[encoded data removed]",
      "text/plain": [
       "<Figure size 432x288 with 1 Axes>"
      ]
     },
     "metadata": {
      "needs_background": "light"
     },
     "output_type": "display_data"
    }
   ],
   "source": [
    "sns.countplot(y ='Department/Source' ,hue='Gender', data=data3)"
   ]
  },
  {
   "cell_type": "markdown",
   "metadata": {},
   "source": [
    "# Deduction\n",
    "In gender distribution, the Men have a larger percentage compared to the Women.\n",
    "The analysis according to Department/Source shows 'Port' is evenly represented by both genders, and unevenly in other department/Source."
   ]
  },
  {
   "cell_type": "code",
   "execution_count": null,
   "metadata": {},
   "outputs": [],
   "source": []
  }
 ],
 "metadata": {
  "kernelspec": {
   "display_name": "Python 3",
   "language": "python",
   "name": "python3"
  },
  "language_info": {
   "codemirror_mode": {
    "name": "ipython",
    "version": 3
   },
   "file_extension": ".py",
   "mimetype": "text/x-python",
   "name": "python",
   "nbconvert_exporter": "python",
   "pygments_lexer": "ipython3",
   "version": "3.8.3"
  }
 },
 "nbformat": 4,
 "nbformat_minor": 4
}
