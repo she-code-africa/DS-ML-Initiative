{
 "cells": [
  {
   "cell_type": "markdown",
   "metadata": {},
   "source": [
    "## Exploratory Data Analysis(EDA) on the proportion of women to men representation in City-Owned Buildings in San Francisco"
   ]
  },
  {
   "cell_type": "markdown",
   "metadata": {},
   "source": [
    "In October of 2018, the Board of Supervisors passed and Mayor London N. Breed signed, the Ordinance 243-18 (http://bit.ly/2LSqS3U) to expand the extent to which women are represented in the public sphere, including within artwork, statues, street names, facilities, parks, and more. The representation of women in City-owned buildings includes buildings, conference rooms, clubhouses, museums, recreation centers, community rooms, auditoriums, terminals, departure halls, 7 staircases, rooms, and other places open to the public. The City Administrator's office was responsible for compiling a list of all city owned buildings named after a man or woman. You can read the accompanying report on the representation of women in city property here: http://bit.ly/2YIDCz7\n"
   ]
  },
  {
   "cell_type": "code",
   "execution_count": 2,
   "metadata": {},
   "outputs": [],
   "source": [
    "#importing relevant libraries\n",
    "import pandas as pd\n",
    "import numpy as np\n",
    "import matplotlib.pyplot as plt\n",
    "import seaborn as sns\n"
   ]
  },
  {
   "cell_type": "code",
   "execution_count": 3,
   "metadata": {},
   "outputs": [],
   "source": [
    "#reading the csv file into a dataframe\n",
    "data = pd.read_csv('dataset\\WomenRepresentaionInCityProperty-SanFrancisco.csv')\n"
   ]
  },
  {
   "cell_type": "code",
   "execution_count": 4,
   "metadata": {},
   "outputs": [
    {
     "data": {
      "text/html": [
       "<div>\n",
       "<style scoped>\n",
       "    .dataframe tbody tr th:only-of-type {\n",
       "        vertical-align: middle;\n",
       "    }\n",
       "\n",
       "    .dataframe tbody tr th {\n",
       "        vertical-align: top;\n",
       "    }\n",
       "\n",
       "    .dataframe thead th {\n",
       "        text-align: right;\n",
       "    }\n",
       "</style>\n",
       "<table border=\"1\" class=\"dataframe\">\n",
       "  <thead>\n",
       "    <tr style=\"text-align: right;\">\n",
       "      <th></th>\n",
       "      <th>Department/Source</th>\n",
       "      <th>Name</th>\n",
       "      <th>Person</th>\n",
       "      <th>Gender</th>\n",
       "      <th>Reference</th>\n",
       "      <th>Comments</th>\n",
       "      <th>Current Police Districts</th>\n",
       "      <th>Current Supervisor Districts</th>\n",
       "      <th>Analysis Neighborhoods</th>\n",
       "      <th>Neighborhoods</th>\n",
       "      <th>SF Find Neighborhoods</th>\n",
       "    </tr>\n",
       "  </thead>\n",
       "  <tbody>\n",
       "    <tr>\n",
       "      <th>0</th>\n",
       "      <td>Administrator</td>\n",
       "      <td>MOSCONE CENTER (South)</td>\n",
       "      <td>George R. Moscone</td>\n",
       "      <td>M</td>\n",
       "      <td>City Administrator</td>\n",
       "      <td>NaN</td>\n",
       "      <td>4</td>\n",
       "      <td>10</td>\n",
       "      <td>36</td>\n",
       "      <td>21</td>\n",
       "      <td>21</td>\n",
       "    </tr>\n",
       "    <tr>\n",
       "      <th>1</th>\n",
       "      <td>Administrator</td>\n",
       "      <td>Maxine Hall Health Center</td>\n",
       "      <td>NaN</td>\n",
       "      <td>F</td>\n",
       "      <td>Public Health</td>\n",
       "      <td>NaN</td>\n",
       "      <td>4</td>\n",
       "      <td>10</td>\n",
       "      <td>36</td>\n",
       "      <td>21</td>\n",
       "      <td>21</td>\n",
       "    </tr>\n",
       "    <tr>\n",
       "      <th>2</th>\n",
       "      <td>REC AND PARKS</td>\n",
       "      <td>Moscone Recreation Center</td>\n",
       "      <td>George R. Moscone</td>\n",
       "      <td>M</td>\n",
       "      <td>NaN</td>\n",
       "      <td>park</td>\n",
       "      <td>4</td>\n",
       "      <td>10</td>\n",
       "      <td>36</td>\n",
       "      <td>21</td>\n",
       "      <td>21</td>\n",
       "    </tr>\n",
       "    <tr>\n",
       "      <th>3</th>\n",
       "      <td>REC AND PARKS</td>\n",
       "      <td>Helen Crocker Russell Library of Horticulture,...</td>\n",
       "      <td>Helen Crocker</td>\n",
       "      <td>F</td>\n",
       "      <td>NaN</td>\n",
       "      <td>facilities and other amenities</td>\n",
       "      <td>4</td>\n",
       "      <td>10</td>\n",
       "      <td>36</td>\n",
       "      <td>21</td>\n",
       "      <td>21</td>\n",
       "    </tr>\n",
       "    <tr>\n",
       "      <th>4</th>\n",
       "      <td>REC AND PARKS</td>\n",
       "      <td>Sharon Building,  Golden Gate Park</td>\n",
       "      <td>Sharon Building</td>\n",
       "      <td>M</td>\n",
       "      <td>NaN</td>\n",
       "      <td>facilities and other amenities</td>\n",
       "      <td>4</td>\n",
       "      <td>10</td>\n",
       "      <td>36</td>\n",
       "      <td>21</td>\n",
       "      <td>21</td>\n",
       "    </tr>\n",
       "  </tbody>\n",
       "</table>\n",
       "</div>"
      ],
      "text/plain": [
       "  Department/Source                                               Name  \\\n",
       "0     Administrator                             MOSCONE CENTER (South)   \n",
       "1     Administrator                          Maxine Hall Health Center   \n",
       "2     REC AND PARKS                          Moscone Recreation Center   \n",
       "3     REC AND PARKS  Helen Crocker Russell Library of Horticulture,...   \n",
       "4     REC AND PARKS                 Sharon Building,  Golden Gate Park   \n",
       "\n",
       "              Person Gender           Reference  \\\n",
       "0  George R. Moscone      M  City Administrator   \n",
       "1                NaN      F       Public Health   \n",
       "2  George R. Moscone      M                 NaN   \n",
       "3      Helen Crocker      F                 NaN   \n",
       "4    Sharon Building      M                 NaN   \n",
       "\n",
       "                         Comments  Current Police Districts  \\\n",
       "0                             NaN                         4   \n",
       "1                             NaN                         4   \n",
       "2                            park                         4   \n",
       "3  facilities and other amenities                         4   \n",
       "4  facilities and other amenities                         4   \n",
       "\n",
       "   Current Supervisor Districts  Analysis Neighborhoods  Neighborhoods  \\\n",
       "0                            10                      36             21   \n",
       "1                            10                      36             21   \n",
       "2                            10                      36             21   \n",
       "3                            10                      36             21   \n",
       "4                            10                      36             21   \n",
       "\n",
       "   SF Find Neighborhoods  \n",
       "0                     21  \n",
       "1                     21  \n",
       "2                     21  \n",
       "3                     21  \n",
       "4                     21  "
      ]
     },
     "execution_count": 4,
     "metadata": {},
     "output_type": "execute_result"
    }
   ],
   "source": [
    "#printing the first five rows\n",
    "data.head()\n"
   ]
  },
  {
   "cell_type": "code",
   "execution_count": 5,
   "metadata": {},
   "outputs": [
    {
     "name": "stdout",
     "output_type": "stream",
     "text": [
      "<class 'pandas.core.frame.DataFrame'>\n",
      "RangeIndex: 82 entries, 0 to 81\n",
      "Data columns (total 11 columns):\n",
      " #   Column                        Non-Null Count  Dtype \n",
      "---  ------                        --------------  ----- \n",
      " 0   Department/Source             82 non-null     object\n",
      " 1   Name                          82 non-null     object\n",
      " 2   Person                        81 non-null     object\n",
      " 3   Gender                        82 non-null     object\n",
      " 4   Reference                     54 non-null     object\n",
      " 5   Comments                      32 non-null     object\n",
      " 6   Current Police Districts      82 non-null     int64 \n",
      " 7   Current Supervisor Districts  82 non-null     int64 \n",
      " 8   Analysis Neighborhoods        82 non-null     int64 \n",
      " 9   Neighborhoods                 82 non-null     int64 \n",
      " 10  SF Find Neighborhoods         82 non-null     int64 \n",
      "dtypes: int64(5), object(6)\n",
      "memory usage: 7.2+ KB\n"
     ]
    }
   ],
   "source": [
    "#information on the data\n",
    "data.info()"
   ]
  },
  {
   "cell_type": "markdown",
   "metadata": {},
   "source": [
    "The Reference and Comments columns contain a lot of missing data but cannot be dropped, as we have a small dataset. We can not also perform imputation because these are actual places and we might distort facts about these places."
   ]
  },
  {
   "cell_type": "code",
   "execution_count": 6,
   "metadata": {},
   "outputs": [
    {
     "data": {
      "text/html": [
       "<div>\n",
       "<style scoped>\n",
       "    .dataframe tbody tr th:only-of-type {\n",
       "        vertical-align: middle;\n",
       "    }\n",
       "\n",
       "    .dataframe tbody tr th {\n",
       "        vertical-align: top;\n",
       "    }\n",
       "\n",
       "    .dataframe thead th {\n",
       "        text-align: right;\n",
       "    }\n",
       "</style>\n",
       "<table border=\"1\" class=\"dataframe\">\n",
       "  <thead>\n",
       "    <tr style=\"text-align: right;\">\n",
       "      <th></th>\n",
       "      <th>Department/Source</th>\n",
       "      <th>Name</th>\n",
       "      <th>Person</th>\n",
       "      <th>Gender</th>\n",
       "      <th>Reference</th>\n",
       "      <th>Comments</th>\n",
       "      <th>Current Police Districts</th>\n",
       "      <th>Current Supervisor Districts</th>\n",
       "      <th>Analysis Neighborhoods</th>\n",
       "      <th>Neighborhoods</th>\n",
       "      <th>SF Find Neighborhoods</th>\n",
       "    </tr>\n",
       "  </thead>\n",
       "  <tbody>\n",
       "    <tr>\n",
       "      <th>count</th>\n",
       "      <td>82</td>\n",
       "      <td>82</td>\n",
       "      <td>81</td>\n",
       "      <td>82</td>\n",
       "      <td>54</td>\n",
       "      <td>32</td>\n",
       "      <td>82.0</td>\n",
       "      <td>82.0</td>\n",
       "      <td>82.0</td>\n",
       "      <td>82.0</td>\n",
       "      <td>82.0</td>\n",
       "    </tr>\n",
       "    <tr>\n",
       "      <th>unique</th>\n",
       "      <td>8</td>\n",
       "      <td>82</td>\n",
       "      <td>69</td>\n",
       "      <td>5</td>\n",
       "      <td>21</td>\n",
       "      <td>13</td>\n",
       "      <td>NaN</td>\n",
       "      <td>NaN</td>\n",
       "      <td>NaN</td>\n",
       "      <td>NaN</td>\n",
       "      <td>NaN</td>\n",
       "    </tr>\n",
       "    <tr>\n",
       "      <th>top</th>\n",
       "      <td>Administrator</td>\n",
       "      <td>J. Woods Cable Car Carpentry Shop</td>\n",
       "      <td>George R. Moscone</td>\n",
       "      <td>M</td>\n",
       "      <td>Municipal Transportation Agency</td>\n",
       "      <td>facilities and other amenities</td>\n",
       "      <td>NaN</td>\n",
       "      <td>NaN</td>\n",
       "      <td>NaN</td>\n",
       "      <td>NaN</td>\n",
       "      <td>NaN</td>\n",
       "    </tr>\n",
       "    <tr>\n",
       "      <th>freq</th>\n",
       "      <td>46</td>\n",
       "      <td>1</td>\n",
       "      <td>6</td>\n",
       "      <td>53</td>\n",
       "      <td>9</td>\n",
       "      <td>11</td>\n",
       "      <td>NaN</td>\n",
       "      <td>NaN</td>\n",
       "      <td>NaN</td>\n",
       "      <td>NaN</td>\n",
       "      <td>NaN</td>\n",
       "    </tr>\n",
       "    <tr>\n",
       "      <th>mean</th>\n",
       "      <td>NaN</td>\n",
       "      <td>NaN</td>\n",
       "      <td>NaN</td>\n",
       "      <td>NaN</td>\n",
       "      <td>NaN</td>\n",
       "      <td>NaN</td>\n",
       "      <td>4.0</td>\n",
       "      <td>10.0</td>\n",
       "      <td>36.0</td>\n",
       "      <td>21.0</td>\n",
       "      <td>21.0</td>\n",
       "    </tr>\n",
       "    <tr>\n",
       "      <th>std</th>\n",
       "      <td>NaN</td>\n",
       "      <td>NaN</td>\n",
       "      <td>NaN</td>\n",
       "      <td>NaN</td>\n",
       "      <td>NaN</td>\n",
       "      <td>NaN</td>\n",
       "      <td>0.0</td>\n",
       "      <td>0.0</td>\n",
       "      <td>0.0</td>\n",
       "      <td>0.0</td>\n",
       "      <td>0.0</td>\n",
       "    </tr>\n",
       "    <tr>\n",
       "      <th>min</th>\n",
       "      <td>NaN</td>\n",
       "      <td>NaN</td>\n",
       "      <td>NaN</td>\n",
       "      <td>NaN</td>\n",
       "      <td>NaN</td>\n",
       "      <td>NaN</td>\n",
       "      <td>4.0</td>\n",
       "      <td>10.0</td>\n",
       "      <td>36.0</td>\n",
       "      <td>21.0</td>\n",
       "      <td>21.0</td>\n",
       "    </tr>\n",
       "    <tr>\n",
       "      <th>25%</th>\n",
       "      <td>NaN</td>\n",
       "      <td>NaN</td>\n",
       "      <td>NaN</td>\n",
       "      <td>NaN</td>\n",
       "      <td>NaN</td>\n",
       "      <td>NaN</td>\n",
       "      <td>4.0</td>\n",
       "      <td>10.0</td>\n",
       "      <td>36.0</td>\n",
       "      <td>21.0</td>\n",
       "      <td>21.0</td>\n",
       "    </tr>\n",
       "    <tr>\n",
       "      <th>50%</th>\n",
       "      <td>NaN</td>\n",
       "      <td>NaN</td>\n",
       "      <td>NaN</td>\n",
       "      <td>NaN</td>\n",
       "      <td>NaN</td>\n",
       "      <td>NaN</td>\n",
       "      <td>4.0</td>\n",
       "      <td>10.0</td>\n",
       "      <td>36.0</td>\n",
       "      <td>21.0</td>\n",
       "      <td>21.0</td>\n",
       "    </tr>\n",
       "    <tr>\n",
       "      <th>75%</th>\n",
       "      <td>NaN</td>\n",
       "      <td>NaN</td>\n",
       "      <td>NaN</td>\n",
       "      <td>NaN</td>\n",
       "      <td>NaN</td>\n",
       "      <td>NaN</td>\n",
       "      <td>4.0</td>\n",
       "      <td>10.0</td>\n",
       "      <td>36.0</td>\n",
       "      <td>21.0</td>\n",
       "      <td>21.0</td>\n",
       "    </tr>\n",
       "    <tr>\n",
       "      <th>max</th>\n",
       "      <td>NaN</td>\n",
       "      <td>NaN</td>\n",
       "      <td>NaN</td>\n",
       "      <td>NaN</td>\n",
       "      <td>NaN</td>\n",
       "      <td>NaN</td>\n",
       "      <td>4.0</td>\n",
       "      <td>10.0</td>\n",
       "      <td>36.0</td>\n",
       "      <td>21.0</td>\n",
       "      <td>21.0</td>\n",
       "    </tr>\n",
       "  </tbody>\n",
       "</table>\n",
       "</div>"
      ],
      "text/plain": [
       "       Department/Source                               Name  \\\n",
       "count                 82                                 82   \n",
       "unique                 8                                 82   \n",
       "top        Administrator  J. Woods Cable Car Carpentry Shop   \n",
       "freq                  46                                  1   \n",
       "mean                 NaN                                NaN   \n",
       "std                  NaN                                NaN   \n",
       "min                  NaN                                NaN   \n",
       "25%                  NaN                                NaN   \n",
       "50%                  NaN                                NaN   \n",
       "75%                  NaN                                NaN   \n",
       "max                  NaN                                NaN   \n",
       "\n",
       "                   Person Gender                        Reference  \\\n",
       "count                  81     82                               54   \n",
       "unique                 69      5                               21   \n",
       "top     George R. Moscone      M  Municipal Transportation Agency   \n",
       "freq                    6     53                                9   \n",
       "mean                  NaN    NaN                              NaN   \n",
       "std                   NaN    NaN                              NaN   \n",
       "min                   NaN    NaN                              NaN   \n",
       "25%                   NaN    NaN                              NaN   \n",
       "50%                   NaN    NaN                              NaN   \n",
       "75%                   NaN    NaN                              NaN   \n",
       "max                   NaN    NaN                              NaN   \n",
       "\n",
       "                              Comments  Current Police Districts  \\\n",
       "count                               32                      82.0   \n",
       "unique                              13                       NaN   \n",
       "top     facilities and other amenities                       NaN   \n",
       "freq                                11                       NaN   \n",
       "mean                               NaN                       4.0   \n",
       "std                                NaN                       0.0   \n",
       "min                                NaN                       4.0   \n",
       "25%                                NaN                       4.0   \n",
       "50%                                NaN                       4.0   \n",
       "75%                                NaN                       4.0   \n",
       "max                                NaN                       4.0   \n",
       "\n",
       "        Current Supervisor Districts  Analysis Neighborhoods  Neighborhoods  \\\n",
       "count                           82.0                    82.0           82.0   \n",
       "unique                           NaN                     NaN            NaN   \n",
       "top                              NaN                     NaN            NaN   \n",
       "freq                             NaN                     NaN            NaN   \n",
       "mean                            10.0                    36.0           21.0   \n",
       "std                              0.0                     0.0            0.0   \n",
       "min                             10.0                    36.0           21.0   \n",
       "25%                             10.0                    36.0           21.0   \n",
       "50%                             10.0                    36.0           21.0   \n",
       "75%                             10.0                    36.0           21.0   \n",
       "max                             10.0                    36.0           21.0   \n",
       "\n",
       "        SF Find Neighborhoods  \n",
       "count                    82.0  \n",
       "unique                    NaN  \n",
       "top                       NaN  \n",
       "freq                      NaN  \n",
       "mean                     21.0  \n",
       "std                       0.0  \n",
       "min                      21.0  \n",
       "25%                      21.0  \n",
       "50%                      21.0  \n",
       "75%                      21.0  \n",
       "max                      21.0  "
      ]
     },
     "execution_count": 6,
     "metadata": {},
     "output_type": "execute_result"
    }
   ],
   "source": [
    "#summary statistics\n",
    "data.describe(include=\"all\")"
   ]
  },
  {
   "cell_type": "code",
   "execution_count": 7,
   "metadata": {},
   "outputs": [
    {
     "data": {
      "text/plain": [
       "M        53\n",
       "F        19\n",
       "F & M     8\n",
       "M & F     1\n",
       "M & M     1\n",
       "Name: Gender, dtype: int64"
      ]
     },
     "execution_count": 7,
     "metadata": {},
     "output_type": "execute_result"
    }
   ],
   "source": [
    "#counting the number of buildings owned by each gender\n",
    "data['Gender'].value_counts()\n"
   ]
  },
  {
   "cell_type": "markdown",
   "metadata": {},
   "source": [
    "Some buildings are co-owned by both male and female(F & M), (M & F), there is a building co-owned by both males (M & M).\n"
   ]
  },
  {
   "cell_type": "code",
   "execution_count": 8,
   "metadata": {},
   "outputs": [
    {
     "data": {
      "text/html": [
       "<div>\n",
       "<style scoped>\n",
       "    .dataframe tbody tr th:only-of-type {\n",
       "        vertical-align: middle;\n",
       "    }\n",
       "\n",
       "    .dataframe tbody tr th {\n",
       "        vertical-align: top;\n",
       "    }\n",
       "\n",
       "    .dataframe thead th {\n",
       "        text-align: right;\n",
       "    }\n",
       "</style>\n",
       "<table border=\"1\" class=\"dataframe\">\n",
       "  <thead>\n",
       "    <tr style=\"text-align: right;\">\n",
       "      <th></th>\n",
       "      <th>Department/Source</th>\n",
       "      <th>Name</th>\n",
       "      <th>Person</th>\n",
       "      <th>Gender</th>\n",
       "      <th>Reference</th>\n",
       "      <th>Comments</th>\n",
       "      <th>Current Police Districts</th>\n",
       "      <th>Current Supervisor Districts</th>\n",
       "      <th>Analysis Neighborhoods</th>\n",
       "      <th>Neighborhoods</th>\n",
       "      <th>SF Find Neighborhoods</th>\n",
       "    </tr>\n",
       "  </thead>\n",
       "  <tbody>\n",
       "    <tr>\n",
       "      <th>5</th>\n",
       "      <td>Administrator</td>\n",
       "      <td>Priscilla Chan and Mark Zuckerberg San Francis...</td>\n",
       "      <td>Priscilla Chan and Mark Zuckerberg</td>\n",
       "      <td>F &amp; M</td>\n",
       "      <td>Public Health</td>\n",
       "      <td>NaN</td>\n",
       "      <td>4</td>\n",
       "      <td>10</td>\n",
       "      <td>36</td>\n",
       "      <td>21</td>\n",
       "      <td>21</td>\n",
       "    </tr>\n",
       "    <tr>\n",
       "      <th>7</th>\n",
       "      <td>REC AND PARKS</td>\n",
       "      <td>Minnie &amp; Lovie Ward Recreation Center</td>\n",
       "      <td>Minnie &amp; Lovie Ward</td>\n",
       "      <td>F &amp; M</td>\n",
       "      <td>NaN</td>\n",
       "      <td>park</td>\n",
       "      <td>4</td>\n",
       "      <td>10</td>\n",
       "      <td>36</td>\n",
       "      <td>21</td>\n",
       "      <td>21</td>\n",
       "    </tr>\n",
       "    <tr>\n",
       "      <th>26</th>\n",
       "      <td>Administrator</td>\n",
       "      <td>Charlotte and George Shultz Horseshoe Drive</td>\n",
       "      <td>Charlotte and George Shultz</td>\n",
       "      <td>F &amp; M</td>\n",
       "      <td>War Memorial Opera House</td>\n",
       "      <td>NaN</td>\n",
       "      <td>4</td>\n",
       "      <td>10</td>\n",
       "      <td>36</td>\n",
       "      <td>21</td>\n",
       "      <td>21</td>\n",
       "    </tr>\n",
       "    <tr>\n",
       "      <th>30</th>\n",
       "      <td>Administrator</td>\n",
       "      <td>Walter and Elise Haas Grand Lounge</td>\n",
       "      <td>Walter and Elise Hass</td>\n",
       "      <td>M &amp; F</td>\n",
       "      <td>Davies Symphony Hall</td>\n",
       "      <td>NaN</td>\n",
       "      <td>4</td>\n",
       "      <td>10</td>\n",
       "      <td>36</td>\n",
       "      <td>21</td>\n",
       "      <td>21</td>\n",
       "    </tr>\n",
       "    <tr>\n",
       "      <th>34</th>\n",
       "      <td>LIBRARY</td>\n",
       "      <td>Syncip Family Conference Room</td>\n",
       "      <td>Syncip Family</td>\n",
       "      <td>F &amp; M</td>\n",
       "      <td>NaN</td>\n",
       "      <td>4th floor</td>\n",
       "      <td>4</td>\n",
       "      <td>10</td>\n",
       "      <td>36</td>\n",
       "      <td>21</td>\n",
       "      <td>21</td>\n",
       "    </tr>\n",
       "    <tr>\n",
       "      <th>56</th>\n",
       "      <td>LIBRARY</td>\n",
       "      <td>Koret Auditorium</td>\n",
       "      <td>Koret (Family?)</td>\n",
       "      <td>F &amp; M</td>\n",
       "      <td>NaN</td>\n",
       "      <td>Family</td>\n",
       "      <td>4</td>\n",
       "      <td>10</td>\n",
       "      <td>36</td>\n",
       "      <td>21</td>\n",
       "      <td>21</td>\n",
       "    </tr>\n",
       "    <tr>\n",
       "      <th>64</th>\n",
       "      <td>LIBRARY</td>\n",
       "      <td>Fulton Conference Room</td>\n",
       "      <td>Fulton (family?)</td>\n",
       "      <td>F &amp; M</td>\n",
       "      <td>NaN</td>\n",
       "      <td>Family</td>\n",
       "      <td>4</td>\n",
       "      <td>10</td>\n",
       "      <td>36</td>\n",
       "      <td>21</td>\n",
       "      <td>21</td>\n",
       "    </tr>\n",
       "    <tr>\n",
       "      <th>65</th>\n",
       "      <td>Administrator</td>\n",
       "      <td>Dianne and Tab Taube Atrium Theatre</td>\n",
       "      <td>Dianne and Tab Taube</td>\n",
       "      <td>F &amp; M</td>\n",
       "      <td>Veterans Building</td>\n",
       "      <td>NaN</td>\n",
       "      <td>4</td>\n",
       "      <td>10</td>\n",
       "      <td>36</td>\n",
       "      <td>21</td>\n",
       "      <td>21</td>\n",
       "    </tr>\n",
       "    <tr>\n",
       "      <th>66</th>\n",
       "      <td>REC AND PARKS</td>\n",
       "      <td>Thelma and Henry Doelger Primate Discovery Cen...</td>\n",
       "      <td>Thelma and Henry Doelger</td>\n",
       "      <td>F &amp; M</td>\n",
       "      <td>NaN</td>\n",
       "      <td>facilities and other amenities</td>\n",
       "      <td>4</td>\n",
       "      <td>10</td>\n",
       "      <td>36</td>\n",
       "      <td>21</td>\n",
       "      <td>21</td>\n",
       "    </tr>\n",
       "  </tbody>\n",
       "</table>\n",
       "</div>"
      ],
      "text/plain": [
       "   Department/Source                                               Name  \\\n",
       "5      Administrator  Priscilla Chan and Mark Zuckerberg San Francis...   \n",
       "7      REC AND PARKS              Minnie & Lovie Ward Recreation Center   \n",
       "26     Administrator        Charlotte and George Shultz Horseshoe Drive   \n",
       "30     Administrator                 Walter and Elise Haas Grand Lounge   \n",
       "34           LIBRARY                      Syncip Family Conference Room   \n",
       "56           LIBRARY                                   Koret Auditorium   \n",
       "64           LIBRARY                             Fulton Conference Room   \n",
       "65     Administrator                Dianne and Tab Taube Atrium Theatre   \n",
       "66     REC AND PARKS  Thelma and Henry Doelger Primate Discovery Cen...   \n",
       "\n",
       "                                Person Gender                 Reference  \\\n",
       "5   Priscilla Chan and Mark Zuckerberg  F & M             Public Health   \n",
       "7                  Minnie & Lovie Ward  F & M                       NaN   \n",
       "26         Charlotte and George Shultz  F & M  War Memorial Opera House   \n",
       "30               Walter and Elise Hass  M & F      Davies Symphony Hall   \n",
       "34                       Syncip Family  F & M                       NaN   \n",
       "56                     Koret (Family?)  F & M                       NaN   \n",
       "64                    Fulton (family?)  F & M                       NaN   \n",
       "65                Dianne and Tab Taube  F & M         Veterans Building   \n",
       "66            Thelma and Henry Doelger  F & M                       NaN   \n",
       "\n",
       "                          Comments  Current Police Districts  \\\n",
       "5                              NaN                         4   \n",
       "7                             park                         4   \n",
       "26                             NaN                         4   \n",
       "30                             NaN                         4   \n",
       "34                       4th floor                         4   \n",
       "56                          Family                         4   \n",
       "64                          Family                         4   \n",
       "65                             NaN                         4   \n",
       "66  facilities and other amenities                         4   \n",
       "\n",
       "    Current Supervisor Districts  Analysis Neighborhoods  Neighborhoods  \\\n",
       "5                             10                      36             21   \n",
       "7                             10                      36             21   \n",
       "26                            10                      36             21   \n",
       "30                            10                      36             21   \n",
       "34                            10                      36             21   \n",
       "56                            10                      36             21   \n",
       "64                            10                      36             21   \n",
       "65                            10                      36             21   \n",
       "66                            10                      36             21   \n",
       "\n",
       "    SF Find Neighborhoods  \n",
       "5                      21  \n",
       "7                      21  \n",
       "26                     21  \n",
       "30                     21  \n",
       "34                     21  \n",
       "56                     21  \n",
       "64                     21  \n",
       "65                     21  \n",
       "66                     21  "
      ]
     },
     "execution_count": 8,
     "metadata": {},
     "output_type": "execute_result"
    }
   ],
   "source": [
    "#the buildings owned by both male and female\n",
    "data[(data['Gender'] == 'F & M') | (data['Gender'] == 'M & F')] "
   ]
  },
  {
   "cell_type": "code",
   "execution_count": 9,
   "metadata": {},
   "outputs": [
    {
     "data": {
      "text/plain": [
       "M        0.646341\n",
       "F        0.231707\n",
       "F & M    0.097561\n",
       "M & F    0.012195\n",
       "M & M    0.012195\n",
       "Name: Gender, dtype: float64"
      ]
     },
     "execution_count": 9,
     "metadata": {},
     "output_type": "execute_result"
    }
   ],
   "source": [
    "#counting the number of buildings owned by each gender\n",
    "data['Gender'].value_counts(normalize=True)"
   ]
  },
  {
   "cell_type": "markdown",
   "metadata": {},
   "source": [
    "These nine buildings form 10% of our dataset and will be dropped as they do not distinctly represent male or female. Most of the buildings represent families or husband and wife. The M & M building will be taken to represent male gender M."
   ]
  },
  {
   "cell_type": "code",
   "execution_count": 10,
   "metadata": {},
   "outputs": [],
   "source": [
    "data = data[(data['Gender'] == 'F') | (data['Gender'] == 'M')]\n",
    "data['Gender'] = data['Gender'].replace('M & M', 'M')"
   ]
  },
  {
   "cell_type": "code",
   "execution_count": 11,
   "metadata": {},
   "outputs": [
    {
     "data": {
      "text/plain": [
       "M    53\n",
       "F    19\n",
       "Name: Gender, dtype: int64"
      ]
     },
     "execution_count": 11,
     "metadata": {},
     "output_type": "execute_result"
    }
   ],
   "source": [
    "data['Gender'].value_counts()"
   ]
  },
  {
   "cell_type": "code",
   "execution_count": 12,
   "metadata": {},
   "outputs": [
    {
     "data": {
      "image/png": "[encoded data removed]",
      "text/plain": [
       "<Figure size 864x576 with 1 Axes>"
      ]
     },
     "metadata": {},
     "output_type": "display_data"
    }
   ],
   "source": [
    "#plotting a pie chart to show the distribution between male and female\n",
    "plt.figure(figsize=(12,8))\n",
    "plt.pie(data['Gender'].value_counts(), labels=['Male', 'Female'], autopct=\"%0.1f%%\")\n",
    "plt.title(\"Distribution of Male and Female\")\n",
    "plt.show()\n",
    "\n",
    "\n"
   ]
  },
  {
   "cell_type": "markdown",
   "metadata": {},
   "source": [
    "74% of the buildings are named after males and only 26% named after females. This doesnt portray a great representation of females."
   ]
  },
  {
   "cell_type": "markdown",
   "metadata": {},
   "source": [
    "### Departments and Female-Named Buildings"
   ]
  },
  {
   "cell_type": "code",
   "execution_count": 13,
   "metadata": {},
   "outputs": [
    {
     "data": {
      "text/plain": [
       "Department/Source  Gender\n",
       "AIRPORT            M          1\n",
       "Administrator      F         10\n",
       "                   M         31\n",
       "LIBRARY            F          2\n",
       "                   M          3\n",
       "PUC                M          2\n",
       "Port               F          1\n",
       "                   M          1\n",
       "REC AND PARKS      F          5\n",
       "                   M         10\n",
       "RED                F          1\n",
       "                   M          2\n",
       "SFMTA              M          3\n",
       "Name: Name, dtype: int64"
      ]
     },
     "execution_count": 13,
     "metadata": {},
     "output_type": "execute_result"
    }
   ],
   "source": [
    "rep_in_departments = data.groupby(['Department/Source', 'Gender']).Name.count()\n",
    "rep_in_departments"
   ]
  },
  {
   "cell_type": "code",
   "execution_count": 19,
   "metadata": {},
   "outputs": [
    {
     "data": {
      "image/png": "[encoded data removed]",
      "text/plain": [
       "<Figure size 1440x360 with 2 Axes>"
      ]
     },
     "metadata": {
      "needs_background": "light"
     },
     "output_type": "display_data"
    }
   ],
   "source": [
    "\n",
    "sns.catplot(data=data, x='Department/Source', col='Gender', hue='Gender', kind='count', aspect=2)\n",
    "plt.show()"
   ]
  },
  {
   "cell_type": "markdown",
   "metadata": {},
   "source": [
    "Departments such as AIRPORT, PUC, SFMTA do not have buildings named after females. The Administrator Departments boasts the highest female named buildings with 10. REC AND PARKS has 5, LIBRARY 2, Port and RED with one each. "
   ]
  },
  {
   "cell_type": "markdown",
   "metadata": {},
   "source": [
    "### Referenced by and Female-Named Buildings"
   ]
  },
  {
   "cell_type": "code",
   "execution_count": 22,
   "metadata": {},
   "outputs": [
    {
     "data": {
      "text/plain": [
       "Municipal Transportation Agency                                                      9\n",
       "City Administrator                                                                   8\n",
       "Public Utilities Commission                                                          4\n",
       "Veterans Building                                                                    3\n",
       "Public Health                                                                        3\n",
       "Airport (Sfo)                                                                        3\n",
       "Public Works                                                                         2\n",
       "Public Library                                                                       2\n",
       "Davies Symphony Hall                                                                 2\n",
       "Port                                                                                 2\n",
       "Harding Golf Course                                                                  1\n",
       "Fine Arts Museums                                                                    1\n",
       "Clerk to the Board of Supervisors                                                    1\n",
       "Airport Commission President                                                         1\n",
       "Longtime Deputy City Attorney                                                        1\n",
       "Newspaper                                                                            1\n",
       "Fire Department                                                                      1\n",
       "Arts Commission                                                                      1\n",
       "War Memorial Opera House                                                             1\n",
       "General Manager of San Francisco's Municipal Railway in its most difficult period    1\n",
       "Zellerbach Rehearsal Hall                                                            1\n",
       "Name: Reference, dtype: int64"
      ]
     },
     "execution_count": 22,
     "metadata": {},
     "output_type": "execute_result"
    }
   ],
   "source": [
    "data['Reference'].value_counts()"
   ]
  },
  {
   "cell_type": "code",
   "execution_count": 21,
   "metadata": {},
   "outputs": [
    {
     "data": {
      "text/plain": [
       "Veterans Building                  2\n",
       "War Memorial Opera House           1\n",
       "Municipal Transportation Agency    1\n",
       "Arts Commission                    1\n",
       "Davies Symphony Hall               1\n",
       "Public Health                      1\n",
       "Public Library                     1\n",
       "Public Works                       1\n",
       "City Administrator                 1\n",
       "Port                               1\n",
       "Name: Reference, dtype: int64"
      ]
     },
     "execution_count": 21,
     "metadata": {},
     "output_type": "execute_result"
    }
   ],
   "source": [
    "data_female = data[data['Gender'] == 'F']\n",
    "data_female['Reference'].value_counts()"
   ]
  },
  {
   "cell_type": "markdown",
   "metadata": {},
   "source": [
    "Of the 21 References, only 10 references were female named buildings. "
   ]
  },
  {
   "cell_type": "code",
   "execution_count": 30,
   "metadata": {},
   "outputs": [
    {
     "data": {
      "image/png": "[encoded data removed]",
      "text/plain": [
       "<Figure size 864x576 with 1 Axes>"
      ]
     },
     "metadata": {
      "needs_background": "light"
     },
     "output_type": "display_data"
    }
   ],
   "source": [
    "plt.figure(figsize=(12,8))\n",
    "sns.countplot(y='Reference', hue='Gender', data=data)\n",
    "plt.show()"
   ]
  },
  {
   "cell_type": "markdown",
   "metadata": {},
   "source": [
    "### Comments and Female-Named Buildings"
   ]
  },
  {
   "cell_type": "code",
   "execution_count": 31,
   "metadata": {},
   "outputs": [
    {
     "data": {
      "text/plain": [
       "facilities and other amenities                                                                     3\n",
       "park                                                                                               2\n",
       "2010 - Chief of Protocol for the City and County of San Francisco (and the State of California)    1\n",
       "1st floor main library                                                                             1\n",
       "Library                                                                                            1\n",
       "Name: Comments, dtype: int64"
      ]
     },
     "execution_count": 31,
     "metadata": {},
     "output_type": "execute_result"
    }
   ],
   "source": [
    "data_female['Comments'].value_counts()"
   ]
  },
  {
   "cell_type": "code",
   "execution_count": 32,
   "metadata": {},
   "outputs": [
    {
     "data": {
      "text/plain": [
       "facilities and other amenities                                                                     10\n",
       "park                                                                                                5\n",
       "Library                                                                                             3\n",
       "Not in SF Data                                                                                      2\n",
       "Different name in SF Data                                                                           1\n",
       "1st floor main library                                                                              1\n",
       "Civil Rights Attorney                                                                               1\n",
       "Civil Engineer, Developed Hetch-Hetchy Water System                                                 1\n",
       "main library 3rd Floor                                                                              1\n",
       "2010 - Chief of Protocol for the City and County of San Francisco (and the State of California)     1\n",
       "Mayor                                                                                               1\n",
       "Name: Comments, dtype: int64"
      ]
     },
     "execution_count": 32,
     "metadata": {},
     "output_type": "execute_result"
    }
   ],
   "source": [
    "data['Comments'].value_counts()"
   ]
  },
  {
   "cell_type": "code",
   "execution_count": 33,
   "metadata": {},
   "outputs": [
    {
     "data": {
      "image/png": "[encoded data removed]",
      "text/plain": [
       "<Figure size 864x576 with 1 Axes>"
      ]
     },
     "metadata": {
      "needs_background": "light"
     },
     "output_type": "display_data"
    }
   ],
   "source": [
    "plt.figure(figsize=(12,8))\n",
    "sns.countplot(y='Comments', hue='Gender', data=data)\n",
    "plt.show()"
   ]
  },
  {
   "cell_type": "markdown",
   "metadata": {},
   "source": [
    "The comments on female-named buildings are mostly facilities and other amenities or park. We can not really point out so much about where female-named buildings due to the small size of comments gotten. "
   ]
  },
  {
   "cell_type": "markdown",
   "metadata": {},
   "source": [
    "### Conclusions"
   ]
  },
  {
   "cell_type": "markdown",
   "metadata": {},
   "source": [
    "- Most buildings in San Franciso are named after men. \n",
    "- The females are not well represented at all."
   ]
  }
 ],
 "metadata": {
  "kernelspec": {
   "display_name": "Python 3",
   "language": "python",
   "name": "python3"
  },
  "language_info": {
   "codemirror_mode": {
    "name": "ipython",
    "version": 3
   },
   "file_extension": ".py",
   "mimetype": "text/x-python",
   "name": "python",
   "nbconvert_exporter": "python",
   "pygments_lexer": "ipython3",
   "version": "3.7.3"
  }
 },
 "nbformat": 4,
 "nbformat_minor": 4
}
