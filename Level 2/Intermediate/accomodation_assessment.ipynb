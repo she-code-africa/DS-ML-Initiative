{
 "cells": [
  {
   "cell_type": "markdown",
   "metadata": {},
   "source": [
    "### A Data Collection, Cleaning and Exploratory Analysis on Accomodation Cost in comparison with Income among Young Adults"
   ]
  },
  {
   "cell_type": "markdown",
   "metadata": {},
   "source": [
    "### Introduction"
   ]
  },
  {
   "cell_type": "markdown",
   "metadata": {},
   "source": [
    "Most at times, it is usually challenging for young adults who are starting  out their careers or who are getting into the phase of being independent. \n",
    "\n",
    "Knowing that many of them go to bigger cities to make ends meet or search for greener pastures, \n",
    "accommodation is usually a major factor of concern, which at times limits one's preference.\n",
    "\n",
    "The goal of this project is to research into this, to know how much young adults (18 - 29 years) \n",
    "spend on accommodation, in comparison to their incomes.\n",
    "\n",
    "Data Collection was done via this [form](https://docs.google.com/forms/d/1VhtGHUs8XawrgDvc-zqtAreu5-1-BDDDs2mmmh8-iy8/edit?usp=drivesdk) which garnered 121 responses over a 7 day-period. \n",
    "\n",
    "The responses are collected in a CSV file which is used in this notebook. "
   ]
  },
  {
   "cell_type": "code",
   "execution_count": 189,
   "metadata": {},
   "outputs": [],
   "source": [
    "#importing required libraries\n",
    "import pandas as pd\n",
    "import numpy as np\n",
    "import seaborn as sns\n",
    "import matplotlib.pyplot as plt\n",
    "import warnings\n",
    "warnings.filterwarnings('ignore')\n"
   ]
  },
  {
   "cell_type": "code",
   "execution_count": 190,
   "metadata": {},
   "outputs": [],
   "source": [
    "#importing dataset\n",
    "data = pd.read_csv('Accommodation Assessment Form.csv')"
   ]
  },
  {
   "cell_type": "code",
   "execution_count": 191,
   "metadata": {},
   "outputs": [
    {
     "data": {
      "text/html": [
       "<div>\n",
       "<style scoped>\n",
       "    .dataframe tbody tr th:only-of-type {\n",
       "        vertical-align: middle;\n",
       "    }\n",
       "\n",
       "    .dataframe tbody tr th {\n",
       "        vertical-align: top;\n",
       "    }\n",
       "\n",
       "    .dataframe thead th {\n",
       "        text-align: right;\n",
       "    }\n",
       "</style>\n",
       "<table border=\"1\" class=\"dataframe\">\n",
       "  <thead>\n",
       "    <tr style=\"text-align: right;\">\n",
       "      <th></th>\n",
       "      <th>Timestamp</th>\n",
       "      <th>Age</th>\n",
       "      <th>Gender</th>\n",
       "      <th>Maximum Level of Education</th>\n",
       "      <th>Country</th>\n",
       "      <th>State/Province</th>\n",
       "      <th>Based on your answer above, how industrious is your State of residence?</th>\n",
       "      <th>Currency</th>\n",
       "      <th>Monthly Salary in the currency you mentioned above</th>\n",
       "      <th>Career Industry</th>\n",
       "      <th>Years of working experience</th>\n",
       "      <th>Do you foot your accommodation bills?</th>\n",
       "      <th>If you selected \"Not completely\", what fraction of the rent do you pay?</th>\n",
       "      <th>Accommodation Rented</th>\n",
       "      <th>Location of accommodation</th>\n",
       "      <th>Cost of your accommodation per month</th>\n",
       "      <th>Do you think accommodation prices are generally high in your State of residence for young adults?</th>\n",
       "    </tr>\n",
       "  </thead>\n",
       "  <tbody>\n",
       "    <tr>\n",
       "      <th>0</th>\n",
       "      <td>2021/01/20 7:57:57 AM GMT+1</td>\n",
       "      <td>24</td>\n",
       "      <td>Male</td>\n",
       "      <td>Bachelor's Degree/Equivalent</td>\n",
       "      <td>Nigeria</td>\n",
       "      <td>Lagos</td>\n",
       "      <td>Industrious</td>\n",
       "      <td>Naira</td>\n",
       "      <td>150000</td>\n",
       "      <td>Accounting &amp; Tech</td>\n",
       "      <td>1.0</td>\n",
       "      <td>Yes</td>\n",
       "      <td>NaN</td>\n",
       "      <td>Full Flat</td>\n",
       "      <td>Mid-class area</td>\n",
       "      <td>80000</td>\n",
       "      <td>Yes</td>\n",
       "    </tr>\n",
       "    <tr>\n",
       "      <th>1</th>\n",
       "      <td>2021/01/20 9:02:40 AM GMT+1</td>\n",
       "      <td>27</td>\n",
       "      <td>Female</td>\n",
       "      <td>Bachelor's Degree/Equivalent</td>\n",
       "      <td>Kenya</td>\n",
       "      <td>Nairobi</td>\n",
       "      <td>Most industrious in the country</td>\n",
       "      <td>Kenyan Shillings</td>\n",
       "      <td>150000</td>\n",
       "      <td>Software Engineer</td>\n",
       "      <td>3.0</td>\n",
       "      <td>Yes</td>\n",
       "      <td>NaN</td>\n",
       "      <td>Shared Flat</td>\n",
       "      <td>Mid-class area</td>\n",
       "      <td>35000</td>\n",
       "      <td>Yes</td>\n",
       "    </tr>\n",
       "    <tr>\n",
       "      <th>2</th>\n",
       "      <td>2021/01/20 9:07:23 AM GMT+1</td>\n",
       "      <td>25</td>\n",
       "      <td>Female</td>\n",
       "      <td>High/Secondary School</td>\n",
       "      <td>South Africa</td>\n",
       "      <td>Cape Town</td>\n",
       "      <td>Non-Industrious</td>\n",
       "      <td>Rand</td>\n",
       "      <td>2000</td>\n",
       "      <td>Hospitality</td>\n",
       "      <td>5.0</td>\n",
       "      <td>Yes</td>\n",
       "      <td>NaN</td>\n",
       "      <td>Shared Flat</td>\n",
       "      <td>Mid-class area</td>\n",
       "      <td>R3500</td>\n",
       "      <td>Yes</td>\n",
       "    </tr>\n",
       "    <tr>\n",
       "      <th>3</th>\n",
       "      <td>2021/01/20 9:27:25 AM GMT+1</td>\n",
       "      <td>28</td>\n",
       "      <td>Female</td>\n",
       "      <td>Bachelor's Degree/Equivalent</td>\n",
       "      <td>Nigeria</td>\n",
       "      <td>Lagos</td>\n",
       "      <td>Most industrious in the country</td>\n",
       "      <td>Naira</td>\n",
       "      <td>0</td>\n",
       "      <td>IT</td>\n",
       "      <td>0.0</td>\n",
       "      <td>No</td>\n",
       "      <td>NaN</td>\n",
       "      <td>Neither. I do not pay rents</td>\n",
       "      <td>I do not pay rents</td>\n",
       "      <td>NaN</td>\n",
       "      <td>Yes</td>\n",
       "    </tr>\n",
       "    <tr>\n",
       "      <th>4</th>\n",
       "      <td>2021/01/20 9:27:53 AM GMT+1</td>\n",
       "      <td>24</td>\n",
       "      <td>Female</td>\n",
       "      <td>Bachelor's Degree/Equivalent</td>\n",
       "      <td>Nigeria</td>\n",
       "      <td>Lagos</td>\n",
       "      <td>Industrious</td>\n",
       "      <td>Naira</td>\n",
       "      <td>70000</td>\n",
       "      <td>Tech</td>\n",
       "      <td>1.0</td>\n",
       "      <td>Not completely</td>\n",
       "      <td>1/4</td>\n",
       "      <td>Neither. I do not pay rents</td>\n",
       "      <td>Low brow area</td>\n",
       "      <td>N/A</td>\n",
       "      <td>Yes</td>\n",
       "    </tr>\n",
       "  </tbody>\n",
       "</table>\n",
       "</div>"
      ],
      "text/plain": [
       "                     Timestamp  Age  Gender    Maximum Level of Education  \\\n",
       "0  2021/01/20 7:57:57 AM GMT+1   24    Male  Bachelor's Degree/Equivalent   \n",
       "1  2021/01/20 9:02:40 AM GMT+1   27  Female  Bachelor's Degree/Equivalent   \n",
       "2  2021/01/20 9:07:23 AM GMT+1   25  Female         High/Secondary School   \n",
       "3  2021/01/20 9:27:25 AM GMT+1   28  Female  Bachelor's Degree/Equivalent   \n",
       "4  2021/01/20 9:27:53 AM GMT+1   24  Female  Bachelor's Degree/Equivalent   \n",
       "\n",
       "        Country State/Province  \\\n",
       "0       Nigeria          Lagos   \n",
       "1         Kenya        Nairobi   \n",
       "2  South Africa      Cape Town   \n",
       "3       Nigeria          Lagos   \n",
       "4       Nigeria          Lagos   \n",
       "\n",
       "  Based on your answer above, how industrious is your State of residence?  \\\n",
       "0                                        Industrious                        \n",
       "1                    Most industrious in the country                        \n",
       "2                                    Non-Industrious                        \n",
       "3                    Most industrious in the country                        \n",
       "4                                        Industrious                        \n",
       "\n",
       "           Currency  Monthly Salary in the currency you mentioned above  \\\n",
       "0             Naira                                             150000    \n",
       "1  Kenyan Shillings                                             150000    \n",
       "2              Rand                                               2000    \n",
       "3             Naira                                                  0    \n",
       "4            Naira                                               70000    \n",
       "\n",
       "     Career Industry  Years of working experience  \\\n",
       "0  Accounting & Tech                          1.0   \n",
       "1  Software Engineer                          3.0   \n",
       "2        Hospitality                          5.0   \n",
       "3                 IT                          0.0   \n",
       "4               Tech                          1.0   \n",
       "\n",
       "  Do you foot your accommodation bills?  \\\n",
       "0                                   Yes   \n",
       "1                                   Yes   \n",
       "2                                   Yes   \n",
       "3                                    No   \n",
       "4                        Not completely   \n",
       "\n",
       "  If you selected \"Not completely\", what fraction of the rent do you pay?  \\\n",
       "0                                                NaN                        \n",
       "1                                                NaN                        \n",
       "2                                                NaN                        \n",
       "3                                                NaN                        \n",
       "4                                                1/4                        \n",
       "\n",
       "          Accommodation Rented Location of accommodation  \\\n",
       "0                    Full Flat            Mid-class area   \n",
       "1                  Shared Flat            Mid-class area   \n",
       "2                  Shared Flat            Mid-class area   \n",
       "3  Neither. I do not pay rents        I do not pay rents   \n",
       "4  Neither. I do not pay rents             Low brow area   \n",
       "\n",
       "  Cost of your accommodation per month  \\\n",
       "0                                80000   \n",
       "1                                35000   \n",
       "2                                R3500   \n",
       "3                                  NaN   \n",
       "4                                  N/A   \n",
       "\n",
       "  Do you think accommodation prices are generally high in your State of residence for young adults?  \n",
       "0                                                Yes                                                 \n",
       "1                                                Yes                                                 \n",
       "2                                                Yes                                                 \n",
       "3                                                Yes                                                 \n",
       "4                                                Yes                                                 "
      ]
     },
     "execution_count": 191,
     "metadata": {},
     "output_type": "execute_result"
    }
   ],
   "source": [
    "#printing the first 5 rows\n",
    "data.head()"
   ]
  },
  {
   "cell_type": "code",
   "execution_count": 192,
   "metadata": {},
   "outputs": [
    {
     "name": "stdout",
     "output_type": "stream",
     "text": [
      "<class 'pandas.core.frame.DataFrame'>\n",
      "RangeIndex: 121 entries, 0 to 120\n",
      "Data columns (total 17 columns):\n",
      " #   Column                                                                                             Non-Null Count  Dtype  \n",
      "---  ------                                                                                             --------------  -----  \n",
      " 0   Timestamp                                                                                          121 non-null    object \n",
      " 1   Age                                                                                                121 non-null    int64  \n",
      " 2   Gender                                                                                             121 non-null    object \n",
      " 3   Maximum Level of Education                                                                         121 non-null    object \n",
      " 4   Country                                                                                            121 non-null    object \n",
      " 5   State/Province                                                                                     121 non-null    object \n",
      " 6   Based on your answer above, how industrious is your State of residence?                            118 non-null    object \n",
      " 7   Currency                                                                                           121 non-null    object \n",
      " 8   Monthly Salary in the currency you mentioned above                                                 121 non-null    int64  \n",
      " 9   Career Industry                                                                                    121 non-null    object \n",
      " 10  Years of working experience                                                                        121 non-null    float64\n",
      " 11  Do you foot your accommodation bills?                                                              121 non-null    object \n",
      " 12  If you selected \"Not completely\", what fraction of the rent do you pay?                            28 non-null     object \n",
      " 13  Accommodation Rented                                                                               121 non-null    object \n",
      " 14  Location of accommodation                                                                          121 non-null    object \n",
      " 15  Cost of your accommodation per month                                                               83 non-null     object \n",
      " 16  Do you think accommodation prices are generally high in your State of residence for young adults?  121 non-null    object \n",
      "dtypes: float64(1), int64(2), object(14)\n",
      "memory usage: 16.2+ KB\n"
     ]
    }
   ],
   "source": [
    "data.info()"
   ]
  },
  {
   "cell_type": "code",
   "execution_count": 193,
   "metadata": {},
   "outputs": [
    {
     "data": {
      "text/html": [
       "<div>\n",
       "<style scoped>\n",
       "    .dataframe tbody tr th:only-of-type {\n",
       "        vertical-align: middle;\n",
       "    }\n",
       "\n",
       "    .dataframe tbody tr th {\n",
       "        vertical-align: top;\n",
       "    }\n",
       "\n",
       "    .dataframe thead th {\n",
       "        text-align: right;\n",
       "    }\n",
       "</style>\n",
       "<table border=\"1\" class=\"dataframe\">\n",
       "  <thead>\n",
       "    <tr style=\"text-align: right;\">\n",
       "      <th></th>\n",
       "      <th>Age</th>\n",
       "      <th>Monthly Salary in the currency you mentioned above</th>\n",
       "      <th>Years of working experience</th>\n",
       "    </tr>\n",
       "  </thead>\n",
       "  <tbody>\n",
       "    <tr>\n",
       "      <th>count</th>\n",
       "      <td>121.000000</td>\n",
       "      <td>121.000000</td>\n",
       "      <td>121.000000</td>\n",
       "    </tr>\n",
       "    <tr>\n",
       "      <th>mean</th>\n",
       "      <td>23.421488</td>\n",
       "      <td>60587.603306</td>\n",
       "      <td>1.492975</td>\n",
       "    </tr>\n",
       "    <tr>\n",
       "      <th>std</th>\n",
       "      <td>2.798071</td>\n",
       "      <td>113215.106155</td>\n",
       "      <td>1.840282</td>\n",
       "    </tr>\n",
       "    <tr>\n",
       "      <th>min</th>\n",
       "      <td>18.000000</td>\n",
       "      <td>0.000000</td>\n",
       "      <td>0.000000</td>\n",
       "    </tr>\n",
       "    <tr>\n",
       "      <th>25%</th>\n",
       "      <td>22.000000</td>\n",
       "      <td>0.000000</td>\n",
       "      <td>0.000000</td>\n",
       "    </tr>\n",
       "    <tr>\n",
       "      <th>50%</th>\n",
       "      <td>23.000000</td>\n",
       "      <td>20000.000000</td>\n",
       "      <td>1.000000</td>\n",
       "    </tr>\n",
       "    <tr>\n",
       "      <th>75%</th>\n",
       "      <td>25.000000</td>\n",
       "      <td>70000.000000</td>\n",
       "      <td>2.000000</td>\n",
       "    </tr>\n",
       "    <tr>\n",
       "      <th>max</th>\n",
       "      <td>29.000000</td>\n",
       "      <td>800000.000000</td>\n",
       "      <td>10.000000</td>\n",
       "    </tr>\n",
       "  </tbody>\n",
       "</table>\n",
       "</div>"
      ],
      "text/plain": [
       "              Age  Monthly Salary in the currency you mentioned above  \\\n",
       "count  121.000000                                         121.000000    \n",
       "mean    23.421488                                       60587.603306    \n",
       "std      2.798071                                      113215.106155    \n",
       "min     18.000000                                           0.000000    \n",
       "25%     22.000000                                           0.000000    \n",
       "50%     23.000000                                       20000.000000    \n",
       "75%     25.000000                                       70000.000000    \n",
       "max     29.000000                                      800000.000000    \n",
       "\n",
       "       Years of working experience  \n",
       "count                   121.000000  \n",
       "mean                      1.492975  \n",
       "std                       1.840282  \n",
       "min                       0.000000  \n",
       "25%                       0.000000  \n",
       "50%                       1.000000  \n",
       "75%                       2.000000  \n",
       "max                      10.000000  "
      ]
     },
     "execution_count": 193,
     "metadata": {},
     "output_type": "execute_result"
    }
   ],
   "source": [
    "data.describe()"
   ]
  },
  {
   "cell_type": "markdown",
   "metadata": {},
   "source": [
    "### Data Cleaning & Analysis"
   ]
  },
  {
   "cell_type": "code",
   "execution_count": 194,
   "metadata": {},
   "outputs": [
    {
     "data": {
      "text/html": [
       "<div>\n",
       "<style scoped>\n",
       "    .dataframe tbody tr th:only-of-type {\n",
       "        vertical-align: middle;\n",
       "    }\n",
       "\n",
       "    .dataframe tbody tr th {\n",
       "        vertical-align: top;\n",
       "    }\n",
       "\n",
       "    .dataframe thead th {\n",
       "        text-align: right;\n",
       "    }\n",
       "</style>\n",
       "<table border=\"1\" class=\"dataframe\">\n",
       "  <thead>\n",
       "    <tr style=\"text-align: right;\">\n",
       "      <th></th>\n",
       "      <th>Age</th>\n",
       "      <th>Gender</th>\n",
       "      <th>Maximum Level of Education</th>\n",
       "      <th>Country</th>\n",
       "      <th>State/Province</th>\n",
       "      <th>Based on your answer above, how industrious is your State of residence?</th>\n",
       "      <th>Currency</th>\n",
       "      <th>Monthly Salary in the currency you mentioned above</th>\n",
       "      <th>Career Industry</th>\n",
       "      <th>Years of working experience</th>\n",
       "      <th>Do you foot your accommodation bills?</th>\n",
       "      <th>If you selected \"Not completely\", what fraction of the rent do you pay?</th>\n",
       "      <th>Accommodation Rented</th>\n",
       "      <th>Location of accommodation</th>\n",
       "      <th>Cost of your accommodation per month</th>\n",
       "      <th>Do you think accommodation prices are generally high in your State of residence for young adults?</th>\n",
       "    </tr>\n",
       "  </thead>\n",
       "  <tbody>\n",
       "    <tr>\n",
       "      <th>0</th>\n",
       "      <td>24</td>\n",
       "      <td>Male</td>\n",
       "      <td>Bachelor's Degree/Equivalent</td>\n",
       "      <td>Nigeria</td>\n",
       "      <td>Lagos</td>\n",
       "      <td>Industrious</td>\n",
       "      <td>Naira</td>\n",
       "      <td>150000</td>\n",
       "      <td>Accounting &amp; Tech</td>\n",
       "      <td>1.0</td>\n",
       "      <td>Yes</td>\n",
       "      <td>NaN</td>\n",
       "      <td>Full Flat</td>\n",
       "      <td>Mid-class area</td>\n",
       "      <td>80000</td>\n",
       "      <td>Yes</td>\n",
       "    </tr>\n",
       "    <tr>\n",
       "      <th>1</th>\n",
       "      <td>27</td>\n",
       "      <td>Female</td>\n",
       "      <td>Bachelor's Degree/Equivalent</td>\n",
       "      <td>Kenya</td>\n",
       "      <td>Nairobi</td>\n",
       "      <td>Most industrious in the country</td>\n",
       "      <td>Kenyan Shillings</td>\n",
       "      <td>150000</td>\n",
       "      <td>Software Engineer</td>\n",
       "      <td>3.0</td>\n",
       "      <td>Yes</td>\n",
       "      <td>NaN</td>\n",
       "      <td>Shared Flat</td>\n",
       "      <td>Mid-class area</td>\n",
       "      <td>35000</td>\n",
       "      <td>Yes</td>\n",
       "    </tr>\n",
       "    <tr>\n",
       "      <th>2</th>\n",
       "      <td>25</td>\n",
       "      <td>Female</td>\n",
       "      <td>High/Secondary School</td>\n",
       "      <td>South Africa</td>\n",
       "      <td>Cape Town</td>\n",
       "      <td>Non-Industrious</td>\n",
       "      <td>Rand</td>\n",
       "      <td>2000</td>\n",
       "      <td>Hospitality</td>\n",
       "      <td>5.0</td>\n",
       "      <td>Yes</td>\n",
       "      <td>NaN</td>\n",
       "      <td>Shared Flat</td>\n",
       "      <td>Mid-class area</td>\n",
       "      <td>R3500</td>\n",
       "      <td>Yes</td>\n",
       "    </tr>\n",
       "    <tr>\n",
       "      <th>3</th>\n",
       "      <td>28</td>\n",
       "      <td>Female</td>\n",
       "      <td>Bachelor's Degree/Equivalent</td>\n",
       "      <td>Nigeria</td>\n",
       "      <td>Lagos</td>\n",
       "      <td>Most industrious in the country</td>\n",
       "      <td>Naira</td>\n",
       "      <td>0</td>\n",
       "      <td>IT</td>\n",
       "      <td>0.0</td>\n",
       "      <td>No</td>\n",
       "      <td>NaN</td>\n",
       "      <td>Neither. I do not pay rents</td>\n",
       "      <td>I do not pay rents</td>\n",
       "      <td>NaN</td>\n",
       "      <td>Yes</td>\n",
       "    </tr>\n",
       "    <tr>\n",
       "      <th>4</th>\n",
       "      <td>24</td>\n",
       "      <td>Female</td>\n",
       "      <td>Bachelor's Degree/Equivalent</td>\n",
       "      <td>Nigeria</td>\n",
       "      <td>Lagos</td>\n",
       "      <td>Industrious</td>\n",
       "      <td>Naira</td>\n",
       "      <td>70000</td>\n",
       "      <td>Tech</td>\n",
       "      <td>1.0</td>\n",
       "      <td>Not completely</td>\n",
       "      <td>1/4</td>\n",
       "      <td>Neither. I do not pay rents</td>\n",
       "      <td>Low brow area</td>\n",
       "      <td>N/A</td>\n",
       "      <td>Yes</td>\n",
       "    </tr>\n",
       "  </tbody>\n",
       "</table>\n",
       "</div>"
      ],
      "text/plain": [
       "   Age  Gender    Maximum Level of Education       Country State/Province  \\\n",
       "0   24    Male  Bachelor's Degree/Equivalent       Nigeria          Lagos   \n",
       "1   27  Female  Bachelor's Degree/Equivalent         Kenya        Nairobi   \n",
       "2   25  Female         High/Secondary School  South Africa      Cape Town   \n",
       "3   28  Female  Bachelor's Degree/Equivalent       Nigeria          Lagos   \n",
       "4   24  Female  Bachelor's Degree/Equivalent       Nigeria          Lagos   \n",
       "\n",
       "  Based on your answer above, how industrious is your State of residence?  \\\n",
       "0                                        Industrious                        \n",
       "1                    Most industrious in the country                        \n",
       "2                                    Non-Industrious                        \n",
       "3                    Most industrious in the country                        \n",
       "4                                        Industrious                        \n",
       "\n",
       "           Currency  Monthly Salary in the currency you mentioned above  \\\n",
       "0             Naira                                             150000    \n",
       "1  Kenyan Shillings                                             150000    \n",
       "2              Rand                                               2000    \n",
       "3             Naira                                                  0    \n",
       "4            Naira                                               70000    \n",
       "\n",
       "     Career Industry  Years of working experience  \\\n",
       "0  Accounting & Tech                          1.0   \n",
       "1  Software Engineer                          3.0   \n",
       "2        Hospitality                          5.0   \n",
       "3                 IT                          0.0   \n",
       "4               Tech                          1.0   \n",
       "\n",
       "  Do you foot your accommodation bills?  \\\n",
       "0                                   Yes   \n",
       "1                                   Yes   \n",
       "2                                   Yes   \n",
       "3                                    No   \n",
       "4                        Not completely   \n",
       "\n",
       "  If you selected \"Not completely\", what fraction of the rent do you pay?  \\\n",
       "0                                                NaN                        \n",
       "1                                                NaN                        \n",
       "2                                                NaN                        \n",
       "3                                                NaN                        \n",
       "4                                                1/4                        \n",
       "\n",
       "          Accommodation Rented Location of accommodation  \\\n",
       "0                    Full Flat            Mid-class area   \n",
       "1                  Shared Flat            Mid-class area   \n",
       "2                  Shared Flat            Mid-class area   \n",
       "3  Neither. I do not pay rents        I do not pay rents   \n",
       "4  Neither. I do not pay rents             Low brow area   \n",
       "\n",
       "  Cost of your accommodation per month  \\\n",
       "0                                80000   \n",
       "1                                35000   \n",
       "2                                R3500   \n",
       "3                                  NaN   \n",
       "4                                  N/A   \n",
       "\n",
       "  Do you think accommodation prices are generally high in your State of residence for young adults?  \n",
       "0                                                Yes                                                 \n",
       "1                                                Yes                                                 \n",
       "2                                                Yes                                                 \n",
       "3                                                Yes                                                 \n",
       "4                                                Yes                                                 "
      ]
     },
     "execution_count": 194,
     "metadata": {},
     "output_type": "execute_result"
    }
   ],
   "source": [
    "#The timestamp column is not needed in our analysis. This column will be dropped\n",
    "data = data.drop('Timestamp', axis=1)\n",
    "data.head()"
   ]
  },
  {
   "cell_type": "code",
   "execution_count": 195,
   "metadata": {},
   "outputs": [],
   "source": [
    "#As this project is targeted towards young adults who are footing their accomodation bills.\n",
    "#We drop rows of people who do not foot their accomodation bills\n",
    "data = data.loc[data['Do you foot your accommodation bills?'] != 'No']\n"
   ]
  },
  {
   "cell_type": "code",
   "execution_count": 196,
   "metadata": {},
   "outputs": [],
   "source": [
    "#the subset of people who pay their rents with roommates\n",
    "half_rent = data.loc[data['Do you foot your accommodation bills?'] == 'Not completely']"
   ]
  },
  {
   "cell_type": "code",
   "execution_count": 197,
   "metadata": {},
   "outputs": [],
   "source": [
    "#the subset of people who pay their rents themselves completely\n",
    "complete_rent = data.loc[data['Do you foot your accommodation bills?'] == 'Yes']"
   ]
  },
  {
   "cell_type": "code",
   "execution_count": 198,
   "metadata": {},
   "outputs": [
    {
     "data": {
      "text/plain": [
       "Naira               36\n",
       "Kenyan Shillings     2\n",
       "Rand                 1\n",
       "Name: Currency, dtype: int64"
      ]
     },
     "execution_count": 198,
     "metadata": {},
     "output_type": "execute_result"
    }
   ],
   "source": [
    "#due to the economy differences we will split the analysis into subsets depending on the currency they earn in\n",
    "complete_rent['Currency'] = complete_rent['Currency'].replace({'Naira ':'Naira', ' Naira':'Naira', 'NAIRA':'Naira', 'Naira, Dollars':'Naira'})\n",
    "complete_rent['Currency'].value_counts()"
   ]
  },
  {
   "cell_type": "code",
   "execution_count": 199,
   "metadata": {},
   "outputs": [],
   "source": [
    "#As the data from people who earn in Kenyan Shillings and Rand is very little. \n",
    "#We can not draw suitable conclusions from so little data\n",
    "#We will only concern ourselves with those who earn in Naira"
   ]
  },
  {
   "cell_type": "code",
   "execution_count": 200,
   "metadata": {},
   "outputs": [],
   "source": [
    "naira_complete_rent = complete_rent.loc[complete_rent['Currency'] == 'Naira']\n"
   ]
  },
  {
   "cell_type": "code",
   "execution_count": 201,
   "metadata": {},
   "outputs": [],
   "source": [
    "#cleaning the location to be of accepted format\n",
    "naira_complete_rent['State/Province'] = naira_complete_rent['State/Province'].replace({'FCT Abuja':'Abuja', 'FCT':'Abuja', 'FEDERAL CAPITAL TERRITORY, ABUJA':'Abuja', 'LAGOS':'Lagos', 'OYO':'Oyo', 'Oyo state':'Oyo'})\n"
   ]
  },
  {
   "cell_type": "code",
   "execution_count": 202,
   "metadata": {},
   "outputs": [
    {
     "data": {
      "text/plain": [
       "Self-contained      17\n",
       "Mini Flat            5\n",
       "Shared Flat          5\n",
       "Full Flat            4\n",
       "Studio apartment     3\n",
       "Single room          1\n",
       "Shared Duplex        1\n",
       "Name: Accommodation Rented, dtype: int64"
      ]
     },
     "execution_count": 202,
     "metadata": {},
     "output_type": "execute_result"
    }
   ],
   "source": [
    "naira_complete_rent['Accommodation Rented'].value_counts()\n",
    "#The most type of accomodation is Self-contained, Mini Flats and Shared Flats are common also. "
   ]
  },
  {
   "cell_type": "code",
   "execution_count": 203,
   "metadata": {},
   "outputs": [
    {
     "data": {
      "image/png": "[encoded data removed]",
      "text/plain": [
       "<Figure size 432x288 with 1 Axes>"
      ]
     },
     "metadata": {
      "needs_background": "light"
     },
     "output_type": "display_data"
    }
   ],
   "source": [
    "sns.countplot(x='Accommodation Rented', data=naira_complete_rent)\n",
    "plt.title('Types of Accommodation Rented')\n",
    "plt.xticks(rotation=90)\n",
    "plt.show()"
   ]
  },
  {
   "cell_type": "code",
   "execution_count": 204,
   "metadata": {},
   "outputs": [
    {
     "data": {
      "text/plain": [
       "80000     4\n",
       "20000     3\n",
       "100000    3\n",
       "0         3\n",
       "200000    3\n",
       "40000     2\n",
       "50000     2\n",
       "30000     2\n",
       "500000    2\n",
       "150000    2\n",
       "800000    1\n",
       "190000    1\n",
       "70000     1\n",
       "103000    1\n",
       "145000    1\n",
       "4000      1\n",
       "143000    1\n",
       "450000    1\n",
       "60000     1\n",
       "62000     1\n",
       "Name: Monthly Salary in the currency you mentioned above, dtype: int64"
      ]
     },
     "execution_count": 204,
     "metadata": {},
     "output_type": "execute_result"
    }
   ],
   "source": [
    "naira_complete_rent['Monthly Salary in the currency you mentioned above'].value_counts()\n",
    "# the monthly salary range is 0-800,000 Naira"
   ]
  },
  {
   "cell_type": "code",
   "execution_count": 205,
   "metadata": {},
   "outputs": [
    {
     "data": {
      "text/plain": [
       "Mid-class area    26\n",
       "Low brow area      8\n",
       "High brow area     2\n",
       "Name: Location of accommodation, dtype: int64"
      ]
     },
     "execution_count": 205,
     "metadata": {},
     "output_type": "execute_result"
    }
   ],
   "source": [
    "naira_complete_rent['Location of accommodation'].value_counts()\n",
    "#Over 70% of the respondents live in Mid-class areas"
   ]
  },
  {
   "cell_type": "code",
   "execution_count": 206,
   "metadata": {},
   "outputs": [
    {
     "data": {
      "image/png": "[encoded data removed]",
      "text/plain": [
       "<Figure size 432x288 with 1 Axes>"
      ]
     },
     "metadata": {
      "needs_background": "light"
     },
     "output_type": "display_data"
    }
   ],
   "source": [
    "sns.countplot(x='Location of accommodation', data=naira_complete_rent)\n",
    "plt.title('Locations of Accommodations')\n",
    "plt.show()"
   ]
  },
  {
   "cell_type": "code",
   "execution_count": 208,
   "metadata": {},
   "outputs": [],
   "source": [
    "#the Cost of accomodation per month will have to be cleaned as some rows contain strings, commas, and spaces\n",
    "import re\n",
    "naira_complete_rent['Cost of your accommodation per month'] = naira_complete_rent['Cost of your accommodation per month'].apply(lambda x: re.sub(r'[a-z\\s,#]+', '', x))\n"
   ]
  },
  {
   "cell_type": "code",
   "execution_count": 209,
   "metadata": {},
   "outputs": [],
   "source": [
    "#convert the Cost of your accommodation per month column to integer\n",
    "naira_complete_rent['Cost of your accommodation per month'] = naira_complete_rent['Cost of your accommodation per month'].astype('int')"
   ]
  },
  {
   "cell_type": "code",
   "execution_count": 210,
   "metadata": {},
   "outputs": [],
   "source": [
    "#The numbers 15 and 45 will be dropped as they are disrepancies in our data set \n",
    "naira_complete_rent = naira_complete_rent[~naira_complete_rent['Cost of your accommodation per month'].isin([45, 15])]"
   ]
  },
  {
   "cell_type": "code",
   "execution_count": 211,
   "metadata": {},
   "outputs": [
    {
     "data": {
      "text/plain": [
       "5000      3\n",
       "25000     3\n",
       "17000     2\n",
       "15000     2\n",
       "10000     2\n",
       "12000     1\n",
       "300000    1\n",
       "33333     1\n",
       "2500      1\n",
       "3333      1\n",
       "6250      1\n",
       "40000     1\n",
       "23000     1\n",
       "55000     1\n",
       "120000    1\n",
       "20833     1\n",
       "20000     1\n",
       "60000     1\n",
       "167000    1\n",
       "6500      1\n",
       "1000      1\n",
       "180000    1\n",
       "700000    1\n",
       "22000     1\n",
       "30000     1\n",
       "35000     1\n",
       "80000     1\n",
       "Name: Cost of your accommodation per month, dtype: int64"
      ]
     },
     "execution_count": 211,
     "metadata": {},
     "output_type": "execute_result"
    }
   ],
   "source": [
    "naira_complete_rent['Cost of your accommodation per month'].value_counts()\n",
    "#The range of accommodation cost per month is 2500 - 700,000"
   ]
  },
  {
   "cell_type": "code",
   "execution_count": 212,
   "metadata": {},
   "outputs": [],
   "source": [
    "#create a new column that shows the percent of income spent on accommodation\n",
    "naira_complete_rent['percent_accommodation_income'] = naira_complete_rent['Cost of your accommodation per month']/naira_complete_rent['Monthly Salary in the currency you mentioned above']"
   ]
  },
  {
   "cell_type": "code",
   "execution_count": 213,
   "metadata": {},
   "outputs": [
    {
     "data": {
      "text/html": [
       "<div>\n",
       "<style scoped>\n",
       "    .dataframe tbody tr th:only-of-type {\n",
       "        vertical-align: middle;\n",
       "    }\n",
       "\n",
       "    .dataframe tbody tr th {\n",
       "        vertical-align: top;\n",
       "    }\n",
       "\n",
       "    .dataframe thead th {\n",
       "        text-align: right;\n",
       "    }\n",
       "</style>\n",
       "<table border=\"1\" class=\"dataframe\">\n",
       "  <thead>\n",
       "    <tr style=\"text-align: right;\">\n",
       "      <th></th>\n",
       "      <th>Age</th>\n",
       "      <th>Gender</th>\n",
       "      <th>Maximum Level of Education</th>\n",
       "      <th>Country</th>\n",
       "      <th>State/Province</th>\n",
       "      <th>Based on your answer above, how industrious is your State of residence?</th>\n",
       "      <th>Currency</th>\n",
       "      <th>Monthly Salary in the currency you mentioned above</th>\n",
       "      <th>Career Industry</th>\n",
       "      <th>Years of working experience</th>\n",
       "      <th>Do you foot your accommodation bills?</th>\n",
       "      <th>If you selected \"Not completely\", what fraction of the rent do you pay?</th>\n",
       "      <th>Accommodation Rented</th>\n",
       "      <th>Location of accommodation</th>\n",
       "      <th>Cost of your accommodation per month</th>\n",
       "      <th>Do you think accommodation prices are generally high in your State of residence for young adults?</th>\n",
       "      <th>percent_accommodation_income</th>\n",
       "    </tr>\n",
       "  </thead>\n",
       "  <tbody>\n",
       "    <tr>\n",
       "      <th>0</th>\n",
       "      <td>24</td>\n",
       "      <td>Male</td>\n",
       "      <td>Bachelor's Degree/Equivalent</td>\n",
       "      <td>Nigeria</td>\n",
       "      <td>Lagos</td>\n",
       "      <td>Industrious</td>\n",
       "      <td>Naira</td>\n",
       "      <td>150000</td>\n",
       "      <td>Accounting &amp; Tech</td>\n",
       "      <td>1.0</td>\n",
       "      <td>Yes</td>\n",
       "      <td>NaN</td>\n",
       "      <td>Full Flat</td>\n",
       "      <td>Mid-class area</td>\n",
       "      <td>80000</td>\n",
       "      <td>Yes</td>\n",
       "      <td>0.533333</td>\n",
       "    </tr>\n",
       "    <tr>\n",
       "      <th>9</th>\n",
       "      <td>27</td>\n",
       "      <td>Male</td>\n",
       "      <td>Bachelor's Degree/Equivalent</td>\n",
       "      <td>Nigeria</td>\n",
       "      <td>Delta</td>\n",
       "      <td>Industrious</td>\n",
       "      <td>Naira</td>\n",
       "      <td>145000</td>\n",
       "      <td>Engineering</td>\n",
       "      <td>3.0</td>\n",
       "      <td>Yes</td>\n",
       "      <td>NaN</td>\n",
       "      <td>Full Flat</td>\n",
       "      <td>Low brow area</td>\n",
       "      <td>20000</td>\n",
       "      <td>Yes</td>\n",
       "      <td>0.137931</td>\n",
       "    </tr>\n",
       "    <tr>\n",
       "      <th>14</th>\n",
       "      <td>23</td>\n",
       "      <td>Male</td>\n",
       "      <td>Bachelor's Degree/Equivalent</td>\n",
       "      <td>NIGERIA</td>\n",
       "      <td>OSUN</td>\n",
       "      <td>Non-Industrious</td>\n",
       "      <td>Naira</td>\n",
       "      <td>50000</td>\n",
       "      <td>AGRICULTURE</td>\n",
       "      <td>2.0</td>\n",
       "      <td>Yes</td>\n",
       "      <td>NaN</td>\n",
       "      <td>Shared Flat</td>\n",
       "      <td>Low brow area</td>\n",
       "      <td>6500</td>\n",
       "      <td>Yes</td>\n",
       "      <td>0.130000</td>\n",
       "    </tr>\n",
       "    <tr>\n",
       "      <th>15</th>\n",
       "      <td>28</td>\n",
       "      <td>Female</td>\n",
       "      <td>Master's Degree</td>\n",
       "      <td>Nigeria</td>\n",
       "      <td>Abuja</td>\n",
       "      <td>Industrious</td>\n",
       "      <td>Naira</td>\n",
       "      <td>500000</td>\n",
       "      <td>Consulting</td>\n",
       "      <td>2.0</td>\n",
       "      <td>Yes</td>\n",
       "      <td>NaN</td>\n",
       "      <td>Studio apartment</td>\n",
       "      <td>Mid-class area</td>\n",
       "      <td>55000</td>\n",
       "      <td>Yes</td>\n",
       "      <td>0.110000</td>\n",
       "    </tr>\n",
       "    <tr>\n",
       "      <th>16</th>\n",
       "      <td>29</td>\n",
       "      <td>Male</td>\n",
       "      <td>Bachelor's Degree/Equivalent</td>\n",
       "      <td>Nigeria</td>\n",
       "      <td>Lagos</td>\n",
       "      <td>Most industrious in the country</td>\n",
       "      <td>Naira</td>\n",
       "      <td>80000</td>\n",
       "      <td>Development</td>\n",
       "      <td>3.0</td>\n",
       "      <td>Yes</td>\n",
       "      <td>NaN</td>\n",
       "      <td>Self-contained</td>\n",
       "      <td>Low brow area</td>\n",
       "      <td>15000</td>\n",
       "      <td>Yes</td>\n",
       "      <td>0.187500</td>\n",
       "    </tr>\n",
       "  </tbody>\n",
       "</table>\n",
       "</div>"
      ],
      "text/plain": [
       "    Age  Gender    Maximum Level of Education   Country State/Province  \\\n",
       "0    24    Male  Bachelor's Degree/Equivalent   Nigeria          Lagos   \n",
       "9    27    Male  Bachelor's Degree/Equivalent  Nigeria           Delta   \n",
       "14   23    Male  Bachelor's Degree/Equivalent   NIGERIA           OSUN   \n",
       "15   28  Female               Master's Degree   Nigeria          Abuja   \n",
       "16   29    Male  Bachelor's Degree/Equivalent  Nigeria           Lagos   \n",
       "\n",
       "   Based on your answer above, how industrious is your State of residence?  \\\n",
       "0                                         Industrious                        \n",
       "9                                         Industrious                        \n",
       "14                                    Non-Industrious                        \n",
       "15                                        Industrious                        \n",
       "16                    Most industrious in the country                        \n",
       "\n",
       "   Currency  Monthly Salary in the currency you mentioned above  \\\n",
       "0     Naira                                             150000    \n",
       "9     Naira                                             145000    \n",
       "14    Naira                                              50000    \n",
       "15    Naira                                             500000    \n",
       "16    Naira                                              80000    \n",
       "\n",
       "      Career Industry  Years of working experience  \\\n",
       "0   Accounting & Tech                          1.0   \n",
       "9        Engineering                           3.0   \n",
       "14        AGRICULTURE                          2.0   \n",
       "15        Consulting                           2.0   \n",
       "16        Development                          3.0   \n",
       "\n",
       "   Do you foot your accommodation bills?  \\\n",
       "0                                    Yes   \n",
       "9                                    Yes   \n",
       "14                                   Yes   \n",
       "15                                   Yes   \n",
       "16                                   Yes   \n",
       "\n",
       "   If you selected \"Not completely\", what fraction of the rent do you pay?  \\\n",
       "0                                                 NaN                        \n",
       "9                                                 NaN                        \n",
       "14                                                NaN                        \n",
       "15                                                NaN                        \n",
       "16                                                NaN                        \n",
       "\n",
       "   Accommodation Rented Location of accommodation  \\\n",
       "0             Full Flat            Mid-class area   \n",
       "9             Full Flat             Low brow area   \n",
       "14          Shared Flat             Low brow area   \n",
       "15     Studio apartment            Mid-class area   \n",
       "16       Self-contained             Low brow area   \n",
       "\n",
       "    Cost of your accommodation per month  \\\n",
       "0                                  80000   \n",
       "9                                  20000   \n",
       "14                                  6500   \n",
       "15                                 55000   \n",
       "16                                 15000   \n",
       "\n",
       "   Do you think accommodation prices are generally high in your State of residence for young adults?  \\\n",
       "0                                                 Yes                                                  \n",
       "9                                                 Yes                                                  \n",
       "14                                                Yes                                                  \n",
       "15                                                Yes                                                  \n",
       "16                                                Yes                                                  \n",
       "\n",
       "    percent_accommodation_income  \n",
       "0                       0.533333  \n",
       "9                       0.137931  \n",
       "14                      0.130000  \n",
       "15                      0.110000  \n",
       "16                      0.187500  "
      ]
     },
     "execution_count": 213,
     "metadata": {},
     "output_type": "execute_result"
    }
   ],
   "source": [
    "naira_complete_rent.head()"
   ]
  },
  {
   "cell_type": "code",
   "execution_count": 214,
   "metadata": {},
   "outputs": [],
   "source": [
    "#divide the dataset into 4 groups baseed on percent of income spent on accommodation \n",
    "labels = ['low', 'medium', 'high', 'very high']\n",
    "bins = [0.0, 0.25, 0.50, 0.75, 1.0]\n",
    "naira_complete_rent['rent_category'] = pd.cut(naira_complete_rent['percent_accommodation_income'], bins=bins, labels=labels)"
   ]
  },
  {
   "cell_type": "code",
   "execution_count": 215,
   "metadata": {},
   "outputs": [
    {
     "data": {
      "text/plain": [
       "low          18\n",
       "medium        5\n",
       "high          1\n",
       "very high     0\n",
       "Name: rent_category, dtype: int64"
      ]
     },
     "execution_count": 215,
     "metadata": {},
     "output_type": "execute_result"
    }
   ],
   "source": [
    "naira_complete_rent['rent_category'].value_counts()\n",
    "#75% of our responses spend between 1-25% of their incomes on accommodation\n",
    "#21% of our responses spend between 26-50% of their incomes on accommodation"
   ]
  },
  {
   "cell_type": "code",
   "execution_count": 224,
   "metadata": {},
   "outputs": [
    {
     "data": {
      "image/png": "[encoded data removed]",
      "text/plain": [
       "<Figure size 432x288 with 1 Axes>"
      ]
     },
     "metadata": {
      "needs_background": "light"
     },
     "output_type": "display_data"
    }
   ],
   "source": [
    "rent_and_area_of_accommodation = pd.crosstab(naira_complete_rent['rent_category'], naira_complete_rent['Location of accommodation'])\n",
    "rent_and_area_of_accommodation.plot(kind='bar')\n",
    "plt.title('Rent_Percent_Category vs Location of Accomodation')\n",
    "plt.show()"
   ]
  },
  {
   "cell_type": "code",
   "execution_count": 225,
   "metadata": {},
   "outputs": [
    {
     "data": {
      "image/png": "[encoded data removed]",
      "text/plain": [
       "<Figure size 432x288 with 1 Axes>"
      ]
     },
     "metadata": {
      "needs_background": "light"
     },
     "output_type": "display_data"
    }
   ],
   "source": [
    "rent_and_type_of_accommodation = pd.crosstab(naira_complete_rent['rent_category'], naira_complete_rent['Accommodation Rented'])\n",
    "rent_and_type_of_accommodation.plot(kind='bar')\n",
    "plt.title('Rent_Percent_Category vs Accomodation Type')\n",
    "plt.show()"
   ]
  },
  {
   "cell_type": "code",
   "execution_count": 226,
   "metadata": {},
   "outputs": [
    {
     "data": {
      "image/png": "[encoded data removed]",
      "text/plain": [
       "<Figure size 432x288 with 1 Axes>"
      ]
     },
     "metadata": {
      "needs_background": "light"
     },
     "output_type": "display_data"
    }
   ],
   "source": [
    "rent_and_state = pd.crosstab(naira_complete_rent['rent_category'], naira_complete_rent['State/Province'])\n",
    "rent_and_state.plot(kind='bar')\n",
    "plt.title('Rent_Percent_Category vs State/Province')\n",
    "plt.show()"
   ]
  },
  {
   "cell_type": "code",
   "execution_count": 227,
   "metadata": {},
   "outputs": [
    {
     "data": {
      "image/png": "[encoded data removed]",
      "text/plain": [
       "<Figure size 432x288 with 1 Axes>"
      ]
     },
     "metadata": {
      "needs_background": "light"
     },
     "output_type": "display_data"
    }
   ],
   "source": [
    "rent_and_gender = pd.crosstab(naira_complete_rent['rent_category'], naira_complete_rent['Gender'])\n",
    "rent_and_gender.plot(kind='bar')\n",
    "plt.title('Rent_Percent_Category vs Gender')\n",
    "plt.show()"
   ]
  },
  {
   "cell_type": "code",
   "execution_count": 229,
   "metadata": {},
   "outputs": [
    {
     "data": {
      "image/png": "[encoded data removed]",
      "text/plain": [
       "<Figure size 432x288 with 1 Axes>"
      ]
     },
     "metadata": {
      "needs_background": "light"
     },
     "output_type": "display_data"
    }
   ],
   "source": [
    "rent_and_age = pd.crosstab(naira_complete_rent['rent_category'], naira_complete_rent['Age'])\n",
    "rent_and_age.plot(kind='bar')\n",
    "plt.title('Rent_Percent_Category vs Age')\n",
    "plt.show()"
   ]
  },
  {
   "cell_type": "code",
   "execution_count": 230,
   "metadata": {},
   "outputs": [
    {
     "data": {
      "image/png": "[encoded data removed]",
      "text/plain": [
       "<Figure size 432x288 with 1 Axes>"
      ]
     },
     "metadata": {
      "needs_background": "light"
     },
     "output_type": "display_data"
    }
   ],
   "source": [
    "rent_and_education = pd.crosstab(naira_complete_rent['rent_category'], naira_complete_rent['Maximum Level of Education'])\n",
    "rent_and_education.plot(kind='bar')\n",
    "plt.title('Rent_Percent_Category vs Level of Education')\n",
    "plt.show()"
   ]
  },
  {
   "cell_type": "markdown",
   "metadata": {},
   "source": [
    "### Conclusion"
   ]
  },
  {
   "cell_type": "markdown",
   "metadata": {},
   "source": [
    "This analysis focused mostly on young adults who completely pay their rents and earn in Naira. \n",
    "\n",
    "75% of people in this category spend about 25% of their monthly earnings on acoommodation. \n",
    "\n",
    "Most of these accommodations are located in Mid-Class Areas.\n",
    "\n",
    "Self-contained type houses are the also the most common.\n",
    "\n",
    "Most of the people in this category fall between the ages of 23-29, with Bachelor's Degree/Equivalent education levels.\n"
   ]
  }
 ],
 "metadata": {
  "kernelspec": {
   "display_name": "Python 3",
   "language": "python",
   "name": "python3"
  },
  "language_info": {
   "codemirror_mode": {
    "name": "ipython",
    "version": 3
   },
   "file_extension": ".py",
   "mimetype": "text/x-python",
   "name": "python",
   "nbconvert_exporter": "python",
   "pygments_lexer": "ipython3",
   "version": "3.7.3"
  }
 },
 "nbformat": 4,
 "nbformat_minor": 4
}
