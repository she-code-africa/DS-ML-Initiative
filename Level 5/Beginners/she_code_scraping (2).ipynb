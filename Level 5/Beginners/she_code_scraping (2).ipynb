{
  "nbformat": 4,
  "nbformat_minor": 0,
  "metadata": {
    "colab": {
      "name": "she_code_scraping.ipynb",
      "provenance": [],
      "collapsed_sections": []
    },
    "kernelspec": {
      "name": "python3",
      "display_name": "Python 3"
    },
    "language_info": {
      "name": "python"
    }
  },
  "cells": [
    {
      "cell_type": "markdown",
      "source": [
        "Web scraping of website using BeautifulSoup\n",
        "\n",
        "\n",
        "Newegg: This is an eCommerce website, you are to choose any product category, scrape and save the product name, price, shipping type/price, volume discounts "
      ],
      "metadata": {
        "id": "GyucgitxXiIx"
      }
    },
    {
      "cell_type": "code",
      "execution_count": 1,
      "metadata": {
        "id": "CCoCu7bpA8DU"
      },
      "outputs": [],
      "source": [
        "import pandas as pd\n",
        "import numpy as np\n",
        "from bs4 import BeautifulSoup\n",
        "from urllib.request import Request, urlopen"
      ]
    },
    {
      "cell_type": "code",
      "source": [
        "req = Request(\"https://www.newegg.com/p/pl?d=graphic+card\", headers={'User-Agent':'Mozilla/5.0'})\n",
        "\n",
        "webpage = urlopen(req).read()"
      ],
      "metadata": {
        "id": "6EDgm4J1BNKs"
      },
      "execution_count": 2,
      "outputs": []
    },
    {
      "cell_type": "code",
      "source": [
        "SOUP = BeautifulSoup(webpage, 'html')"
      ],
      "metadata": {
        "id": "xAfZidfWBTfV"
      },
      "execution_count": 3,
      "outputs": []
    },
    {
      "cell_type": "markdown",
      "source": [
        "Items name"
      ],
      "metadata": {
        "id": "QtPsB7gMYYIx"
      }
    },
    {
      "cell_type": "code",
      "source": [
        "name_html = [i for i in SOUP.find_all('a',class_=\"item-title\")]"
      ],
      "metadata": {
        "id": "fyandMOKBWlT"
      },
      "execution_count": 4,
      "outputs": []
    },
    {
      "cell_type": "code",
      "source": [
        "Name = list()"
      ],
      "metadata": {
        "id": "WhKQjZpoBZhQ"
      },
      "execution_count": 5,
      "outputs": []
    },
    {
      "cell_type": "code",
      "source": [
        "for i in range(len(name_html)):\n",
        "  Name.append(name_html[i].text)"
      ],
      "metadata": {
        "id": "DqUdxvPQBcVl"
      },
      "execution_count": 6,
      "outputs": []
    },
    {
      "cell_type": "code",
      "source": [
        "print(Name)"
      ],
      "metadata": {
        "colab": {
          "base_uri": "https://localhost:8080/"
        },
        "id": "PaxNscKvBfDH",
        "outputId": "98151671-07dd-4558-b273-6247398f34d5"
      },
      "execution_count": 7,
      "outputs": [
        {
          "output_type": "stream",
          "name": "stdout",
          "text": [
            "['Yeston Nvidia GeForce GTX 1050 Ti Graphics Card(FAST SHIPPING 7-9 DAYS), 4GB 128-Bit GDDR5 PCI Express 3.0 x16 , DVI-D/HDMI/DP Tri-Ports, G-Sync, GPU Boost, DirectX 12, Gaming GPU, Desktop Video Card', 'Yeston Radeon RX6700XT 12GB D6 GDDR6 192bit 7nm Desktop computer PC Video Graphics Cards support PCI-Express 4.0 3*DP+1*HDMI-compatible   RGB light effect Fragrant graphics card', 'Yeston Radeon RX6800XT 16GB D6 GDDR6 256bit 7nm Desktop computer PC Video Graphics Cards support PCI-Express 4.0 2*DP+1*HDMI-compatible +1*Type c  RGB light effect Fragrant graphics card', 'Yeston Radeon RX6800 16GB D6 GDDR6 256bit 7nm Desktop computer PC Video Graphics Cards support PCI-Express 4.0 3*DP+1*HDMI-compatible graphics card', 'GIGABYTE A520M S2H mATX AM4 4+3 Phases Digital PWM, GIGABYTE Gaming GbE LAN, NVMe PCIe 3.0 x4 M.2, 3 Display Interfaces, Q-Flash Plus, RGB Fusion 2.0, Motherboard', 'GIGABYTE GeForce RTX 3060 EAGLE 12G Graphics Card, 2 x WINDFORCE Fans, 12GB 192-bit GDDR6, GV-N3060EAGLE OC-12GD (rev. 2.0) (LHR) Video Card', 'ASUS GeForce RTX 2060 Overclocked 6G GDDR6 Dual-Fan EVO Edition VR Ready HDMI DisplayPort DVI Graphics Card (DUAL-RTX2060-O6G-EVO)', 'ASUS TUF Gaming NVIDIA GeForce RTX 3080 V2 OC Edition Graphics Card (PCIe 4.0, 10GB GDDR6X, LHR, HDMI 2.1, DisplayPort 1.4a, Dual Ball Fan Bearings, Military-grade Certification, GPU Tweak II)', 'MSI Ventus GeForce GTX 1650 4GB GDDR5 PCI Express 3.0 x16 Video Card GTX 1650 VENTUS XS 4G OC', 'ABS Master Gaming PC - Windows 10 Home - Intel i7 11700F - GeForce RTX 3060 Ti - 16GB DDR4 3000MHz - 1TB M.2 NVMe SSD', 'ABS Master Gaming PC - Windows 10 Home - Intel i5 11400F - GeForce RTX 3060 - 16GB DDR4 3000MHz - 512GB M.2 NVMe SSD', 'ABS Master Gaming PC - Windows 10 Home - Intel i5 10400F - GeForce RTX 2060 - 16GB DDR4 - 512GB SSD', 'ABS Master Gaming PC - Windows 10 Home - Intel i5 11400F - GeForce RTX 2060 - 16GB DDR4 3000MHz - 512GB Intel M.2 NVMe SSD', 'ABS Gladiator Gaming PC - Windows 10 Home - Intel i9 11900KF - GeForce RTX 3080 - G.Skill TridentZ RGB 16GB DDR4 3200 MHz - 1TB Intel M.2 NVMe SSD', 'GIGABYTE Geforce RTX 2060 6G Graphics Card, 2 x WINDFORCE Fans, 6GB 192-Bit GDDR, GV-N2060D6-6GD Video Card', 'GIGABYTE GeForce GTX 1650 OC 4G Graphics Card, 2 x WINDFORCE Fans, 4GB 128-Bit GDDR5, GV-N1650OC-4GD Video Card', 'GIGABYTE Geforce RTX 2060 OC 6G Graphics Card, 2 x WINDFORCE Fans, 6GB 192-Bit GDDR6, GV-N2060OC-6GD Video Card', 'Graphics Card HD6770 4G DDR5 High Definition Desktop Computer Graphics Card Game Discrete Graphics Card', 'ABS Challenger Gaming PC - Windows 10 Home - Intel i5 10400F - EVGA GTX 1660 Ti XC Ultra - 16GB DDR4 3000MHz - 512GB Intel M.2 NVMe SSD', 'ABS Gladiator Gaming PC - Windows 10 Home - Intel i7 11700KF - GeForce RTX 3070 - G.Skill TridentZ RGB 16 GB DDR4 3200MHz - 1TB Intel M.2 NVMe SSD', 'ABS Master Gaming PC - Windows 10 Home - Intel i5 10400F - GeForce RTX 3060 12GB - 16GB DDR4 3000MHz - 512GB SSD', 'ABS Master Gaming PC - Windows 10 Home - Intel i5 10400F - ASUS Dual GeForce RTX 3060 Ti 8GB - G.Skill Ripjaw V 16GB DDR4 3200MHz - 512GB Intel 660P M.2 NVMe SSD', 'Biostar Gaming Radeon RX 550 4GB GDDR5 128-Bit DirectX 12 PCI Express 3.0 DVI-D Dual Link, HDMI, DisplayPort', 'LISM Graphic Card  GTX 750ti 4GB GDDR5 128-Bit for PC Desktop Gaming Discrete Video Card for PC', 'Alchemy 3 x 8PCIe Aluminum Comb Extension Cable Kit - White', 'LISM GeForce GTX550Ti 6GB GDDR5 192bit/ PCI Express 2.0 x11 Standard ATX Office Video Card HDMI+DVI+VGA(limited edition)', 'ABS Master Gaming PC - Windows 10 Home - Intel i5 10400F - ASUS TUF GeForce RTX 3060 - 16GB DDR4 3000MHz - 512GB M.2 NVMe SSD', 'ABS Master Gaming PC - Windows 10 Home - Intel i5 11400F - GeForce RTX 3060 Ti 8GB - 16GB DDR4 3000MHz - 1TB Intel M.2 NVMe SSD', 'GIGABYTE Radeon RX 6600 EAGLE 8G Graphics Card, WINDFORCE 3X Cooling System, 8GB 128-bit GDDR6, GV-R66EAGLE-8GD Video Card', 'ABS Master Gaming PC - Windows 10 Home - Intel i5 10400F - GeForce RTX 3060 Ti - 16GB DDR4 3000MHz - 512GB M.2 NVMe SSD', 'ABS Master Gaming PC - Windows 10 Home - Intel i7 10700F - GeForce RTX 2060 - 16GB DDR4 3000MHz - 512GB Intel M.2 NVMe SSD', 'ABS Gladiator Gaming PC - Windows 10 Home - Intel i7 11700F - GeForce RTX 3080 - G.Skill TridentZ RGB 16GB DDR4 3200 MHz - 1TB M.2 NVMe SSD', 'ABS Master Gaming PC - Windows 10 Home - AMD Ryzen 5 5600x - GeForce RTX 3060 - 16GB DDR4 3000MHz - 512GB Intel NVMe SSD', 'ABS Gladiator Gaming PC - Windows 10 Home - Intel i7 11700F - GeForce RTX 3070 - 16GB DDR4 3000MHz - 1TB M.2 NVMe SSD', 'ABS Challenger Gaming PC - Windows 10 Home - Intel i5 10400F - GeForce GTX 1650 - 16GB DDR4 3000MHz - 512GB M.2 NVMe SSD', 'ABS Master Gaming PC - Windows 10 Home - Intel i9 11900KB Beast Canyon NUC - Asus GeForce RTX 3060 - G.Skill Ripjaws 16GB (2x8GB) DDR4 3200MHz - Intel 1TB M.2 NVMe SSD', 'ABS Gladiator Gaming PC - Windows 10 Home - Ryzen 7 5800X - Radeon RX 6800 - G.Skill TridentZ RGB 32GB DDR4 3200MHz - 1TB Gigabyte AORUS Gen4 M.2 NVMe SSD - EVGA CLC 280MM RGB AIO', 'ABS Challenger Gaming PC - Windows 10 Home - Intel i5 11400F - GeForce GTX 1660 Super - 16GB DDR4 3000MHz - 512GB M.2 NVMe SSD', 'ABS Master Gaming PC - Windows 10 Home - AMD Ryzen 5 5600G - Radeon RX 6600 - 16GB DDR4 3000MHz - 1TB M.2 NVMe SSD', 'ABS Gladiator Gaming PC - Windows 10 Home - Intel i5 11400F - GeForce RTX 3070 - 16GB DDR4 3000MHz - 1TB M.2 NVMe SSD', 'ABS Master Gaming PC - Windows 10 Home - Intel i7 10700F - GeForce RTX 3060 - 16GB DDR4 3000MHz - 1TB Intel M.2 NVMe SSD - EVGA XR1 Capture Device', 'ABS ROG Gundam Limited Edition Gaming PC - Windows 10 Home - Intel i7 11700K - STRIX Gundam GeForce RTX 3080 - G.Skill 32GB 3200MHz - 1TB Intel M.2 - STRIX 360mm AIO', 'ABS Gladiator Gaming PC - Windows 11 Pro - Intel i7 11700F - GeForce RTX 3070 - 16GB DDR4 3000MHz - 1TB M.2 NVMe SSD', 'ABS Master Gaming PC - Intel i5 11400F - GeForce RTX 2060 - 16GB DDR4 - 512GB Intel NVMe SSD', 'ABS Legend Gaming PC - Windows 10 Home - Intel i9 11900KF - GeForce RTX 3080 Ti - G.Skill TridentZ RGB 16GB DDR4 3200 MHz - 1TB Intel M.2 NVMe SSD', 'ABS Gladiator Gaming PC - Windows 10 Home - Intel i7 11700KF - GIGABYTE GAMING OC GeForce RTX 3070 8GB - G.Skill TridentZ RGB 16GB DDR4 3200MHz - 1TB Intel M.2 NVMe SSD - EVGA CLC 280MM RGB AIO', 'GIGABYTE GeForce RTX 3060 VISION OC 12G Graphics Card, 3 x WINDFORCE Fans, 12GB 192-bit GDDR6, GV-N3060VISION OC-12GD Video Card', 'XFX SPEEDSTER SWFT 210 Radeon RX 6600 8GB GDDR6 PCI Express 4.0 ATX Video Card RX-66XL8LFDQ']\n"
          ]
        }
      ]
    },
    {
      "cell_type": "markdown",
      "source": [
        "Current price"
      ],
      "metadata": {
        "id": "FfZZlZYSYixj"
      }
    },
    {
      "cell_type": "code",
      "source": [
        "price_html = [i for i in SOUP.find_all('li',class_=\"price-current\")]"
      ],
      "metadata": {
        "id": "NX9Ts4R5Birj"
      },
      "execution_count": 8,
      "outputs": []
    },
    {
      "cell_type": "code",
      "source": [
        "Price = list()\n",
        "\n",
        "for i in range(len(price_html)):\n",
        "  Price.append(price_html[i].text)"
      ],
      "metadata": {
        "id": "gUK6oUBzBniV"
      },
      "execution_count": 9,
      "outputs": []
    },
    {
      "cell_type": "code",
      "source": [
        "print(Price)"
      ],
      "metadata": {
        "colab": {
          "base_uri": "https://localhost:8080/"
        },
        "id": "ir0YnYFuBqes",
        "outputId": "ac5e325f-027f-45e1-f364-0d066f38f5db"
      },
      "execution_count": 10,
      "outputs": [
        {
          "output_type": "stream",
          "name": "stdout",
          "text": [
            "['$289.00\\xa0–', '$1,099.00\\xa0–', '$1,569.00\\xa0–', '$1,429.00\\xa0–', '$62.99\\xa0–', '$817.61\\xa0(12 Offers)–', '$659.98\\xa0(11 Offers)–', '$1,673.69\\xa0(7 Offers)–', '$374.99\\xa0(15 Offers)–', '$1,699.99\\xa0–', '$1,299.99\\xa0–', '$1,099.99\\xa0(2 Offers)–', '$1,099.99\\xa0–', '$2,999.99\\xa0–', '$759.99\\xa0–', '$387.47\\xa0–', '$739.92\\xa0–', '$79.99\\xa0–', '$1,099.99\\xa0(2 Offers)–', '$2,299.99\\xa0(2 Offers)–', '$1,299.99\\xa0–', '$1,499.99\\xa0–', '$205.95\\xa0–', '$175.99\\xa0–', '$49.90\\xa0–', '$169.99\\xa0–', '$1,299.99\\xa0–', '$1,499.99\\xa0–', '$681.90\\xa0(3 Offers)–', '$1,499.99\\xa0–', '$1,399.99\\xa0(2 Offers)–', '$2,399.99\\xa0–', '$1,499.99\\xa0–', '$1,849.99\\xa0–', '$999.00\\xa0–', '$1,999.99\\xa0–', '$2,799.99\\xa0–', '$1,149.99\\xa0–', '$1,299.99\\xa0–', '$1,699.99\\xa0(2 Offers)–', '$1,699.99\\xa0–', '$4,199.99\\xa0(2 Offers)–', '$1,899.99\\xa0–', '$1,099.99\\xa0–', '$3,499.99\\xa0–', '$2,249.99\\xa0–', '$889.00\\xa0(3 Offers)–', '$749.00\\xa0(3 Offers)–']\n"
          ]
        }
      ]
    },
    {
      "cell_type": "code",
      "source": [
        "print(len(Name))"
      ],
      "metadata": {
        "colab": {
          "base_uri": "https://localhost:8080/"
        },
        "id": "USfNSA9HBtLz",
        "outputId": "8d21a88f-b083-4769-c2c9-e0f71fe59d9a"
      },
      "execution_count": 11,
      "outputs": [
        {
          "output_type": "stream",
          "name": "stdout",
          "text": [
            "48\n"
          ]
        }
      ]
    },
    {
      "cell_type": "code",
      "source": [
        "print(len(Price))"
      ],
      "metadata": {
        "colab": {
          "base_uri": "https://localhost:8080/"
        },
        "id": "CLJyqwQpBxM2",
        "outputId": "442c9123-3263-4acf-dfb6-b48626b50abb"
      },
      "execution_count": 12,
      "outputs": [
        {
          "output_type": "stream",
          "name": "stdout",
          "text": [
            "48\n"
          ]
        }
      ]
    },
    {
      "cell_type": "markdown",
      "source": [
        "Shipping Price"
      ],
      "metadata": {
        "id": "plaR_IGvYoZX"
      }
    },
    {
      "cell_type": "code",
      "source": [
        "shipping_price_html = [i for i in SOUP.find_all('li',class_=\"price-ship\")]\n",
        "\n",
        "Shipping_price = list()\n",
        "\n",
        "for i in range(len(shipping_price_html)):\n",
        "  Shipping_price.append(shipping_price_html[i].text)"
      ],
      "metadata": {
        "id": "V4x4ybVmB1KE"
      },
      "execution_count": 13,
      "outputs": []
    },
    {
      "cell_type": "code",
      "source": [
        "print(Shipping_price)"
      ],
      "metadata": {
        "colab": {
          "base_uri": "https://localhost:8080/"
        },
        "id": "RiI7MR2RB5hM",
        "outputId": "99e8f5ef-9e34-402c-9d08-370db96e2f66"
      },
      "execution_count": 14,
      "outputs": [
        {
          "output_type": "stream",
          "name": "stdout",
          "text": [
            "['Free Shipping', '$49.99 Shipping', 'Free Shipping', 'Free Shipping', 'Free Shipping', 'Free Shipping', 'Free Shipping', 'Free Shipping', 'Free Shipping', 'Free Shipping', 'Free Shipping', 'Free Shipping', 'Free Shipping', 'Free Shipping', 'Free Shipping', 'Free Shipping', 'Free Shipping', 'Free Shipping', 'Free Shipping', 'Free Shipping', '$3.94 Shipping', 'Free Shipping', 'Free Shipping', 'Free Shipping', 'Free Shipping', 'Free Shipping', 'Free Shipping', 'Free Shipping', 'Free Shipping', 'Free Shipping', 'Free Shipping', 'Free Shipping', 'Free Shipping', 'Free Shipping', 'Free Shipping', 'Free Shipping', 'Free Shipping', 'Free Shipping', 'Free Shipping', 'Free Shipping', 'Free Shipping', 'Free Shipping', 'Free Shipping', 'Free Shipping']\n"
          ]
        }
      ]
    },
    {
      "cell_type": "code",
      "source": [
        "print(len(Shipping_price))"
      ],
      "metadata": {
        "colab": {
          "base_uri": "https://localhost:8080/"
        },
        "id": "L1RABhlYB8eV",
        "outputId": "1c7653d2-955d-49e1-9e2c-88d3fceeee65"
      },
      "execution_count": 15,
      "outputs": [
        {
          "output_type": "stream",
          "name": "stdout",
          "text": [
            "44\n"
          ]
        }
      ]
    },
    {
      "cell_type": "markdown",
      "source": [
        "Items Rating"
      ],
      "metadata": {
        "id": "6yWLsI0UYsdF"
      }
    },
    {
      "cell_type": "code",
      "source": [
        "rating_html = [i for i in SOUP.find_all('span',class_=\"item-rating-num\")]\n",
        "\n",
        "Rating = list()\n",
        "\n",
        "for i in range(len(rating_html)):\n",
        "  Rating.append(rating_html[i].text)"
      ],
      "metadata": {
        "id": "VkRUwfxUCCfP"
      },
      "execution_count": 16,
      "outputs": []
    },
    {
      "cell_type": "code",
      "source": [
        "print(Rating)"
      ],
      "metadata": {
        "colab": {
          "base_uri": "https://localhost:8080/"
        },
        "id": "Fnt6WiCbCHeD",
        "outputId": "5a5f52c9-0d91-45a9-d957-1a82539d3c70"
      },
      "execution_count": 17,
      "outputs": [
        {
          "output_type": "stream",
          "name": "stdout",
          "text": [
            "['(3)', '(6)', '(3)', '(1)', '(15)', '(4)', '(198)', '(50)', '(38)', '(144)', '(140)', '(355)', '(79)', '(107)', '(50)', '(104)', '(82)', '(284)', '(423)', '(40)', '(8)', '(10)', '(14)', '(7)', '(61)', '(158)', '(131)', '(1)', '(2)', '(29)', '(3)', '(40)', '(85)', '(189)', '(10)', '(31)', '(19)', '(115)', '(21)', '(13)']\n"
          ]
        }
      ]
    },
    {
      "cell_type": "code",
      "source": [
        "print(len(Rating))"
      ],
      "metadata": {
        "colab": {
          "base_uri": "https://localhost:8080/"
        },
        "id": "FUh95yCMCK9J",
        "outputId": "3257cbec-76c6-4bb7-c9f5-79de702b76b3"
      },
      "execution_count": 18,
      "outputs": [
        {
          "output_type": "stream",
          "name": "stdout",
          "text": [
            "40\n"
          ]
        }
      ]
    },
    {
      "cell_type": "markdown",
      "source": [
        "Volume Discount"
      ],
      "metadata": {
        "id": "yj7K98M7YwyM"
      }
    },
    {
      "cell_type": "code",
      "source": [
        "vol_discount_html = [i for i in SOUP.find_all('li',class_=\"price-save \")]\n",
        "\n",
        "Volume_discount = list()\n",
        "\n",
        "for i in range(len(vol_discount_html)):\n",
        "  Volume_discount.append(vol_discount_html[i].text)"
      ],
      "metadata": {
        "id": "jGM9MwE6CPJ_"
      },
      "execution_count": 19,
      "outputs": []
    },
    {
      "cell_type": "code",
      "source": [
        "print(Volume_discount)"
      ],
      "metadata": {
        "colab": {
          "base_uri": "https://localhost:8080/"
        },
        "id": "nTSuByT5CSU1",
        "outputId": "dbdc4ff1-83cb-4832-c7f1-9a7c548a0de8"
      },
      "execution_count": 20,
      "outputs": [
        {
          "output_type": "stream",
          "name": "stdout",
          "text": [
            "['', '', '', '', 'Sale Ends in 12 Hours - Save: 24%', 'Save: 9%', '', '', '', 'Save: 5%', 'Save: 7%', 'Save: 15%', 'Save: 15%', '', 'Save: 5%', '', 'Save: 7%', 'Sale Ends in 12 Hours - ', 'Save: 8%', '', 'Save: 7%', 'Sale Ends in 12 Hours - Save: 9%', '', 'Sale Ends in 12 Hours - ', '', 'Sale Ends in 12 Hours - ', 'Save: 13%', 'Save: 11%', '', 'Save: 6%', '', '', 'Save: 6%', '', 'Save: 9%', 'Sale Ends in 12 Hours - ', 'Save: 6%', '', 'Sale Ends in 12 Hours - Save: 7%', 'Save: 5%', '', '', 'Save: 5%', 'Save: 15%', 'Save: 10%', 'Save: 6%', '', '']\n"
          ]
        }
      ]
    },
    {
      "cell_type": "code",
      "source": [
        "print(len(Volume_discount))"
      ],
      "metadata": {
        "colab": {
          "base_uri": "https://localhost:8080/"
        },
        "id": "YcJTA-mRCWWB",
        "outputId": "9f2f4911-ac8b-4fca-d64a-618f5c3caf28"
      },
      "execution_count": 21,
      "outputs": [
        {
          "output_type": "stream",
          "name": "stdout",
          "text": [
            "48\n"
          ]
        }
      ]
    },
    {
      "cell_type": "markdown",
      "source": [
        "Store in a dictionary{} and convert to a DataFrame"
      ],
      "metadata": {
        "id": "5PS0oCvGY2xK"
      }
    },
    {
      "cell_type": "code",
      "source": [
        "\n",
        "dic = {'Product_Name':Name, 'Product_Price':Price}\n",
        "\n",
        "data = pd.DataFrame.from_dict(dic)\n",
        "data.head()\n",
        "      "
      ],
      "metadata": {
        "colab": {
          "base_uri": "https://localhost:8080/",
          "height": 206
        },
        "id": "wEshZbxoCaJI",
        "outputId": "39608141-69f7-43db-bf07-5935b995f52e"
      },
      "execution_count": 22,
      "outputs": [
        {
          "output_type": "execute_result",
          "data": {
            "text/html": [
              "<div>\n",
              "<style scoped>\n",
              "    .dataframe tbody tr th:only-of-type {\n",
              "        vertical-align: middle;\n",
              "    }\n",
              "\n",
              "    .dataframe tbody tr th {\n",
              "        vertical-align: top;\n",
              "    }\n",
              "\n",
              "    .dataframe thead th {\n",
              "        text-align: right;\n",
              "    }\n",
              "</style>\n",
              "<table border=\"1\" class=\"dataframe\">\n",
              "  <thead>\n",
              "    <tr style=\"text-align: right;\">\n",
              "      <th></th>\n",
              "      <th>Product_Name</th>\n",
              "      <th>Product_Price</th>\n",
              "    </tr>\n",
              "  </thead>\n",
              "  <tbody>\n",
              "    <tr>\n",
              "      <th>0</th>\n",
              "      <td>Yeston Nvidia GeForce GTX 1050 Ti Graphics Car...</td>\n",
              "      <td>$289.00 –</td>\n",
              "    </tr>\n",
              "    <tr>\n",
              "      <th>1</th>\n",
              "      <td>Yeston Radeon RX6700XT 12GB D6 GDDR6 192bit 7n...</td>\n",
              "      <td>$1,099.00 –</td>\n",
              "    </tr>\n",
              "    <tr>\n",
              "      <th>2</th>\n",
              "      <td>Yeston Radeon RX6800XT 16GB D6 GDDR6 256bit 7n...</td>\n",
              "      <td>$1,569.00 –</td>\n",
              "    </tr>\n",
              "    <tr>\n",
              "      <th>3</th>\n",
              "      <td>Yeston Radeon RX6800 16GB D6 GDDR6 256bit 7nm ...</td>\n",
              "      <td>$1,429.00 –</td>\n",
              "    </tr>\n",
              "    <tr>\n",
              "      <th>4</th>\n",
              "      <td>GIGABYTE A520M S2H mATX AM4 4+3 Phases Digital...</td>\n",
              "      <td>$62.99 –</td>\n",
              "    </tr>\n",
              "  </tbody>\n",
              "</table>\n",
              "</div>"
            ],
            "text/plain": [
              "                                        Product_Name Product_Price\n",
              "0  Yeston Nvidia GeForce GTX 1050 Ti Graphics Car...     $289.00 –\n",
              "1  Yeston Radeon RX6700XT 12GB D6 GDDR6 192bit 7n...   $1,099.00 –\n",
              "2  Yeston Radeon RX6800XT 16GB D6 GDDR6 256bit 7n...   $1,569.00 –\n",
              "3  Yeston Radeon RX6800 16GB D6 GDDR6 256bit 7nm ...   $1,429.00 –\n",
              "4  GIGABYTE A520M S2H mATX AM4 4+3 Phases Digital...      $62.99 –"
            ]
          },
          "metadata": {},
          "execution_count": 22
        }
      ]
    },
    {
      "cell_type": "code",
      "source": [
        "dic2 = {'Shipping_Price':Shipping_price}\n",
        "data2 = pd.DataFrame.from_dict(dic2)"
      ],
      "metadata": {
        "id": "F5ckZ5LWCf06"
      },
      "execution_count": 23,
      "outputs": []
    },
    {
      "cell_type": "code",
      "source": [
        "dic3 = {'Rating':Rating}\n",
        "data3 = pd.DataFrame.from_dict(dic3)"
      ],
      "metadata": {
        "id": "6ye1yNB-CkD-"
      },
      "execution_count": 24,
      "outputs": []
    },
    {
      "cell_type": "code",
      "source": [
        "dic4 = {'Volume_Discount':Volume_discount}\n",
        "data4 = pd.DataFrame.from_dict(dic4)"
      ],
      "metadata": {
        "id": "A_8YCOSWCpXs"
      },
      "execution_count": 25,
      "outputs": []
    },
    {
      "cell_type": "code",
      "source": [
        "df = pd.concat([data, data2, data3, data4], axis=1)"
      ],
      "metadata": {
        "id": "hjmIRJzvCsZp"
      },
      "execution_count": 26,
      "outputs": []
    },
    {
      "cell_type": "code",
      "source": [
        "df"
      ],
      "metadata": {
        "colab": {
          "base_uri": "https://localhost:8080/",
          "height": 1000
        },
        "id": "_rt3-AEgCxX1",
        "outputId": "4c1dd778-c284-460c-9c43-a8f17ea8c9ab"
      },
      "execution_count": 27,
      "outputs": [
        {
          "output_type": "execute_result",
          "data": {
            "text/html": [
              "<div>\n",
              "<style scoped>\n",
              "    .dataframe tbody tr th:only-of-type {\n",
              "        vertical-align: middle;\n",
              "    }\n",
              "\n",
              "    .dataframe tbody tr th {\n",
              "        vertical-align: top;\n",
              "    }\n",
              "\n",
              "    .dataframe thead th {\n",
              "        text-align: right;\n",
              "    }\n",
              "</style>\n",
              "<table border=\"1\" class=\"dataframe\">\n",
              "  <thead>\n",
              "    <tr style=\"text-align: right;\">\n",
              "      <th></th>\n",
              "      <th>Product_Name</th>\n",
              "      <th>Product_Price</th>\n",
              "      <th>Shipping_Price</th>\n",
              "      <th>Rating</th>\n",
              "      <th>Volume_Discount</th>\n",
              "    </tr>\n",
              "  </thead>\n",
              "  <tbody>\n",
              "    <tr>\n",
              "      <th>0</th>\n",
              "      <td>Yeston Nvidia GeForce GTX 1050 Ti Graphics Car...</td>\n",
              "      <td>$289.00 –</td>\n",
              "      <td>Free Shipping</td>\n",
              "      <td>(3)</td>\n",
              "      <td></td>\n",
              "    </tr>\n",
              "    <tr>\n",
              "      <th>1</th>\n",
              "      <td>Yeston Radeon RX6700XT 12GB D6 GDDR6 192bit 7n...</td>\n",
              "      <td>$1,099.00 –</td>\n",
              "      <td>$49.99 Shipping</td>\n",
              "      <td>(6)</td>\n",
              "      <td></td>\n",
              "    </tr>\n",
              "    <tr>\n",
              "      <th>2</th>\n",
              "      <td>Yeston Radeon RX6800XT 16GB D6 GDDR6 256bit 7n...</td>\n",
              "      <td>$1,569.00 –</td>\n",
              "      <td>Free Shipping</td>\n",
              "      <td>(3)</td>\n",
              "      <td></td>\n",
              "    </tr>\n",
              "    <tr>\n",
              "      <th>3</th>\n",
              "      <td>Yeston Radeon RX6800 16GB D6 GDDR6 256bit 7nm ...</td>\n",
              "      <td>$1,429.00 –</td>\n",
              "      <td>Free Shipping</td>\n",
              "      <td>(1)</td>\n",
              "      <td></td>\n",
              "    </tr>\n",
              "    <tr>\n",
              "      <th>4</th>\n",
              "      <td>GIGABYTE A520M S2H mATX AM4 4+3 Phases Digital...</td>\n",
              "      <td>$62.99 –</td>\n",
              "      <td>Free Shipping</td>\n",
              "      <td>(15)</td>\n",
              "      <td>Sale Ends in 12 Hours - Save: 24%</td>\n",
              "    </tr>\n",
              "    <tr>\n",
              "      <th>5</th>\n",
              "      <td>GIGABYTE GeForce RTX 3060 EAGLE 12G Graphics C...</td>\n",
              "      <td>$817.61 (12 Offers)–</td>\n",
              "      <td>Free Shipping</td>\n",
              "      <td>(4)</td>\n",
              "      <td>Save: 9%</td>\n",
              "    </tr>\n",
              "    <tr>\n",
              "      <th>6</th>\n",
              "      <td>ASUS GeForce RTX 2060 Overclocked 6G GDDR6 Dua...</td>\n",
              "      <td>$659.98 (11 Offers)–</td>\n",
              "      <td>Free Shipping</td>\n",
              "      <td>(198)</td>\n",
              "      <td></td>\n",
              "    </tr>\n",
              "    <tr>\n",
              "      <th>7</th>\n",
              "      <td>ASUS TUF Gaming NVIDIA GeForce RTX 3080 V2 OC ...</td>\n",
              "      <td>$1,673.69 (7 Offers)–</td>\n",
              "      <td>Free Shipping</td>\n",
              "      <td>(50)</td>\n",
              "      <td></td>\n",
              "    </tr>\n",
              "    <tr>\n",
              "      <th>8</th>\n",
              "      <td>MSI Ventus GeForce GTX 1650 4GB GDDR5 PCI Expr...</td>\n",
              "      <td>$374.99 (15 Offers)–</td>\n",
              "      <td>Free Shipping</td>\n",
              "      <td>(38)</td>\n",
              "      <td></td>\n",
              "    </tr>\n",
              "    <tr>\n",
              "      <th>9</th>\n",
              "      <td>ABS Master Gaming PC - Windows 10 Home - Intel...</td>\n",
              "      <td>$1,699.99 –</td>\n",
              "      <td>Free Shipping</td>\n",
              "      <td>(144)</td>\n",
              "      <td>Save: 5%</td>\n",
              "    </tr>\n",
              "    <tr>\n",
              "      <th>10</th>\n",
              "      <td>ABS Master Gaming PC - Windows 10 Home - Intel...</td>\n",
              "      <td>$1,299.99 –</td>\n",
              "      <td>Free Shipping</td>\n",
              "      <td>(140)</td>\n",
              "      <td>Save: 7%</td>\n",
              "    </tr>\n",
              "    <tr>\n",
              "      <th>11</th>\n",
              "      <td>ABS Master Gaming PC - Windows 10 Home - Intel...</td>\n",
              "      <td>$1,099.99 (2 Offers)–</td>\n",
              "      <td>Free Shipping</td>\n",
              "      <td>(355)</td>\n",
              "      <td>Save: 15%</td>\n",
              "    </tr>\n",
              "    <tr>\n",
              "      <th>12</th>\n",
              "      <td>ABS Master Gaming PC - Windows 10 Home - Intel...</td>\n",
              "      <td>$1,099.99 –</td>\n",
              "      <td>Free Shipping</td>\n",
              "      <td>(79)</td>\n",
              "      <td>Save: 15%</td>\n",
              "    </tr>\n",
              "    <tr>\n",
              "      <th>13</th>\n",
              "      <td>ABS Gladiator Gaming PC - Windows 10 Home - In...</td>\n",
              "      <td>$2,999.99 –</td>\n",
              "      <td>Free Shipping</td>\n",
              "      <td>(107)</td>\n",
              "      <td></td>\n",
              "    </tr>\n",
              "    <tr>\n",
              "      <th>14</th>\n",
              "      <td>GIGABYTE Geforce RTX 2060 6G Graphics Card, 2 ...</td>\n",
              "      <td>$759.99 –</td>\n",
              "      <td>Free Shipping</td>\n",
              "      <td>(50)</td>\n",
              "      <td>Save: 5%</td>\n",
              "    </tr>\n",
              "    <tr>\n",
              "      <th>15</th>\n",
              "      <td>GIGABYTE GeForce GTX 1650 OC 4G Graphics Card,...</td>\n",
              "      <td>$387.47 –</td>\n",
              "      <td>Free Shipping</td>\n",
              "      <td>(104)</td>\n",
              "      <td></td>\n",
              "    </tr>\n",
              "    <tr>\n",
              "      <th>16</th>\n",
              "      <td>GIGABYTE Geforce RTX 2060 OC 6G Graphics Card,...</td>\n",
              "      <td>$739.92 –</td>\n",
              "      <td>Free Shipping</td>\n",
              "      <td>(82)</td>\n",
              "      <td>Save: 7%</td>\n",
              "    </tr>\n",
              "    <tr>\n",
              "      <th>17</th>\n",
              "      <td>Graphics Card HD6770 4G DDR5 High Definition D...</td>\n",
              "      <td>$79.99 –</td>\n",
              "      <td>Free Shipping</td>\n",
              "      <td>(284)</td>\n",
              "      <td>Sale Ends in 12 Hours -</td>\n",
              "    </tr>\n",
              "    <tr>\n",
              "      <th>18</th>\n",
              "      <td>ABS Challenger Gaming PC - Windows 10 Home - I...</td>\n",
              "      <td>$1,099.99 (2 Offers)–</td>\n",
              "      <td>Free Shipping</td>\n",
              "      <td>(423)</td>\n",
              "      <td>Save: 8%</td>\n",
              "    </tr>\n",
              "    <tr>\n",
              "      <th>19</th>\n",
              "      <td>ABS Gladiator Gaming PC - Windows 10 Home - In...</td>\n",
              "      <td>$2,299.99 (2 Offers)–</td>\n",
              "      <td>Free Shipping</td>\n",
              "      <td>(40)</td>\n",
              "      <td></td>\n",
              "    </tr>\n",
              "    <tr>\n",
              "      <th>20</th>\n",
              "      <td>ABS Master Gaming PC - Windows 10 Home - Intel...</td>\n",
              "      <td>$1,299.99 –</td>\n",
              "      <td>$3.94 Shipping</td>\n",
              "      <td>(8)</td>\n",
              "      <td>Save: 7%</td>\n",
              "    </tr>\n",
              "    <tr>\n",
              "      <th>21</th>\n",
              "      <td>ABS Master Gaming PC - Windows 10 Home - Intel...</td>\n",
              "      <td>$1,499.99 –</td>\n",
              "      <td>Free Shipping</td>\n",
              "      <td>(10)</td>\n",
              "      <td>Sale Ends in 12 Hours - Save: 9%</td>\n",
              "    </tr>\n",
              "    <tr>\n",
              "      <th>22</th>\n",
              "      <td>Biostar Gaming Radeon RX 550 4GB GDDR5 128-Bit...</td>\n",
              "      <td>$205.95 –</td>\n",
              "      <td>Free Shipping</td>\n",
              "      <td>(14)</td>\n",
              "      <td></td>\n",
              "    </tr>\n",
              "    <tr>\n",
              "      <th>23</th>\n",
              "      <td>LISM Graphic Card  GTX 750ti 4GB GDDR5 128-Bit...</td>\n",
              "      <td>$175.99 –</td>\n",
              "      <td>Free Shipping</td>\n",
              "      <td>(7)</td>\n",
              "      <td>Sale Ends in 12 Hours -</td>\n",
              "    </tr>\n",
              "    <tr>\n",
              "      <th>24</th>\n",
              "      <td>Alchemy 3 x 8PCIe Aluminum Comb Extension Cabl...</td>\n",
              "      <td>$49.90 –</td>\n",
              "      <td>Free Shipping</td>\n",
              "      <td>(61)</td>\n",
              "      <td></td>\n",
              "    </tr>\n",
              "    <tr>\n",
              "      <th>25</th>\n",
              "      <td>LISM GeForce GTX550Ti 6GB GDDR5 192bit/ PCI Ex...</td>\n",
              "      <td>$169.99 –</td>\n",
              "      <td>Free Shipping</td>\n",
              "      <td>(158)</td>\n",
              "      <td>Sale Ends in 12 Hours -</td>\n",
              "    </tr>\n",
              "    <tr>\n",
              "      <th>26</th>\n",
              "      <td>ABS Master Gaming PC - Windows 10 Home - Intel...</td>\n",
              "      <td>$1,299.99 –</td>\n",
              "      <td>Free Shipping</td>\n",
              "      <td>(131)</td>\n",
              "      <td>Save: 13%</td>\n",
              "    </tr>\n",
              "    <tr>\n",
              "      <th>27</th>\n",
              "      <td>ABS Master Gaming PC - Windows 10 Home - Intel...</td>\n",
              "      <td>$1,499.99 –</td>\n",
              "      <td>Free Shipping</td>\n",
              "      <td>(1)</td>\n",
              "      <td>Save: 11%</td>\n",
              "    </tr>\n",
              "    <tr>\n",
              "      <th>28</th>\n",
              "      <td>GIGABYTE Radeon RX 6600 EAGLE 8G Graphics Card...</td>\n",
              "      <td>$681.90 (3 Offers)–</td>\n",
              "      <td>Free Shipping</td>\n",
              "      <td>(2)</td>\n",
              "      <td></td>\n",
              "    </tr>\n",
              "    <tr>\n",
              "      <th>29</th>\n",
              "      <td>ABS Master Gaming PC - Windows 10 Home - Intel...</td>\n",
              "      <td>$1,499.99 –</td>\n",
              "      <td>Free Shipping</td>\n",
              "      <td>(29)</td>\n",
              "      <td>Save: 6%</td>\n",
              "    </tr>\n",
              "    <tr>\n",
              "      <th>30</th>\n",
              "      <td>ABS Master Gaming PC - Windows 10 Home - Intel...</td>\n",
              "      <td>$1,399.99 (2 Offers)–</td>\n",
              "      <td>Free Shipping</td>\n",
              "      <td>(3)</td>\n",
              "      <td></td>\n",
              "    </tr>\n",
              "    <tr>\n",
              "      <th>31</th>\n",
              "      <td>ABS Gladiator Gaming PC - Windows 10 Home - In...</td>\n",
              "      <td>$2,399.99 –</td>\n",
              "      <td>Free Shipping</td>\n",
              "      <td>(40)</td>\n",
              "      <td></td>\n",
              "    </tr>\n",
              "    <tr>\n",
              "      <th>32</th>\n",
              "      <td>ABS Master Gaming PC - Windows 10 Home - AMD R...</td>\n",
              "      <td>$1,499.99 –</td>\n",
              "      <td>Free Shipping</td>\n",
              "      <td>(85)</td>\n",
              "      <td>Save: 6%</td>\n",
              "    </tr>\n",
              "    <tr>\n",
              "      <th>33</th>\n",
              "      <td>ABS Gladiator Gaming PC - Windows 10 Home - In...</td>\n",
              "      <td>$1,849.99 –</td>\n",
              "      <td>Free Shipping</td>\n",
              "      <td>(189)</td>\n",
              "      <td></td>\n",
              "    </tr>\n",
              "    <tr>\n",
              "      <th>34</th>\n",
              "      <td>ABS Challenger Gaming PC - Windows 10 Home - I...</td>\n",
              "      <td>$999.00 –</td>\n",
              "      <td>Free Shipping</td>\n",
              "      <td>(10)</td>\n",
              "      <td>Save: 9%</td>\n",
              "    </tr>\n",
              "    <tr>\n",
              "      <th>35</th>\n",
              "      <td>ABS Master Gaming PC - Windows 10 Home - Intel...</td>\n",
              "      <td>$1,999.99 –</td>\n",
              "      <td>Free Shipping</td>\n",
              "      <td>(31)</td>\n",
              "      <td>Sale Ends in 12 Hours -</td>\n",
              "    </tr>\n",
              "    <tr>\n",
              "      <th>36</th>\n",
              "      <td>ABS Gladiator Gaming PC - Windows 10 Home - Ry...</td>\n",
              "      <td>$2,799.99 –</td>\n",
              "      <td>Free Shipping</td>\n",
              "      <td>(19)</td>\n",
              "      <td>Save: 6%</td>\n",
              "    </tr>\n",
              "    <tr>\n",
              "      <th>37</th>\n",
              "      <td>ABS Challenger Gaming PC - Windows 10 Home - I...</td>\n",
              "      <td>$1,149.99 –</td>\n",
              "      <td>Free Shipping</td>\n",
              "      <td>(115)</td>\n",
              "      <td></td>\n",
              "    </tr>\n",
              "    <tr>\n",
              "      <th>38</th>\n",
              "      <td>ABS Master Gaming PC - Windows 10 Home - AMD R...</td>\n",
              "      <td>$1,299.99 –</td>\n",
              "      <td>Free Shipping</td>\n",
              "      <td>(21)</td>\n",
              "      <td>Sale Ends in 12 Hours - Save: 7%</td>\n",
              "    </tr>\n",
              "    <tr>\n",
              "      <th>39</th>\n",
              "      <td>ABS Gladiator Gaming PC - Windows 10 Home - In...</td>\n",
              "      <td>$1,699.99 (2 Offers)–</td>\n",
              "      <td>Free Shipping</td>\n",
              "      <td>(13)</td>\n",
              "      <td>Save: 5%</td>\n",
              "    </tr>\n",
              "    <tr>\n",
              "      <th>40</th>\n",
              "      <td>ABS Master Gaming PC - Windows 10 Home - Intel...</td>\n",
              "      <td>$1,699.99 –</td>\n",
              "      <td>Free Shipping</td>\n",
              "      <td>NaN</td>\n",
              "      <td></td>\n",
              "    </tr>\n",
              "    <tr>\n",
              "      <th>41</th>\n",
              "      <td>ABS ROG Gundam Limited Edition Gaming PC - Win...</td>\n",
              "      <td>$4,199.99 (2 Offers)–</td>\n",
              "      <td>Free Shipping</td>\n",
              "      <td>NaN</td>\n",
              "      <td></td>\n",
              "    </tr>\n",
              "    <tr>\n",
              "      <th>42</th>\n",
              "      <td>ABS Gladiator Gaming PC - Windows 11 Pro - Int...</td>\n",
              "      <td>$1,899.99 –</td>\n",
              "      <td>Free Shipping</td>\n",
              "      <td>NaN</td>\n",
              "      <td>Save: 5%</td>\n",
              "    </tr>\n",
              "    <tr>\n",
              "      <th>43</th>\n",
              "      <td>ABS Master Gaming PC - Intel i5 11400F - GeFor...</td>\n",
              "      <td>$1,099.99 –</td>\n",
              "      <td>Free Shipping</td>\n",
              "      <td>NaN</td>\n",
              "      <td>Save: 15%</td>\n",
              "    </tr>\n",
              "    <tr>\n",
              "      <th>44</th>\n",
              "      <td>ABS Legend Gaming PC - Windows 10 Home - Intel...</td>\n",
              "      <td>$3,499.99 –</td>\n",
              "      <td>NaN</td>\n",
              "      <td>NaN</td>\n",
              "      <td>Save: 10%</td>\n",
              "    </tr>\n",
              "    <tr>\n",
              "      <th>45</th>\n",
              "      <td>ABS Gladiator Gaming PC - Windows 10 Home - In...</td>\n",
              "      <td>$2,249.99 –</td>\n",
              "      <td>NaN</td>\n",
              "      <td>NaN</td>\n",
              "      <td>Save: 6%</td>\n",
              "    </tr>\n",
              "    <tr>\n",
              "      <th>46</th>\n",
              "      <td>GIGABYTE GeForce RTX 3060 VISION OC 12G Graphi...</td>\n",
              "      <td>$889.00 (3 Offers)–</td>\n",
              "      <td>NaN</td>\n",
              "      <td>NaN</td>\n",
              "      <td></td>\n",
              "    </tr>\n",
              "    <tr>\n",
              "      <th>47</th>\n",
              "      <td>XFX SPEEDSTER SWFT 210 Radeon RX 6600 8GB GDDR...</td>\n",
              "      <td>$749.00 (3 Offers)–</td>\n",
              "      <td>NaN</td>\n",
              "      <td>NaN</td>\n",
              "      <td></td>\n",
              "    </tr>\n",
              "  </tbody>\n",
              "</table>\n",
              "</div>"
            ],
            "text/plain": [
              "                                         Product_Name  ...                    Volume_Discount\n",
              "0   Yeston Nvidia GeForce GTX 1050 Ti Graphics Car...  ...                                   \n",
              "1   Yeston Radeon RX6700XT 12GB D6 GDDR6 192bit 7n...  ...                                   \n",
              "2   Yeston Radeon RX6800XT 16GB D6 GDDR6 256bit 7n...  ...                                   \n",
              "3   Yeston Radeon RX6800 16GB D6 GDDR6 256bit 7nm ...  ...                                   \n",
              "4   GIGABYTE A520M S2H mATX AM4 4+3 Phases Digital...  ...  Sale Ends in 12 Hours - Save: 24%\n",
              "5   GIGABYTE GeForce RTX 3060 EAGLE 12G Graphics C...  ...                           Save: 9%\n",
              "6   ASUS GeForce RTX 2060 Overclocked 6G GDDR6 Dua...  ...                                   \n",
              "7   ASUS TUF Gaming NVIDIA GeForce RTX 3080 V2 OC ...  ...                                   \n",
              "8   MSI Ventus GeForce GTX 1650 4GB GDDR5 PCI Expr...  ...                                   \n",
              "9   ABS Master Gaming PC - Windows 10 Home - Intel...  ...                           Save: 5%\n",
              "10  ABS Master Gaming PC - Windows 10 Home - Intel...  ...                           Save: 7%\n",
              "11  ABS Master Gaming PC - Windows 10 Home - Intel...  ...                          Save: 15%\n",
              "12  ABS Master Gaming PC - Windows 10 Home - Intel...  ...                          Save: 15%\n",
              "13  ABS Gladiator Gaming PC - Windows 10 Home - In...  ...                                   \n",
              "14  GIGABYTE Geforce RTX 2060 6G Graphics Card, 2 ...  ...                           Save: 5%\n",
              "15  GIGABYTE GeForce GTX 1650 OC 4G Graphics Card,...  ...                                   \n",
              "16  GIGABYTE Geforce RTX 2060 OC 6G Graphics Card,...  ...                           Save: 7%\n",
              "17  Graphics Card HD6770 4G DDR5 High Definition D...  ...           Sale Ends in 12 Hours - \n",
              "18  ABS Challenger Gaming PC - Windows 10 Home - I...  ...                           Save: 8%\n",
              "19  ABS Gladiator Gaming PC - Windows 10 Home - In...  ...                                   \n",
              "20  ABS Master Gaming PC - Windows 10 Home - Intel...  ...                           Save: 7%\n",
              "21  ABS Master Gaming PC - Windows 10 Home - Intel...  ...   Sale Ends in 12 Hours - Save: 9%\n",
              "22  Biostar Gaming Radeon RX 550 4GB GDDR5 128-Bit...  ...                                   \n",
              "23  LISM Graphic Card  GTX 750ti 4GB GDDR5 128-Bit...  ...           Sale Ends in 12 Hours - \n",
              "24  Alchemy 3 x 8PCIe Aluminum Comb Extension Cabl...  ...                                   \n",
              "25  LISM GeForce GTX550Ti 6GB GDDR5 192bit/ PCI Ex...  ...           Sale Ends in 12 Hours - \n",
              "26  ABS Master Gaming PC - Windows 10 Home - Intel...  ...                          Save: 13%\n",
              "27  ABS Master Gaming PC - Windows 10 Home - Intel...  ...                          Save: 11%\n",
              "28  GIGABYTE Radeon RX 6600 EAGLE 8G Graphics Card...  ...                                   \n",
              "29  ABS Master Gaming PC - Windows 10 Home - Intel...  ...                           Save: 6%\n",
              "30  ABS Master Gaming PC - Windows 10 Home - Intel...  ...                                   \n",
              "31  ABS Gladiator Gaming PC - Windows 10 Home - In...  ...                                   \n",
              "32  ABS Master Gaming PC - Windows 10 Home - AMD R...  ...                           Save: 6%\n",
              "33  ABS Gladiator Gaming PC - Windows 10 Home - In...  ...                                   \n",
              "34  ABS Challenger Gaming PC - Windows 10 Home - I...  ...                           Save: 9%\n",
              "35  ABS Master Gaming PC - Windows 10 Home - Intel...  ...           Sale Ends in 12 Hours - \n",
              "36  ABS Gladiator Gaming PC - Windows 10 Home - Ry...  ...                           Save: 6%\n",
              "37  ABS Challenger Gaming PC - Windows 10 Home - I...  ...                                   \n",
              "38  ABS Master Gaming PC - Windows 10 Home - AMD R...  ...   Sale Ends in 12 Hours - Save: 7%\n",
              "39  ABS Gladiator Gaming PC - Windows 10 Home - In...  ...                           Save: 5%\n",
              "40  ABS Master Gaming PC - Windows 10 Home - Intel...  ...                                   \n",
              "41  ABS ROG Gundam Limited Edition Gaming PC - Win...  ...                                   \n",
              "42  ABS Gladiator Gaming PC - Windows 11 Pro - Int...  ...                           Save: 5%\n",
              "43  ABS Master Gaming PC - Intel i5 11400F - GeFor...  ...                          Save: 15%\n",
              "44  ABS Legend Gaming PC - Windows 10 Home - Intel...  ...                          Save: 10%\n",
              "45  ABS Gladiator Gaming PC - Windows 10 Home - In...  ...                           Save: 6%\n",
              "46  GIGABYTE GeForce RTX 3060 VISION OC 12G Graphi...  ...                                   \n",
              "47  XFX SPEEDSTER SWFT 210 Radeon RX 6600 8GB GDDR...  ...                                   \n",
              "\n",
              "[48 rows x 5 columns]"
            ]
          },
          "metadata": {},
          "execution_count": 27
        }
      ]
    },
    {
      "cell_type": "markdown",
      "source": [
        "cleaned the DataFrame by filling the NaN with zero and mode"
      ],
      "metadata": {
        "id": "6z9EEgB_ZJ67"
      }
    },
    {
      "cell_type": "code",
      "source": [
        "df['Shipping_Price'].value_counts()"
      ],
      "metadata": {
        "colab": {
          "base_uri": "https://localhost:8080/"
        },
        "id": "mWUjldmnC1yf",
        "outputId": "13c3b931-1b72-4fa2-9392-9247a78da23d"
      },
      "execution_count": 28,
      "outputs": [
        {
          "output_type": "execute_result",
          "data": {
            "text/plain": [
              "Free Shipping      42\n",
              "$3.94 Shipping      1\n",
              "$49.99 Shipping     1\n",
              "Name: Shipping_Price, dtype: int64"
            ]
          },
          "metadata": {},
          "execution_count": 28
        }
      ]
    },
    {
      "cell_type": "code",
      "source": [
        "df['Shipping_Price']=df['Shipping_Price'].fillna(df['Shipping_Price'].mode()[0])"
      ],
      "metadata": {
        "id": "lssWOQthC8hU"
      },
      "execution_count": 29,
      "outputs": []
    },
    {
      "cell_type": "code",
      "source": [
        "df['Rating'] = df['Rating'].fillna(0)"
      ],
      "metadata": {
        "id": "ASIt9V1pDD0M"
      },
      "execution_count": 30,
      "outputs": []
    },
    {
      "cell_type": "code",
      "source": [
        "df['Volume_Discount'] = df['Volume_Discount'].replace([''], 0)"
      ],
      "metadata": {
        "id": "9MgwhN1vDIBu"
      },
      "execution_count": 31,
      "outputs": []
    },
    {
      "cell_type": "code",
      "source": [
        "#data['result'] = data['result'].map(lambda x: str(x)[:-1])\n",
        "df['Product_Price'] = df['Product_Price'].map(lambda x: str(x)[:6])"
      ],
      "metadata": {
        "id": "VEX8FBhvDLbG"
      },
      "execution_count": 32,
      "outputs": []
    },
    {
      "cell_type": "code",
      "source": [
        "df"
      ],
      "metadata": {
        "colab": {
          "base_uri": "https://localhost:8080/",
          "height": 1000
        },
        "id": "3GCVIzWTDOnJ",
        "outputId": "e15a219a-eebb-44b9-cd94-842267b1cab1"
      },
      "execution_count": 33,
      "outputs": [
        {
          "output_type": "execute_result",
          "data": {
            "text/html": [
              "<div>\n",
              "<style scoped>\n",
              "    .dataframe tbody tr th:only-of-type {\n",
              "        vertical-align: middle;\n",
              "    }\n",
              "\n",
              "    .dataframe tbody tr th {\n",
              "        vertical-align: top;\n",
              "    }\n",
              "\n",
              "    .dataframe thead th {\n",
              "        text-align: right;\n",
              "    }\n",
              "</style>\n",
              "<table border=\"1\" class=\"dataframe\">\n",
              "  <thead>\n",
              "    <tr style=\"text-align: right;\">\n",
              "      <th></th>\n",
              "      <th>Product_Name</th>\n",
              "      <th>Product_Price</th>\n",
              "      <th>Shipping_Price</th>\n",
              "      <th>Rating</th>\n",
              "      <th>Volume_Discount</th>\n",
              "    </tr>\n",
              "  </thead>\n",
              "  <tbody>\n",
              "    <tr>\n",
              "      <th>0</th>\n",
              "      <td>Yeston Nvidia GeForce GTX 1050 Ti Graphics Car...</td>\n",
              "      <td>$289.0</td>\n",
              "      <td>Free Shipping</td>\n",
              "      <td>(3)</td>\n",
              "      <td>0</td>\n",
              "    </tr>\n",
              "    <tr>\n",
              "      <th>1</th>\n",
              "      <td>Yeston Radeon RX6700XT 12GB D6 GDDR6 192bit 7n...</td>\n",
              "      <td>$1,099</td>\n",
              "      <td>$49.99 Shipping</td>\n",
              "      <td>(6)</td>\n",
              "      <td>0</td>\n",
              "    </tr>\n",
              "    <tr>\n",
              "      <th>2</th>\n",
              "      <td>Yeston Radeon RX6800XT 16GB D6 GDDR6 256bit 7n...</td>\n",
              "      <td>$1,569</td>\n",
              "      <td>Free Shipping</td>\n",
              "      <td>(3)</td>\n",
              "      <td>0</td>\n",
              "    </tr>\n",
              "    <tr>\n",
              "      <th>3</th>\n",
              "      <td>Yeston Radeon RX6800 16GB D6 GDDR6 256bit 7nm ...</td>\n",
              "      <td>$1,429</td>\n",
              "      <td>Free Shipping</td>\n",
              "      <td>(1)</td>\n",
              "      <td>0</td>\n",
              "    </tr>\n",
              "    <tr>\n",
              "      <th>4</th>\n",
              "      <td>GIGABYTE A520M S2H mATX AM4 4+3 Phases Digital...</td>\n",
              "      <td>$62.99</td>\n",
              "      <td>Free Shipping</td>\n",
              "      <td>(15)</td>\n",
              "      <td>Sale Ends in 12 Hours - Save: 24%</td>\n",
              "    </tr>\n",
              "    <tr>\n",
              "      <th>5</th>\n",
              "      <td>GIGABYTE GeForce RTX 3060 EAGLE 12G Graphics C...</td>\n",
              "      <td>$817.6</td>\n",
              "      <td>Free Shipping</td>\n",
              "      <td>(4)</td>\n",
              "      <td>Save: 9%</td>\n",
              "    </tr>\n",
              "    <tr>\n",
              "      <th>6</th>\n",
              "      <td>ASUS GeForce RTX 2060 Overclocked 6G GDDR6 Dua...</td>\n",
              "      <td>$659.9</td>\n",
              "      <td>Free Shipping</td>\n",
              "      <td>(198)</td>\n",
              "      <td>0</td>\n",
              "    </tr>\n",
              "    <tr>\n",
              "      <th>7</th>\n",
              "      <td>ASUS TUF Gaming NVIDIA GeForce RTX 3080 V2 OC ...</td>\n",
              "      <td>$1,673</td>\n",
              "      <td>Free Shipping</td>\n",
              "      <td>(50)</td>\n",
              "      <td>0</td>\n",
              "    </tr>\n",
              "    <tr>\n",
              "      <th>8</th>\n",
              "      <td>MSI Ventus GeForce GTX 1650 4GB GDDR5 PCI Expr...</td>\n",
              "      <td>$374.9</td>\n",
              "      <td>Free Shipping</td>\n",
              "      <td>(38)</td>\n",
              "      <td>0</td>\n",
              "    </tr>\n",
              "    <tr>\n",
              "      <th>9</th>\n",
              "      <td>ABS Master Gaming PC - Windows 10 Home - Intel...</td>\n",
              "      <td>$1,699</td>\n",
              "      <td>Free Shipping</td>\n",
              "      <td>(144)</td>\n",
              "      <td>Save: 5%</td>\n",
              "    </tr>\n",
              "    <tr>\n",
              "      <th>10</th>\n",
              "      <td>ABS Master Gaming PC - Windows 10 Home - Intel...</td>\n",
              "      <td>$1,299</td>\n",
              "      <td>Free Shipping</td>\n",
              "      <td>(140)</td>\n",
              "      <td>Save: 7%</td>\n",
              "    </tr>\n",
              "    <tr>\n",
              "      <th>11</th>\n",
              "      <td>ABS Master Gaming PC - Windows 10 Home - Intel...</td>\n",
              "      <td>$1,099</td>\n",
              "      <td>Free Shipping</td>\n",
              "      <td>(355)</td>\n",
              "      <td>Save: 15%</td>\n",
              "    </tr>\n",
              "    <tr>\n",
              "      <th>12</th>\n",
              "      <td>ABS Master Gaming PC - Windows 10 Home - Intel...</td>\n",
              "      <td>$1,099</td>\n",
              "      <td>Free Shipping</td>\n",
              "      <td>(79)</td>\n",
              "      <td>Save: 15%</td>\n",
              "    </tr>\n",
              "    <tr>\n",
              "      <th>13</th>\n",
              "      <td>ABS Gladiator Gaming PC - Windows 10 Home - In...</td>\n",
              "      <td>$2,999</td>\n",
              "      <td>Free Shipping</td>\n",
              "      <td>(107)</td>\n",
              "      <td>0</td>\n",
              "    </tr>\n",
              "    <tr>\n",
              "      <th>14</th>\n",
              "      <td>GIGABYTE Geforce RTX 2060 6G Graphics Card, 2 ...</td>\n",
              "      <td>$759.9</td>\n",
              "      <td>Free Shipping</td>\n",
              "      <td>(50)</td>\n",
              "      <td>Save: 5%</td>\n",
              "    </tr>\n",
              "    <tr>\n",
              "      <th>15</th>\n",
              "      <td>GIGABYTE GeForce GTX 1650 OC 4G Graphics Card,...</td>\n",
              "      <td>$387.4</td>\n",
              "      <td>Free Shipping</td>\n",
              "      <td>(104)</td>\n",
              "      <td>0</td>\n",
              "    </tr>\n",
              "    <tr>\n",
              "      <th>16</th>\n",
              "      <td>GIGABYTE Geforce RTX 2060 OC 6G Graphics Card,...</td>\n",
              "      <td>$739.9</td>\n",
              "      <td>Free Shipping</td>\n",
              "      <td>(82)</td>\n",
              "      <td>Save: 7%</td>\n",
              "    </tr>\n",
              "    <tr>\n",
              "      <th>17</th>\n",
              "      <td>Graphics Card HD6770 4G DDR5 High Definition D...</td>\n",
              "      <td>$79.99</td>\n",
              "      <td>Free Shipping</td>\n",
              "      <td>(284)</td>\n",
              "      <td>Sale Ends in 12 Hours -</td>\n",
              "    </tr>\n",
              "    <tr>\n",
              "      <th>18</th>\n",
              "      <td>ABS Challenger Gaming PC - Windows 10 Home - I...</td>\n",
              "      <td>$1,099</td>\n",
              "      <td>Free Shipping</td>\n",
              "      <td>(423)</td>\n",
              "      <td>Save: 8%</td>\n",
              "    </tr>\n",
              "    <tr>\n",
              "      <th>19</th>\n",
              "      <td>ABS Gladiator Gaming PC - Windows 10 Home - In...</td>\n",
              "      <td>$2,299</td>\n",
              "      <td>Free Shipping</td>\n",
              "      <td>(40)</td>\n",
              "      <td>0</td>\n",
              "    </tr>\n",
              "    <tr>\n",
              "      <th>20</th>\n",
              "      <td>ABS Master Gaming PC - Windows 10 Home - Intel...</td>\n",
              "      <td>$1,299</td>\n",
              "      <td>$3.94 Shipping</td>\n",
              "      <td>(8)</td>\n",
              "      <td>Save: 7%</td>\n",
              "    </tr>\n",
              "    <tr>\n",
              "      <th>21</th>\n",
              "      <td>ABS Master Gaming PC - Windows 10 Home - Intel...</td>\n",
              "      <td>$1,499</td>\n",
              "      <td>Free Shipping</td>\n",
              "      <td>(10)</td>\n",
              "      <td>Sale Ends in 12 Hours - Save: 9%</td>\n",
              "    </tr>\n",
              "    <tr>\n",
              "      <th>22</th>\n",
              "      <td>Biostar Gaming Radeon RX 550 4GB GDDR5 128-Bit...</td>\n",
              "      <td>$205.9</td>\n",
              "      <td>Free Shipping</td>\n",
              "      <td>(14)</td>\n",
              "      <td>0</td>\n",
              "    </tr>\n",
              "    <tr>\n",
              "      <th>23</th>\n",
              "      <td>LISM Graphic Card  GTX 750ti 4GB GDDR5 128-Bit...</td>\n",
              "      <td>$175.9</td>\n",
              "      <td>Free Shipping</td>\n",
              "      <td>(7)</td>\n",
              "      <td>Sale Ends in 12 Hours -</td>\n",
              "    </tr>\n",
              "    <tr>\n",
              "      <th>24</th>\n",
              "      <td>Alchemy 3 x 8PCIe Aluminum Comb Extension Cabl...</td>\n",
              "      <td>$49.90</td>\n",
              "      <td>Free Shipping</td>\n",
              "      <td>(61)</td>\n",
              "      <td>0</td>\n",
              "    </tr>\n",
              "    <tr>\n",
              "      <th>25</th>\n",
              "      <td>LISM GeForce GTX550Ti 6GB GDDR5 192bit/ PCI Ex...</td>\n",
              "      <td>$169.9</td>\n",
              "      <td>Free Shipping</td>\n",
              "      <td>(158)</td>\n",
              "      <td>Sale Ends in 12 Hours -</td>\n",
              "    </tr>\n",
              "    <tr>\n",
              "      <th>26</th>\n",
              "      <td>ABS Master Gaming PC - Windows 10 Home - Intel...</td>\n",
              "      <td>$1,299</td>\n",
              "      <td>Free Shipping</td>\n",
              "      <td>(131)</td>\n",
              "      <td>Save: 13%</td>\n",
              "    </tr>\n",
              "    <tr>\n",
              "      <th>27</th>\n",
              "      <td>ABS Master Gaming PC - Windows 10 Home - Intel...</td>\n",
              "      <td>$1,499</td>\n",
              "      <td>Free Shipping</td>\n",
              "      <td>(1)</td>\n",
              "      <td>Save: 11%</td>\n",
              "    </tr>\n",
              "    <tr>\n",
              "      <th>28</th>\n",
              "      <td>GIGABYTE Radeon RX 6600 EAGLE 8G Graphics Card...</td>\n",
              "      <td>$681.9</td>\n",
              "      <td>Free Shipping</td>\n",
              "      <td>(2)</td>\n",
              "      <td>0</td>\n",
              "    </tr>\n",
              "    <tr>\n",
              "      <th>29</th>\n",
              "      <td>ABS Master Gaming PC - Windows 10 Home - Intel...</td>\n",
              "      <td>$1,499</td>\n",
              "      <td>Free Shipping</td>\n",
              "      <td>(29)</td>\n",
              "      <td>Save: 6%</td>\n",
              "    </tr>\n",
              "    <tr>\n",
              "      <th>30</th>\n",
              "      <td>ABS Master Gaming PC - Windows 10 Home - Intel...</td>\n",
              "      <td>$1,399</td>\n",
              "      <td>Free Shipping</td>\n",
              "      <td>(3)</td>\n",
              "      <td>0</td>\n",
              "    </tr>\n",
              "    <tr>\n",
              "      <th>31</th>\n",
              "      <td>ABS Gladiator Gaming PC - Windows 10 Home - In...</td>\n",
              "      <td>$2,399</td>\n",
              "      <td>Free Shipping</td>\n",
              "      <td>(40)</td>\n",
              "      <td>0</td>\n",
              "    </tr>\n",
              "    <tr>\n",
              "      <th>32</th>\n",
              "      <td>ABS Master Gaming PC - Windows 10 Home - AMD R...</td>\n",
              "      <td>$1,499</td>\n",
              "      <td>Free Shipping</td>\n",
              "      <td>(85)</td>\n",
              "      <td>Save: 6%</td>\n",
              "    </tr>\n",
              "    <tr>\n",
              "      <th>33</th>\n",
              "      <td>ABS Gladiator Gaming PC - Windows 10 Home - In...</td>\n",
              "      <td>$1,849</td>\n",
              "      <td>Free Shipping</td>\n",
              "      <td>(189)</td>\n",
              "      <td>0</td>\n",
              "    </tr>\n",
              "    <tr>\n",
              "      <th>34</th>\n",
              "      <td>ABS Challenger Gaming PC - Windows 10 Home - I...</td>\n",
              "      <td>$999.0</td>\n",
              "      <td>Free Shipping</td>\n",
              "      <td>(10)</td>\n",
              "      <td>Save: 9%</td>\n",
              "    </tr>\n",
              "    <tr>\n",
              "      <th>35</th>\n",
              "      <td>ABS Master Gaming PC - Windows 10 Home - Intel...</td>\n",
              "      <td>$1,999</td>\n",
              "      <td>Free Shipping</td>\n",
              "      <td>(31)</td>\n",
              "      <td>Sale Ends in 12 Hours -</td>\n",
              "    </tr>\n",
              "    <tr>\n",
              "      <th>36</th>\n",
              "      <td>ABS Gladiator Gaming PC - Windows 10 Home - Ry...</td>\n",
              "      <td>$2,799</td>\n",
              "      <td>Free Shipping</td>\n",
              "      <td>(19)</td>\n",
              "      <td>Save: 6%</td>\n",
              "    </tr>\n",
              "    <tr>\n",
              "      <th>37</th>\n",
              "      <td>ABS Challenger Gaming PC - Windows 10 Home - I...</td>\n",
              "      <td>$1,149</td>\n",
              "      <td>Free Shipping</td>\n",
              "      <td>(115)</td>\n",
              "      <td>0</td>\n",
              "    </tr>\n",
              "    <tr>\n",
              "      <th>38</th>\n",
              "      <td>ABS Master Gaming PC - Windows 10 Home - AMD R...</td>\n",
              "      <td>$1,299</td>\n",
              "      <td>Free Shipping</td>\n",
              "      <td>(21)</td>\n",
              "      <td>Sale Ends in 12 Hours - Save: 7%</td>\n",
              "    </tr>\n",
              "    <tr>\n",
              "      <th>39</th>\n",
              "      <td>ABS Gladiator Gaming PC - Windows 10 Home - In...</td>\n",
              "      <td>$1,699</td>\n",
              "      <td>Free Shipping</td>\n",
              "      <td>(13)</td>\n",
              "      <td>Save: 5%</td>\n",
              "    </tr>\n",
              "    <tr>\n",
              "      <th>40</th>\n",
              "      <td>ABS Master Gaming PC - Windows 10 Home - Intel...</td>\n",
              "      <td>$1,699</td>\n",
              "      <td>Free Shipping</td>\n",
              "      <td>0</td>\n",
              "      <td>0</td>\n",
              "    </tr>\n",
              "    <tr>\n",
              "      <th>41</th>\n",
              "      <td>ABS ROG Gundam Limited Edition Gaming PC - Win...</td>\n",
              "      <td>$4,199</td>\n",
              "      <td>Free Shipping</td>\n",
              "      <td>0</td>\n",
              "      <td>0</td>\n",
              "    </tr>\n",
              "    <tr>\n",
              "      <th>42</th>\n",
              "      <td>ABS Gladiator Gaming PC - Windows 11 Pro - Int...</td>\n",
              "      <td>$1,899</td>\n",
              "      <td>Free Shipping</td>\n",
              "      <td>0</td>\n",
              "      <td>Save: 5%</td>\n",
              "    </tr>\n",
              "    <tr>\n",
              "      <th>43</th>\n",
              "      <td>ABS Master Gaming PC - Intel i5 11400F - GeFor...</td>\n",
              "      <td>$1,099</td>\n",
              "      <td>Free Shipping</td>\n",
              "      <td>0</td>\n",
              "      <td>Save: 15%</td>\n",
              "    </tr>\n",
              "    <tr>\n",
              "      <th>44</th>\n",
              "      <td>ABS Legend Gaming PC - Windows 10 Home - Intel...</td>\n",
              "      <td>$3,499</td>\n",
              "      <td>Free Shipping</td>\n",
              "      <td>0</td>\n",
              "      <td>Save: 10%</td>\n",
              "    </tr>\n",
              "    <tr>\n",
              "      <th>45</th>\n",
              "      <td>ABS Gladiator Gaming PC - Windows 10 Home - In...</td>\n",
              "      <td>$2,249</td>\n",
              "      <td>Free Shipping</td>\n",
              "      <td>0</td>\n",
              "      <td>Save: 6%</td>\n",
              "    </tr>\n",
              "    <tr>\n",
              "      <th>46</th>\n",
              "      <td>GIGABYTE GeForce RTX 3060 VISION OC 12G Graphi...</td>\n",
              "      <td>$889.0</td>\n",
              "      <td>Free Shipping</td>\n",
              "      <td>0</td>\n",
              "      <td>0</td>\n",
              "    </tr>\n",
              "    <tr>\n",
              "      <th>47</th>\n",
              "      <td>XFX SPEEDSTER SWFT 210 Radeon RX 6600 8GB GDDR...</td>\n",
              "      <td>$749.0</td>\n",
              "      <td>Free Shipping</td>\n",
              "      <td>0</td>\n",
              "      <td>0</td>\n",
              "    </tr>\n",
              "  </tbody>\n",
              "</table>\n",
              "</div>"
            ],
            "text/plain": [
              "                                         Product_Name  ...                    Volume_Discount\n",
              "0   Yeston Nvidia GeForce GTX 1050 Ti Graphics Car...  ...                                  0\n",
              "1   Yeston Radeon RX6700XT 12GB D6 GDDR6 192bit 7n...  ...                                  0\n",
              "2   Yeston Radeon RX6800XT 16GB D6 GDDR6 256bit 7n...  ...                                  0\n",
              "3   Yeston Radeon RX6800 16GB D6 GDDR6 256bit 7nm ...  ...                                  0\n",
              "4   GIGABYTE A520M S2H mATX AM4 4+3 Phases Digital...  ...  Sale Ends in 12 Hours - Save: 24%\n",
              "5   GIGABYTE GeForce RTX 3060 EAGLE 12G Graphics C...  ...                           Save: 9%\n",
              "6   ASUS GeForce RTX 2060 Overclocked 6G GDDR6 Dua...  ...                                  0\n",
              "7   ASUS TUF Gaming NVIDIA GeForce RTX 3080 V2 OC ...  ...                                  0\n",
              "8   MSI Ventus GeForce GTX 1650 4GB GDDR5 PCI Expr...  ...                                  0\n",
              "9   ABS Master Gaming PC - Windows 10 Home - Intel...  ...                           Save: 5%\n",
              "10  ABS Master Gaming PC - Windows 10 Home - Intel...  ...                           Save: 7%\n",
              "11  ABS Master Gaming PC - Windows 10 Home - Intel...  ...                          Save: 15%\n",
              "12  ABS Master Gaming PC - Windows 10 Home - Intel...  ...                          Save: 15%\n",
              "13  ABS Gladiator Gaming PC - Windows 10 Home - In...  ...                                  0\n",
              "14  GIGABYTE Geforce RTX 2060 6G Graphics Card, 2 ...  ...                           Save: 5%\n",
              "15  GIGABYTE GeForce GTX 1650 OC 4G Graphics Card,...  ...                                  0\n",
              "16  GIGABYTE Geforce RTX 2060 OC 6G Graphics Card,...  ...                           Save: 7%\n",
              "17  Graphics Card HD6770 4G DDR5 High Definition D...  ...           Sale Ends in 12 Hours - \n",
              "18  ABS Challenger Gaming PC - Windows 10 Home - I...  ...                           Save: 8%\n",
              "19  ABS Gladiator Gaming PC - Windows 10 Home - In...  ...                                  0\n",
              "20  ABS Master Gaming PC - Windows 10 Home - Intel...  ...                           Save: 7%\n",
              "21  ABS Master Gaming PC - Windows 10 Home - Intel...  ...   Sale Ends in 12 Hours - Save: 9%\n",
              "22  Biostar Gaming Radeon RX 550 4GB GDDR5 128-Bit...  ...                                  0\n",
              "23  LISM Graphic Card  GTX 750ti 4GB GDDR5 128-Bit...  ...           Sale Ends in 12 Hours - \n",
              "24  Alchemy 3 x 8PCIe Aluminum Comb Extension Cabl...  ...                                  0\n",
              "25  LISM GeForce GTX550Ti 6GB GDDR5 192bit/ PCI Ex...  ...           Sale Ends in 12 Hours - \n",
              "26  ABS Master Gaming PC - Windows 10 Home - Intel...  ...                          Save: 13%\n",
              "27  ABS Master Gaming PC - Windows 10 Home - Intel...  ...                          Save: 11%\n",
              "28  GIGABYTE Radeon RX 6600 EAGLE 8G Graphics Card...  ...                                  0\n",
              "29  ABS Master Gaming PC - Windows 10 Home - Intel...  ...                           Save: 6%\n",
              "30  ABS Master Gaming PC - Windows 10 Home - Intel...  ...                                  0\n",
              "31  ABS Gladiator Gaming PC - Windows 10 Home - In...  ...                                  0\n",
              "32  ABS Master Gaming PC - Windows 10 Home - AMD R...  ...                           Save: 6%\n",
              "33  ABS Gladiator Gaming PC - Windows 10 Home - In...  ...                                  0\n",
              "34  ABS Challenger Gaming PC - Windows 10 Home - I...  ...                           Save: 9%\n",
              "35  ABS Master Gaming PC - Windows 10 Home - Intel...  ...           Sale Ends in 12 Hours - \n",
              "36  ABS Gladiator Gaming PC - Windows 10 Home - Ry...  ...                           Save: 6%\n",
              "37  ABS Challenger Gaming PC - Windows 10 Home - I...  ...                                  0\n",
              "38  ABS Master Gaming PC - Windows 10 Home - AMD R...  ...   Sale Ends in 12 Hours - Save: 7%\n",
              "39  ABS Gladiator Gaming PC - Windows 10 Home - In...  ...                           Save: 5%\n",
              "40  ABS Master Gaming PC - Windows 10 Home - Intel...  ...                                  0\n",
              "41  ABS ROG Gundam Limited Edition Gaming PC - Win...  ...                                  0\n",
              "42  ABS Gladiator Gaming PC - Windows 11 Pro - Int...  ...                           Save: 5%\n",
              "43  ABS Master Gaming PC - Intel i5 11400F - GeFor...  ...                          Save: 15%\n",
              "44  ABS Legend Gaming PC - Windows 10 Home - Intel...  ...                          Save: 10%\n",
              "45  ABS Gladiator Gaming PC - Windows 10 Home - In...  ...                           Save: 6%\n",
              "46  GIGABYTE GeForce RTX 3060 VISION OC 12G Graphi...  ...                                  0\n",
              "47  XFX SPEEDSTER SWFT 210 Radeon RX 6600 8GB GDDR...  ...                                  0\n",
              "\n",
              "[48 rows x 5 columns]"
            ]
          },
          "metadata": {},
          "execution_count": 33
        }
      ]
    },
    {
      "cell_type": "markdown",
      "source": [
        "Saving to a CSV file"
      ],
      "metadata": {
        "id": "lnYxC59hZXL9"
      }
    },
    {
      "cell_type": "code",
      "source": [
        "df.to_csv('Graphic_cards.csv')"
      ],
      "metadata": {
        "id": "UXyOQErZDRdt"
      },
      "execution_count": 34,
      "outputs": []
    },
    {
      "cell_type": "code",
      "source": [
        ""
      ],
      "metadata": {
        "id": "Lhv7J41ADhrZ"
      },
      "execution_count": 34,
      "outputs": []
    }
  ]
}